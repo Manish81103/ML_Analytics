{
 "cells": [
  {
   "cell_type": "code",
   "execution_count": 1,
   "id": "e57d9372",
   "metadata": {},
   "outputs": [],
   "source": [
    "import numpy as np\n",
    "import pandas as pd\n",
    "import matplotlib.pyplot as plt\n",
    "import seaborn as sns\n",
    "from sklearn.model_selection import train_test_split,GridSearchCV\n",
    "from sklearn.tree import DecisionTreeClassifier\n",
    "from sklearn.preprocessing import OneHotEncoder,RobustScaler,LabelEncoder\n",
    "from sklearn.compose import ColumnTransformer\n",
    "from sklearn.metrics import accuracy_score,f1_score,classification_report"
   ]
  },
  {
   "cell_type": "code",
   "execution_count": 2,
   "id": "0960b790",
   "metadata": {},
   "outputs": [],
   "source": [
    "data=pd.read_csv('loan_dataset.csv')"
   ]
  },
  {
   "cell_type": "code",
   "execution_count": 3,
   "id": "f8b02569",
   "metadata": {},
   "outputs": [
    {
     "data": {
      "text/html": [
       "<div>\n",
       "<style scoped>\n",
       "    .dataframe tbody tr th:only-of-type {\n",
       "        vertical-align: middle;\n",
       "    }\n",
       "\n",
       "    .dataframe tbody tr th {\n",
       "        vertical-align: top;\n",
       "    }\n",
       "\n",
       "    .dataframe thead th {\n",
       "        text-align: right;\n",
       "    }\n",
       "</style>\n",
       "<table border=\"1\" class=\"dataframe\">\n",
       "  <thead>\n",
       "    <tr style=\"text-align: right;\">\n",
       "      <th></th>\n",
       "      <th>loan_id</th>\n",
       "      <th>no_of_dependents</th>\n",
       "      <th>education</th>\n",
       "      <th>self_employed</th>\n",
       "      <th>income_annum</th>\n",
       "      <th>loan_amount</th>\n",
       "      <th>loan_term</th>\n",
       "      <th>cibil_score</th>\n",
       "      <th>residential_assets_value</th>\n",
       "      <th>commercial_assets_value</th>\n",
       "      <th>luxury_assets_value</th>\n",
       "      <th>bank_asset_value</th>\n",
       "      <th>loan_status</th>\n",
       "    </tr>\n",
       "  </thead>\n",
       "  <tbody>\n",
       "    <tr>\n",
       "      <th>0</th>\n",
       "      <td>1</td>\n",
       "      <td>2</td>\n",
       "      <td>NaN</td>\n",
       "      <td>No</td>\n",
       "      <td>9600000</td>\n",
       "      <td>29900000</td>\n",
       "      <td>12</td>\n",
       "      <td>778</td>\n",
       "      <td>2400000.0</td>\n",
       "      <td>17600000.0</td>\n",
       "      <td>NaN</td>\n",
       "      <td>8000000.0</td>\n",
       "      <td>Approved</td>\n",
       "    </tr>\n",
       "    <tr>\n",
       "      <th>1</th>\n",
       "      <td>2</td>\n",
       "      <td>0</td>\n",
       "      <td>Not Graduate</td>\n",
       "      <td>Yes</td>\n",
       "      <td>4100000</td>\n",
       "      <td>12200000</td>\n",
       "      <td>8</td>\n",
       "      <td>417</td>\n",
       "      <td>NaN</td>\n",
       "      <td>2200000.0</td>\n",
       "      <td>8800000.0</td>\n",
       "      <td>3300000.0</td>\n",
       "      <td>Rejected</td>\n",
       "    </tr>\n",
       "    <tr>\n",
       "      <th>2</th>\n",
       "      <td>3</td>\n",
       "      <td>3</td>\n",
       "      <td>Graduate</td>\n",
       "      <td>No</td>\n",
       "      <td>9100000</td>\n",
       "      <td>29700000</td>\n",
       "      <td>20</td>\n",
       "      <td>506</td>\n",
       "      <td>7100000.0</td>\n",
       "      <td>NaN</td>\n",
       "      <td>33300000.0</td>\n",
       "      <td>12800000.0</td>\n",
       "      <td>Rejected</td>\n",
       "    </tr>\n",
       "    <tr>\n",
       "      <th>3</th>\n",
       "      <td>4</td>\n",
       "      <td>3</td>\n",
       "      <td>NaN</td>\n",
       "      <td>No</td>\n",
       "      <td>8200000</td>\n",
       "      <td>30700000</td>\n",
       "      <td>8</td>\n",
       "      <td>467</td>\n",
       "      <td>18200000.0</td>\n",
       "      <td>3300000.0</td>\n",
       "      <td>23300000.0</td>\n",
       "      <td>7900000.0</td>\n",
       "      <td>Rejected</td>\n",
       "    </tr>\n",
       "    <tr>\n",
       "      <th>4</th>\n",
       "      <td>5</td>\n",
       "      <td>5</td>\n",
       "      <td>Not Graduate</td>\n",
       "      <td>Yes</td>\n",
       "      <td>9800000</td>\n",
       "      <td>24200000</td>\n",
       "      <td>20</td>\n",
       "      <td>382</td>\n",
       "      <td>12400000.0</td>\n",
       "      <td>8200000.0</td>\n",
       "      <td>29400000.0</td>\n",
       "      <td>5000000.0</td>\n",
       "      <td>Rejected</td>\n",
       "    </tr>\n",
       "  </tbody>\n",
       "</table>\n",
       "</div>"
      ],
      "text/plain": [
       "   loan_id  no_of_dependents      education self_employed  income_annum  \\\n",
       "0        1                 2            NaN            No       9600000   \n",
       "1        2                 0   Not Graduate           Yes       4100000   \n",
       "2        3                 3       Graduate            No       9100000   \n",
       "3        4                 3            NaN            No       8200000   \n",
       "4        5                 5   Not Graduate           Yes       9800000   \n",
       "\n",
       "   loan_amount  loan_term  cibil_score  residential_assets_value  \\\n",
       "0     29900000         12          778                 2400000.0   \n",
       "1     12200000          8          417                       NaN   \n",
       "2     29700000         20          506                 7100000.0   \n",
       "3     30700000          8          467                18200000.0   \n",
       "4     24200000         20          382                12400000.0   \n",
       "\n",
       "   commercial_assets_value  luxury_assets_value  bank_asset_value loan_status  \n",
       "0               17600000.0                  NaN         8000000.0    Approved  \n",
       "1                2200000.0            8800000.0         3300000.0    Rejected  \n",
       "2                      NaN           33300000.0        12800000.0    Rejected  \n",
       "3                3300000.0           23300000.0         7900000.0    Rejected  \n",
       "4                8200000.0           29400000.0         5000000.0    Rejected  "
      ]
     },
     "execution_count": 3,
     "metadata": {},
     "output_type": "execute_result"
    }
   ],
   "source": [
    "df=data.copy()\n",
    "df.head()"
   ]
  },
  {
   "cell_type": "code",
   "execution_count": 4,
   "id": "bfc0c8f0",
   "metadata": {},
   "outputs": [
    {
     "data": {
      "text/plain": [
       "Index(['loan_id', 'no_of_dependents', 'education', 'self_employed',\n",
       "       'income_annum', 'loan_amount', 'loan_term', 'cibil_score',\n",
       "       'residential_assets_value', 'commercial_assets_value',\n",
       "       'luxury_assets_value', 'bank_asset_value', 'loan_status'],\n",
       "      dtype='object')"
      ]
     },
     "execution_count": 4,
     "metadata": {},
     "output_type": "execute_result"
    }
   ],
   "source": [
    "df.columns"
   ]
  },
  {
   "cell_type": "code",
   "execution_count": 5,
   "id": "afec4766",
   "metadata": {},
   "outputs": [],
   "source": [
    "df.drop('loan_id',axis=1,inplace=True)"
   ]
  },
  {
   "cell_type": "code",
   "execution_count": 6,
   "id": "2758a976",
   "metadata": {},
   "outputs": [
    {
     "data": {
      "text/plain": [
       "(4269, 12)"
      ]
     },
     "execution_count": 6,
     "metadata": {},
     "output_type": "execute_result"
    }
   ],
   "source": [
    "df.shape"
   ]
  },
  {
   "cell_type": "code",
   "execution_count": 7,
   "id": "2a40ef7d",
   "metadata": {},
   "outputs": [
    {
     "name": "stdout",
     "output_type": "stream",
     "text": [
      "<class 'pandas.core.frame.DataFrame'>\n",
      "RangeIndex: 4269 entries, 0 to 4268\n",
      "Data columns (total 12 columns):\n",
      " #   Column                    Non-Null Count  Dtype  \n",
      "---  ------                    --------------  -----  \n",
      " 0   no_of_dependents          4269 non-null   int64  \n",
      " 1   education                 3629 non-null   object \n",
      " 2   self_employed             3928 non-null   object \n",
      " 3   income_annum              4269 non-null   int64  \n",
      " 4   loan_amount               4269 non-null   int64  \n",
      " 5   loan_term                 4269 non-null   int64  \n",
      " 6   cibil_score               4269 non-null   int64  \n",
      " 7   residential_assets_value  3885 non-null   float64\n",
      " 8   commercial_assets_value   4141 non-null   float64\n",
      " 9   luxury_assets_value       4013 non-null   float64\n",
      " 10  bank_asset_value          3843 non-null   float64\n",
      " 11  loan_status               4269 non-null   object \n",
      "dtypes: float64(4), int64(5), object(3)\n",
      "memory usage: 400.3+ KB\n"
     ]
    }
   ],
   "source": [
    "df.info()"
   ]
  },
  {
   "cell_type": "code",
   "execution_count": 8,
   "id": "58b5a214",
   "metadata": {},
   "outputs": [
    {
     "data": {
      "text/plain": [
       "no_of_dependents              0\n",
       "education                   640\n",
       "self_employed               341\n",
       "income_annum                  0\n",
       "loan_amount                   0\n",
       "loan_term                     0\n",
       "cibil_score                   0\n",
       "residential_assets_value    384\n",
       "commercial_assets_value     128\n",
       "luxury_assets_value         256\n",
       "bank_asset_value            426\n",
       "loan_status                   0\n",
       "dtype: int64"
      ]
     },
     "execution_count": 8,
     "metadata": {},
     "output_type": "execute_result"
    }
   ],
   "source": [
    "df.isnull().sum()"
   ]
  },
  {
   "cell_type": "code",
   "execution_count": 9,
   "id": "ecd7fba2",
   "metadata": {},
   "outputs": [
    {
     "data": {
      "text/html": [
       "<div>\n",
       "<style scoped>\n",
       "    .dataframe tbody tr th:only-of-type {\n",
       "        vertical-align: middle;\n",
       "    }\n",
       "\n",
       "    .dataframe tbody tr th {\n",
       "        vertical-align: top;\n",
       "    }\n",
       "\n",
       "    .dataframe thead th {\n",
       "        text-align: right;\n",
       "    }\n",
       "</style>\n",
       "<table border=\"1\" class=\"dataframe\">\n",
       "  <thead>\n",
       "    <tr style=\"text-align: right;\">\n",
       "      <th></th>\n",
       "      <th>no_of_dependents</th>\n",
       "      <th>income_annum</th>\n",
       "      <th>loan_amount</th>\n",
       "      <th>loan_term</th>\n",
       "      <th>cibil_score</th>\n",
       "      <th>residential_assets_value</th>\n",
       "      <th>commercial_assets_value</th>\n",
       "      <th>luxury_assets_value</th>\n",
       "      <th>bank_asset_value</th>\n",
       "    </tr>\n",
       "  </thead>\n",
       "  <tbody>\n",
       "    <tr>\n",
       "      <th>count</th>\n",
       "      <td>4269.000000</td>\n",
       "      <td>4.269000e+03</td>\n",
       "      <td>4.269000e+03</td>\n",
       "      <td>4269.000000</td>\n",
       "      <td>4269.000000</td>\n",
       "      <td>3.885000e+03</td>\n",
       "      <td>4.141000e+03</td>\n",
       "      <td>4.013000e+03</td>\n",
       "      <td>3.843000e+03</td>\n",
       "    </tr>\n",
       "    <tr>\n",
       "      <th>mean</th>\n",
       "      <td>2.498712</td>\n",
       "      <td>5.059124e+06</td>\n",
       "      <td>1.513345e+07</td>\n",
       "      <td>10.900445</td>\n",
       "      <td>599.936051</td>\n",
       "      <td>7.471197e+06</td>\n",
       "      <td>4.974934e+06</td>\n",
       "      <td>1.509556e+07</td>\n",
       "      <td>4.960161e+06</td>\n",
       "    </tr>\n",
       "    <tr>\n",
       "      <th>std</th>\n",
       "      <td>1.695910</td>\n",
       "      <td>2.806840e+06</td>\n",
       "      <td>9.043363e+06</td>\n",
       "      <td>5.709187</td>\n",
       "      <td>172.430401</td>\n",
       "      <td>6.513098e+06</td>\n",
       "      <td>4.377911e+06</td>\n",
       "      <td>9.128965e+06</td>\n",
       "      <td>3.229474e+06</td>\n",
       "    </tr>\n",
       "    <tr>\n",
       "      <th>min</th>\n",
       "      <td>0.000000</td>\n",
       "      <td>2.000000e+05</td>\n",
       "      <td>3.000000e+05</td>\n",
       "      <td>2.000000</td>\n",
       "      <td>300.000000</td>\n",
       "      <td>-1.000000e+05</td>\n",
       "      <td>0.000000e+00</td>\n",
       "      <td>3.000000e+05</td>\n",
       "      <td>0.000000e+00</td>\n",
       "    </tr>\n",
       "    <tr>\n",
       "      <th>25%</th>\n",
       "      <td>1.000000</td>\n",
       "      <td>2.700000e+06</td>\n",
       "      <td>7.700000e+06</td>\n",
       "      <td>6.000000</td>\n",
       "      <td>453.000000</td>\n",
       "      <td>2.200000e+06</td>\n",
       "      <td>1.300000e+06</td>\n",
       "      <td>7.500000e+06</td>\n",
       "      <td>2.300000e+06</td>\n",
       "    </tr>\n",
       "    <tr>\n",
       "      <th>50%</th>\n",
       "      <td>3.000000</td>\n",
       "      <td>5.100000e+06</td>\n",
       "      <td>1.450000e+07</td>\n",
       "      <td>10.000000</td>\n",
       "      <td>600.000000</td>\n",
       "      <td>5.600000e+06</td>\n",
       "      <td>3.700000e+06</td>\n",
       "      <td>1.450000e+07</td>\n",
       "      <td>4.600000e+06</td>\n",
       "    </tr>\n",
       "    <tr>\n",
       "      <th>75%</th>\n",
       "      <td>4.000000</td>\n",
       "      <td>7.500000e+06</td>\n",
       "      <td>2.150000e+07</td>\n",
       "      <td>16.000000</td>\n",
       "      <td>748.000000</td>\n",
       "      <td>1.130000e+07</td>\n",
       "      <td>7.600000e+06</td>\n",
       "      <td>2.170000e+07</td>\n",
       "      <td>7.100000e+06</td>\n",
       "    </tr>\n",
       "    <tr>\n",
       "      <th>max</th>\n",
       "      <td>5.000000</td>\n",
       "      <td>9.900000e+06</td>\n",
       "      <td>3.950000e+07</td>\n",
       "      <td>20.000000</td>\n",
       "      <td>900.000000</td>\n",
       "      <td>2.910000e+07</td>\n",
       "      <td>1.940000e+07</td>\n",
       "      <td>3.920000e+07</td>\n",
       "      <td>1.470000e+07</td>\n",
       "    </tr>\n",
       "  </tbody>\n",
       "</table>\n",
       "</div>"
      ],
      "text/plain": [
       "       no_of_dependents  income_annum   loan_amount    loan_term  cibil_score  \\\n",
       "count       4269.000000  4.269000e+03  4.269000e+03  4269.000000  4269.000000   \n",
       "mean           2.498712  5.059124e+06  1.513345e+07    10.900445   599.936051   \n",
       "std            1.695910  2.806840e+06  9.043363e+06     5.709187   172.430401   \n",
       "min            0.000000  2.000000e+05  3.000000e+05     2.000000   300.000000   \n",
       "25%            1.000000  2.700000e+06  7.700000e+06     6.000000   453.000000   \n",
       "50%            3.000000  5.100000e+06  1.450000e+07    10.000000   600.000000   \n",
       "75%            4.000000  7.500000e+06  2.150000e+07    16.000000   748.000000   \n",
       "max            5.000000  9.900000e+06  3.950000e+07    20.000000   900.000000   \n",
       "\n",
       "       residential_assets_value  commercial_assets_value  luxury_assets_value  \\\n",
       "count              3.885000e+03             4.141000e+03         4.013000e+03   \n",
       "mean               7.471197e+06             4.974934e+06         1.509556e+07   \n",
       "std                6.513098e+06             4.377911e+06         9.128965e+06   \n",
       "min               -1.000000e+05             0.000000e+00         3.000000e+05   \n",
       "25%                2.200000e+06             1.300000e+06         7.500000e+06   \n",
       "50%                5.600000e+06             3.700000e+06         1.450000e+07   \n",
       "75%                1.130000e+07             7.600000e+06         2.170000e+07   \n",
       "max                2.910000e+07             1.940000e+07         3.920000e+07   \n",
       "\n",
       "       bank_asset_value  \n",
       "count      3.843000e+03  \n",
       "mean       4.960161e+06  \n",
       "std        3.229474e+06  \n",
       "min        0.000000e+00  \n",
       "25%        2.300000e+06  \n",
       "50%        4.600000e+06  \n",
       "75%        7.100000e+06  \n",
       "max        1.470000e+07  "
      ]
     },
     "execution_count": 9,
     "metadata": {},
     "output_type": "execute_result"
    }
   ],
   "source": [
    "df.describe()"
   ]
  },
  {
   "cell_type": "code",
   "execution_count": 10,
   "id": "2b8988f9",
   "metadata": {},
   "outputs": [],
   "source": [
    "numerical=[]\n",
    "categorical=[]\n",
    "\n",
    "for col in df:\n",
    "    if df[col].dtype=='O':\n",
    "        categorical.append(col)\n",
    "        \n",
    "    else:\n",
    "        numerical.append(col)"
   ]
  },
  {
   "cell_type": "code",
   "execution_count": 11,
   "id": "7d463828",
   "metadata": {},
   "outputs": [
    {
     "name": "stdout",
     "output_type": "stream",
     "text": [
      "['education', 'self_employed', 'loan_status']\n",
      "\n",
      "['no_of_dependents', 'income_annum', 'loan_amount', 'loan_term', 'cibil_score', 'residential_assets_value', 'commercial_assets_value', 'luxury_assets_value', 'bank_asset_value']\n"
     ]
    }
   ],
   "source": [
    "print(categorical)\n",
    "print()\n",
    "print(numerical)\n"
   ]
  },
  {
   "cell_type": "code",
   "execution_count": 12,
   "id": "6355aabd",
   "metadata": {},
   "outputs": [],
   "source": [
    "# removing leading and trailing spaces from cols\n",
    "\n",
    "df[categorical]=df[categorical].apply(lambda x:x.str.strip())"
   ]
  },
  {
   "cell_type": "markdown",
   "id": "9974beb0",
   "metadata": {},
   "source": [
    "# <center>=====Identifying Outliers====<center>"
   ]
  },
  {
   "cell_type": "code",
   "execution_count": 13,
   "id": "b0fccd42",
   "metadata": {
    "scrolled": false
   },
   "outputs": [
    {
     "data": {
      "image/png": "[encoded data removed]",
      "text/plain": [
       "<Figure size 500x400 with 1 Axes>"
      ]
     },
     "metadata": {},
     "output_type": "display_data"
    },
    {
     "data": {
      "image/png": "[encoded data removed]",
      "text/plain": [
       "<Figure size 500x400 with 1 Axes>"
      ]
     },
     "metadata": {},
     "output_type": "display_data"
    },
    {
     "data": {
      "image/png": "[encoded data removed]",
      "text/plain": [
       "<Figure size 500x400 with 1 Axes>"
      ]
     },
     "metadata": {},
     "output_type": "display_data"
    },
    {
     "data": {
      "image/png": "[encoded data removed]",
      "text/plain": [
       "<Figure size 500x400 with 1 Axes>"
      ]
     },
     "metadata": {},
     "output_type": "display_data"
    },
    {
     "data": {
      "image/png": "[encoded data removed]",
      "text/plain": [
       "<Figure size 500x400 with 1 Axes>"
      ]
     },
     "metadata": {},
     "output_type": "display_data"
    },
    {
     "data": {
      "image/png": "[encoded data removed]",
      "text/plain": [
       "<Figure size 500x400 with 1 Axes>"
      ]
     },
     "metadata": {},
     "output_type": "display_data"
    },
    {
     "data": {
      "image/png": "[encoded data removed]",
      "text/plain": [
       "<Figure size 500x400 with 1 Axes>"
      ]
     },
     "metadata": {},
     "output_type": "display_data"
    },
    {
     "data": {
      "image/png": "[encoded data removed]",
      "text/plain": [
       "<Figure size 500x400 with 1 Axes>"
      ]
     },
     "metadata": {},
     "output_type": "display_data"
    },
    {
     "data": {
      "image/png": "[encoded data removed]",
      "text/plain": [
       "<Figure size 500x400 with 1 Axes>"
      ]
     },
     "metadata": {},
     "output_type": "display_data"
    }
   ],
   "source": [
    "for col in df[numerical]:\n",
    "    plt.figure(figsize=(5,4))\n",
    "    sns.boxplot(df,x=col)"
   ]
  },
  {
   "cell_type": "markdown",
   "id": "8cb1cf67",
   "metadata": {},
   "source": [
    "# <center>====Handling outliers by IQR method====</center>"
   ]
  },
  {
   "cell_type": "code",
   "execution_count": 14,
   "id": "f8ff3715",
   "metadata": {},
   "outputs": [],
   "source": [
    "outlier_cols=['residential_assets_value','commercial_assets_value','bank_asset_value']"
   ]
  },
  {
   "cell_type": "code",
   "execution_count": 15,
   "id": "da472d8c",
   "metadata": {},
   "outputs": [],
   "source": [
    "def iqr_method(data,columns):\n",
    "    data=df\n",
    "    for col in columns:\n",
    "        p25=df[col].quantile(0.25)\n",
    "        p75=df[col].quantile(0.75)\n",
    "\n",
    "\n",
    "\n",
    "        iqr=p75-p25\n",
    "        uf=p75+1.5*iqr\n",
    "        lf=p25-1.5*iqr\n",
    "\n",
    "        df[(df[col]>uf) | (df[col]<lf)].shape\n",
    "\n",
    "        df[(df[col]<uf) & (df[col]>lf)].shape\n",
    "\n",
    "        df[col]=np.where(df[col]>uf,uf,np.where(df[col]<lf,lf,df[col]))\n",
    "\n",
    "\n"
   ]
  },
  {
   "cell_type": "code",
   "execution_count": 16,
   "id": "3ceac627",
   "metadata": {},
   "outputs": [],
   "source": [
    "iqr_method(df,outlier_cols)"
   ]
  },
  {
   "cell_type": "code",
   "execution_count": null,
   "id": "c26d4c8e",
   "metadata": {},
   "outputs": [],
   "source": []
  },
  {
   "cell_type": "markdown",
   "id": "b96c7dd7",
   "metadata": {},
   "source": [
    "# <center><br>Distribution Curves Before and After Handling Outliers</br><center>"
   ]
  },
  {
   "cell_type": "code",
   "execution_count": 17,
   "id": "f35f4521",
   "metadata": {},
   "outputs": [
    {
     "data": {
      "text/plain": [
       "<matplotlib.legend.Legend at 0x1ed554de810>"
      ]
     },
     "execution_count": 17,
     "metadata": {},
     "output_type": "execute_result"
    },
    {
     "data": {
      "image/png": "[encoded data removed]",
      "text/plain": [
       "<Figure size 600x400 with 1 Axes>"
      ]
     },
     "metadata": {},
     "output_type": "display_data"
    },
    {
     "data": {
      "image/png": "[encoded data removed]",
      "text/plain": [
       "<Figure size 600x400 with 1 Axes>"
      ]
     },
     "metadata": {},
     "output_type": "display_data"
    },
    {
     "data": {
      "image/png": "[encoded data removed]",
      "text/plain": [
       "<Figure size 600x400 with 1 Axes>"
      ]
     },
     "metadata": {},
     "output_type": "display_data"
    }
   ],
   "source": [
    "plt.figure(figsize=(6,4))\n",
    "sns.kdeplot(data,x='residential_assets_value',label='After')\n",
    "sns.kdeplot(df,x='residential_assets_value',label='Before')\n",
    "plt.legend()\n",
    "\n",
    "plt.figure(figsize=(6,4))\n",
    "sns.kdeplot(data,x='commercial_assets_value',label='After')\n",
    "sns.kdeplot(df,x='commercial_assets_value',label='Before')\n",
    "plt.legend()\n",
    "\n",
    "plt.figure(figsize=(6,4))\n",
    "sns.kdeplot(data,x='bank_asset_value',label='After')\n",
    "sns.kdeplot(df,x='bank_asset_value',label='Before')\n",
    "plt.legend()"
   ]
  },
  {
   "cell_type": "markdown",
   "id": "f9b4127f",
   "metadata": {},
   "source": [
    "# <center><br>Boxplot Before and After Handling Outliers</br><center>"
   ]
  },
  {
   "cell_type": "code",
   "execution_count": 18,
   "id": "88ab4be0",
   "metadata": {},
   "outputs": [
    {
     "data": {
      "text/plain": [
       "<Axes: xlabel='bank_asset_value'>"
      ]
     },
     "execution_count": 18,
     "metadata": {},
     "output_type": "execute_result"
    },
    {
     "data": {
      "image/png": "[encoded data removed]",
      "text/plain": [
       "<Figure size 500x400 with 1 Axes>"
      ]
     },
     "metadata": {},
     "output_type": "display_data"
    },
    {
     "data": {
      "image/png": "[encoded data removed]",
      "text/plain": [
       "<Figure size 500x400 with 1 Axes>"
      ]
     },
     "metadata": {},
     "output_type": "display_data"
    },
    {
     "data": {
      "image/png": "[encoded data removed]",
      "text/plain": [
       "<Figure size 500x400 with 1 Axes>"
      ]
     },
     "metadata": {},
     "output_type": "display_data"
    }
   ],
   "source": [
    "plt.figure(figsize=(5,4))\n",
    "sns.boxplot(df,x='residential_assets_value')\n",
    "\n",
    "plt.figure(figsize=(5,4))\n",
    "sns.boxplot(df,x='commercial_assets_value')\n",
    "\n",
    "plt.figure(figsize=(5,4))\n",
    "sns.boxplot(df,x='bank_asset_value')"
   ]
  },
  {
   "cell_type": "code",
   "execution_count": null,
   "id": "7aab61da",
   "metadata": {},
   "outputs": [],
   "source": []
  },
  {
   "cell_type": "code",
   "execution_count": 19,
   "id": "62d3626e",
   "metadata": {},
   "outputs": [],
   "source": [
    "# spliting columns\n",
    "\n",
    "x=df.drop('loan_status',axis=1)\n",
    "y=df['loan_status']"
   ]
  },
  {
   "cell_type": "code",
   "execution_count": 20,
   "id": "6adc887e",
   "metadata": {},
   "outputs": [],
   "source": [
    "x_train,x_test,y_train,y_test=train_test_split(x,y,train_size=0.7)"
   ]
  },
  {
   "cell_type": "code",
   "execution_count": 21,
   "id": "e1909201",
   "metadata": {},
   "outputs": [
    {
     "data": {
      "text/plain": [
       "(2988, 11)"
      ]
     },
     "execution_count": 21,
     "metadata": {},
     "output_type": "execute_result"
    }
   ],
   "source": [
    "x_train.shape"
   ]
  },
  {
   "cell_type": "code",
   "execution_count": 22,
   "id": "a8738b05",
   "metadata": {},
   "outputs": [
    {
     "data": {
      "text/plain": [
       "(1281, 11)"
      ]
     },
     "execution_count": 22,
     "metadata": {},
     "output_type": "execute_result"
    }
   ],
   "source": [
    "x_test.shape"
   ]
  },
  {
   "cell_type": "markdown",
   "id": "2cc7b0ed",
   "metadata": {},
   "source": [
    "# <center>======Handling missing values on training data=====<center>"
   ]
  },
  {
   "cell_type": "code",
   "execution_count": 23,
   "id": "7fab525d",
   "metadata": {},
   "outputs": [
    {
     "data": {
      "text/plain": [
       "no_of_dependents              0\n",
       "education                   440\n",
       "self_employed               238\n",
       "income_annum                  0\n",
       "loan_amount                   0\n",
       "loan_term                     0\n",
       "cibil_score                   0\n",
       "residential_assets_value    269\n",
       "commercial_assets_value      92\n",
       "luxury_assets_value         172\n",
       "bank_asset_value            306\n",
       "dtype: int64"
      ]
     },
     "execution_count": 23,
     "metadata": {},
     "output_type": "execute_result"
    }
   ],
   "source": [
    " x_train.isnull().sum()"
   ]
  },
  {
   "cell_type": "markdown",
   "id": "31e3ff3d",
   "metadata": {},
   "source": [
    "# on categorical columns"
   ]
  },
  {
   "cell_type": "markdown",
   "id": "c5a9e8aa",
   "metadata": {},
   "source": [
    "# <center>Random Value Imputation on education column<center>"
   ]
  },
  {
   "cell_type": "code",
   "execution_count": 24,
   "id": "fb5d6f1e",
   "metadata": {},
   "outputs": [
    {
     "data": {
      "text/plain": [
       "Index(['Graduate', 'Not Graduate'], dtype='object', name='education')"
      ]
     },
     "execution_count": 24,
     "metadata": {},
     "output_type": "execute_result"
    }
   ],
   "source": [
    "Labels=x_train['education'].value_counts().index\n",
    "Labels"
   ]
  },
  {
   "cell_type": "code",
   "execution_count": 25,
   "id": "a6cea3d6",
   "metadata": {},
   "outputs": [
    {
     "data": {
      "text/plain": [
       "2548"
      ]
     },
     "execution_count": 25,
     "metadata": {},
     "output_type": "execute_result"
    }
   ],
   "source": [
    "non_null=x_train['education'].notnull().sum()\n",
    "non_null"
   ]
  },
  {
   "cell_type": "code",
   "execution_count": 26,
   "id": "719c458d",
   "metadata": {},
   "outputs": [
    {
     "data": {
      "text/plain": [
       "1272"
      ]
     },
     "execution_count": 26,
     "metadata": {},
     "output_type": "execute_result"
    }
   ],
   "source": [
    "Not_gra=x_train[x_train['education']=='Not Graduate'].shape[0]\n",
    "Not_gra"
   ]
  },
  {
   "cell_type": "code",
   "execution_count": 27,
   "id": "9ef83c1f",
   "metadata": {},
   "outputs": [
    {
     "data": {
      "text/plain": [
       "1276"
      ]
     },
     "execution_count": 27,
     "metadata": {},
     "output_type": "execute_result"
    }
   ],
   "source": [
    "gra=x_train[x_train['education']=='Graduate'].shape[0]\n",
    "gra"
   ]
  },
  {
   "cell_type": "code",
   "execution_count": 28,
   "id": "e468a7da",
   "metadata": {},
   "outputs": [],
   "source": [
    "pro_not_gra=Not_gra/non_null\n",
    "pro_gra=gra/non_null"
   ]
  },
  {
   "cell_type": "code",
   "execution_count": 29,
   "id": "d445b5cf",
   "metadata": {},
   "outputs": [
    {
     "name": "stdout",
     "output_type": "stream",
     "text": [
      "0.49921507064364207\n",
      "\n",
      "0.5007849293563579\n"
     ]
    }
   ],
   "source": [
    "print(pro_not_gra)\n",
    "print()\n",
    "print(pro_gra)"
   ]
  },
  {
   "cell_type": "code",
   "execution_count": 30,
   "id": "d566f63d",
   "metadata": {},
   "outputs": [],
   "source": [
    "x_train['education'].fillna(np.random.choice(Labels,p=(pro_not_gra,pro_gra)),inplace=True)"
   ]
  },
  {
   "cell_type": "markdown",
   "id": "3015d263",
   "metadata": {},
   "source": [
    "# <center>Random Value Imputation on self_employed  column</center>"
   ]
  },
  {
   "cell_type": "code",
   "execution_count": 31,
   "id": "8f05b9b6",
   "metadata": {},
   "outputs": [
    {
     "data": {
      "text/plain": [
       "Index(['Yes', 'No'], dtype='object', name='self_employed')"
      ]
     },
     "execution_count": 31,
     "metadata": {},
     "output_type": "execute_result"
    }
   ],
   "source": [
    "Labels_se=x_train['self_employed'].value_counts().index\n",
    "Labels_se"
   ]
  },
  {
   "cell_type": "code",
   "execution_count": 32,
   "id": "fec6e92d",
   "metadata": {},
   "outputs": [
    {
     "data": {
      "text/plain": [
       "2750"
      ]
     },
     "execution_count": 32,
     "metadata": {},
     "output_type": "execute_result"
    }
   ],
   "source": [
    "not_null=x_train['self_employed'].notnull().sum()\n",
    "not_null"
   ]
  },
  {
   "cell_type": "code",
   "execution_count": 33,
   "id": "07cbdb92",
   "metadata": {},
   "outputs": [
    {
     "data": {
      "text/plain": [
       "1384"
      ]
     },
     "execution_count": 33,
     "metadata": {},
     "output_type": "execute_result"
    }
   ],
   "source": [
    "yes=x_train[x_train['self_employed']=='Yes'].shape[0]\n",
    "yes"
   ]
  },
  {
   "cell_type": "code",
   "execution_count": 34,
   "id": "50c8662c",
   "metadata": {},
   "outputs": [
    {
     "data": {
      "text/plain": [
       "1366"
      ]
     },
     "execution_count": 34,
     "metadata": {},
     "output_type": "execute_result"
    }
   ],
   "source": [
    "no=x_train[x_train['self_employed']=='No'].shape[0]\n",
    "no"
   ]
  },
  {
   "cell_type": "code",
   "execution_count": 35,
   "id": "688eead5",
   "metadata": {},
   "outputs": [],
   "source": [
    "pro_yes=yes/not_null\n",
    "pro_no=no/not_null"
   ]
  },
  {
   "cell_type": "code",
   "execution_count": 36,
   "id": "624eaf1c",
   "metadata": {},
   "outputs": [
    {
     "name": "stdout",
     "output_type": "stream",
     "text": [
      "0.5032727272727273\n",
      "0.49672727272727274\n"
     ]
    }
   ],
   "source": [
    "print(pro_yes)\n",
    "print(pro_no)"
   ]
  },
  {
   "cell_type": "code",
   "execution_count": 37,
   "id": "6c409d96",
   "metadata": {},
   "outputs": [],
   "source": [
    "x_train['self_employed'].fillna(np.random.choice(Labels_se,p=(pro_yes,pro_no)),inplace=True)"
   ]
  },
  {
   "cell_type": "markdown",
   "id": "94d474d8",
   "metadata": {},
   "source": [
    "# <center>Random Value Imputation on numerical columns<center>"
   ]
  },
  {
   "cell_type": "code",
   "execution_count": 38,
   "id": "9ba4eef2",
   "metadata": {},
   "outputs": [
    {
     "data": {
      "text/plain": [
       "no_of_dependents              0\n",
       "income_annum                  0\n",
       "loan_amount                   0\n",
       "loan_term                     0\n",
       "cibil_score                   0\n",
       "residential_assets_value    269\n",
       "commercial_assets_value      92\n",
       "luxury_assets_value         172\n",
       "bank_asset_value            306\n",
       "dtype: int64"
      ]
     },
     "execution_count": 38,
     "metadata": {},
     "output_type": "execute_result"
    }
   ],
   "source": [
    "x_train[numerical].isnull().sum()"
   ]
  },
  {
   "cell_type": "code",
   "execution_count": 39,
   "id": "d24b0621",
   "metadata": {},
   "outputs": [],
   "source": [
    "def randomvalueimputertest(data,columns):\n",
    "    df=data\n",
    "    for col in columns:\n",
    "        missing_vals=x_train[col].isnull().sum()\n",
    "        pool=x_train[col].dropna().sample(missing_vals).values\n",
    "        x_train[col][x_train[col].isnull()]=pool"
   ]
  },
  {
   "cell_type": "code",
   "execution_count": 40,
   "id": "7164efb1",
   "metadata": {},
   "outputs": [
    {
     "data": {
      "text/html": [
       "<div>\n",
       "<style scoped>\n",
       "    .dataframe tbody tr th:only-of-type {\n",
       "        vertical-align: middle;\n",
       "    }\n",
       "\n",
       "    .dataframe tbody tr th {\n",
       "        vertical-align: top;\n",
       "    }\n",
       "\n",
       "    .dataframe thead th {\n",
       "        text-align: right;\n",
       "    }\n",
       "</style>\n",
       "<table border=\"1\" class=\"dataframe\">\n",
       "  <thead>\n",
       "    <tr style=\"text-align: right;\">\n",
       "      <th></th>\n",
       "      <th>residential_assets_value</th>\n",
       "      <th>commercial_assets_value</th>\n",
       "      <th>luxury_assets_value</th>\n",
       "      <th>bank_asset_value</th>\n",
       "    </tr>\n",
       "  </thead>\n",
       "  <tbody>\n",
       "    <tr>\n",
       "      <th>4196</th>\n",
       "      <td>1800000.0</td>\n",
       "      <td>1800000.0</td>\n",
       "      <td>17700000.0</td>\n",
       "      <td>11000000.0</td>\n",
       "    </tr>\n",
       "    <tr>\n",
       "      <th>865</th>\n",
       "      <td>10000000.0</td>\n",
       "      <td>10900000.0</td>\n",
       "      <td>20400000.0</td>\n",
       "      <td>6900000.0</td>\n",
       "    </tr>\n",
       "    <tr>\n",
       "      <th>2132</th>\n",
       "      <td>15200000.0</td>\n",
       "      <td>3200000.0</td>\n",
       "      <td>12200000.0</td>\n",
       "      <td>6500000.0</td>\n",
       "    </tr>\n",
       "    <tr>\n",
       "      <th>201</th>\n",
       "      <td>200000.0</td>\n",
       "      <td>5600000.0</td>\n",
       "      <td>12200000.0</td>\n",
       "      <td>2200000.0</td>\n",
       "    </tr>\n",
       "    <tr>\n",
       "      <th>1485</th>\n",
       "      <td>5000000.0</td>\n",
       "      <td>1500000.0</td>\n",
       "      <td>5900000.0</td>\n",
       "      <td>1600000.0</td>\n",
       "    </tr>\n",
       "  </tbody>\n",
       "</table>\n",
       "</div>"
      ],
      "text/plain": [
       "      residential_assets_value  commercial_assets_value  luxury_assets_value  \\\n",
       "4196                 1800000.0                1800000.0           17700000.0   \n",
       "865                 10000000.0               10900000.0           20400000.0   \n",
       "2132                15200000.0                3200000.0           12200000.0   \n",
       "201                   200000.0                5600000.0           12200000.0   \n",
       "1485                 5000000.0                1500000.0            5900000.0   \n",
       "\n",
       "      bank_asset_value  \n",
       "4196        11000000.0  \n",
       "865          6900000.0  \n",
       "2132         6500000.0  \n",
       "201          2200000.0  \n",
       "1485         1600000.0  "
      ]
     },
     "execution_count": 40,
     "metadata": {},
     "output_type": "execute_result"
    }
   ],
   "source": [
    "missing_columns=x_train[numerical].iloc[:,5:]\n",
    "missing_columns.head()"
   ]
  },
  {
   "cell_type": "code",
   "execution_count": 41,
   "id": "ba02b147",
   "metadata": {},
   "outputs": [
    {
     "name": "stderr",
     "output_type": "stream",
     "text": [
      "C:\\Users\\manish singh\\AppData\\Local\\Temp\\ipykernel_18500\\656847691.py:6: SettingWithCopyWarning: \n",
      "A value is trying to be set on a copy of a slice from a DataFrame\n",
      "\n",
      "See the caveats in the documentation: https://pandas.pydata.org/pandas-docs/stable/user_guide/indexing.html#returning-a-view-versus-a-copy\n",
      "  x_train[col][x_train[col].isnull()]=pool\n",
      "C:\\Users\\manish singh\\AppData\\Local\\Temp\\ipykernel_18500\\656847691.py:6: SettingWithCopyWarning: \n",
      "A value is trying to be set on a copy of a slice from a DataFrame\n",
      "\n",
      "See the caveats in the documentation: https://pandas.pydata.org/pandas-docs/stable/user_guide/indexing.html#returning-a-view-versus-a-copy\n",
      "  x_train[col][x_train[col].isnull()]=pool\n",
      "C:\\Users\\manish singh\\AppData\\Local\\Temp\\ipykernel_18500\\656847691.py:6: SettingWithCopyWarning: \n",
      "A value is trying to be set on a copy of a slice from a DataFrame\n",
      "\n",
      "See the caveats in the documentation: https://pandas.pydata.org/pandas-docs/stable/user_guide/indexing.html#returning-a-view-versus-a-copy\n",
      "  x_train[col][x_train[col].isnull()]=pool\n",
      "C:\\Users\\manish singh\\AppData\\Local\\Temp\\ipykernel_18500\\656847691.py:6: SettingWithCopyWarning: \n",
      "A value is trying to be set on a copy of a slice from a DataFrame\n",
      "\n",
      "See the caveats in the documentation: https://pandas.pydata.org/pandas-docs/stable/user_guide/indexing.html#returning-a-view-versus-a-copy\n",
      "  x_train[col][x_train[col].isnull()]=pool\n"
     ]
    }
   ],
   "source": [
    "randomvalueimputertest(x_train,missing_columns)"
   ]
  },
  {
   "cell_type": "code",
   "execution_count": 42,
   "id": "d490d952",
   "metadata": {},
   "outputs": [
    {
     "data": {
      "text/plain": [
       "no_of_dependents            0\n",
       "education                   0\n",
       "self_employed               0\n",
       "income_annum                0\n",
       "loan_amount                 0\n",
       "loan_term                   0\n",
       "cibil_score                 0\n",
       "residential_assets_value    0\n",
       "commercial_assets_value     0\n",
       "luxury_assets_value         0\n",
       "bank_asset_value            0\n",
       "dtype: int64"
      ]
     },
     "execution_count": 42,
     "metadata": {},
     "output_type": "execute_result"
    }
   ],
   "source": [
    "x_train.isnull().sum()"
   ]
  },
  {
   "cell_type": "markdown",
   "id": "fb6a6e15",
   "metadata": {},
   "source": [
    "# <center>====Incoding and Scaling training data====<center>"
   ]
  },
  {
   "cell_type": "code",
   "execution_count": 43,
   "id": "afbdbd83",
   "metadata": {},
   "outputs": [
    {
     "data": {
      "text/html": [
       "<div>\n",
       "<style scoped>\n",
       "    .dataframe tbody tr th:only-of-type {\n",
       "        vertical-align: middle;\n",
       "    }\n",
       "\n",
       "    .dataframe tbody tr th {\n",
       "        vertical-align: top;\n",
       "    }\n",
       "\n",
       "    .dataframe thead th {\n",
       "        text-align: right;\n",
       "    }\n",
       "</style>\n",
       "<table border=\"1\" class=\"dataframe\">\n",
       "  <thead>\n",
       "    <tr style=\"text-align: right;\">\n",
       "      <th></th>\n",
       "      <th>no_of_dependents</th>\n",
       "      <th>education</th>\n",
       "      <th>self_employed</th>\n",
       "      <th>income_annum</th>\n",
       "      <th>loan_amount</th>\n",
       "      <th>loan_term</th>\n",
       "      <th>cibil_score</th>\n",
       "      <th>residential_assets_value</th>\n",
       "      <th>commercial_assets_value</th>\n",
       "      <th>luxury_assets_value</th>\n",
       "      <th>bank_asset_value</th>\n",
       "    </tr>\n",
       "  </thead>\n",
       "  <tbody>\n",
       "    <tr>\n",
       "      <th>4196</th>\n",
       "      <td>2</td>\n",
       "      <td>Graduate</td>\n",
       "      <td>Yes</td>\n",
       "      <td>7800000</td>\n",
       "      <td>28900000</td>\n",
       "      <td>14</td>\n",
       "      <td>646</td>\n",
       "      <td>1800000.0</td>\n",
       "      <td>1800000.0</td>\n",
       "      <td>17700000.0</td>\n",
       "      <td>11000000.0</td>\n",
       "    </tr>\n",
       "    <tr>\n",
       "      <th>865</th>\n",
       "      <td>5</td>\n",
       "      <td>Not Graduate</td>\n",
       "      <td>Yes</td>\n",
       "      <td>6400000</td>\n",
       "      <td>20300000</td>\n",
       "      <td>16</td>\n",
       "      <td>348</td>\n",
       "      <td>10000000.0</td>\n",
       "      <td>10900000.0</td>\n",
       "      <td>20400000.0</td>\n",
       "      <td>6900000.0</td>\n",
       "    </tr>\n",
       "    <tr>\n",
       "      <th>2132</th>\n",
       "      <td>0</td>\n",
       "      <td>Graduate</td>\n",
       "      <td>Yes</td>\n",
       "      <td>5900000</td>\n",
       "      <td>15200000</td>\n",
       "      <td>16</td>\n",
       "      <td>399</td>\n",
       "      <td>15200000.0</td>\n",
       "      <td>3200000.0</td>\n",
       "      <td>12200000.0</td>\n",
       "      <td>6500000.0</td>\n",
       "    </tr>\n",
       "    <tr>\n",
       "      <th>201</th>\n",
       "      <td>2</td>\n",
       "      <td>Not Graduate</td>\n",
       "      <td>Yes</td>\n",
       "      <td>3800000</td>\n",
       "      <td>8900000</td>\n",
       "      <td>16</td>\n",
       "      <td>389</td>\n",
       "      <td>200000.0</td>\n",
       "      <td>5600000.0</td>\n",
       "      <td>12200000.0</td>\n",
       "      <td>2200000.0</td>\n",
       "    </tr>\n",
       "    <tr>\n",
       "      <th>1485</th>\n",
       "      <td>1</td>\n",
       "      <td>Not Graduate</td>\n",
       "      <td>Yes</td>\n",
       "      <td>1800000</td>\n",
       "      <td>5500000</td>\n",
       "      <td>10</td>\n",
       "      <td>426</td>\n",
       "      <td>5000000.0</td>\n",
       "      <td>1500000.0</td>\n",
       "      <td>5900000.0</td>\n",
       "      <td>1600000.0</td>\n",
       "    </tr>\n",
       "  </tbody>\n",
       "</table>\n",
       "</div>"
      ],
      "text/plain": [
       "      no_of_dependents     education self_employed  income_annum  loan_amount  \\\n",
       "4196                 2      Graduate           Yes       7800000     28900000   \n",
       "865                  5  Not Graduate           Yes       6400000     20300000   \n",
       "2132                 0      Graduate           Yes       5900000     15200000   \n",
       "201                  2  Not Graduate           Yes       3800000      8900000   \n",
       "1485                 1  Not Graduate           Yes       1800000      5500000   \n",
       "\n",
       "      loan_term  cibil_score  residential_assets_value  \\\n",
       "4196         14          646                 1800000.0   \n",
       "865          16          348                10000000.0   \n",
       "2132         16          399                15200000.0   \n",
       "201          16          389                  200000.0   \n",
       "1485         10          426                 5000000.0   \n",
       "\n",
       "      commercial_assets_value  luxury_assets_value  bank_asset_value  \n",
       "4196                1800000.0           17700000.0        11000000.0  \n",
       "865                10900000.0           20400000.0         6900000.0  \n",
       "2132                3200000.0           12200000.0         6500000.0  \n",
       "201                 5600000.0           12200000.0         2200000.0  \n",
       "1485                1500000.0            5900000.0         1600000.0  "
      ]
     },
     "execution_count": 43,
     "metadata": {},
     "output_type": "execute_result"
    }
   ],
   "source": [
    "x_train.head()"
   ]
  },
  {
   "cell_type": "code",
   "execution_count": 44,
   "id": "7bd65189",
   "metadata": {},
   "outputs": [],
   "source": [
    "ohe=OneHotEncoder()\n",
    "rs=RobustScaler()"
   ]
  },
  {
   "cell_type": "code",
   "execution_count": 45,
   "id": "9305762c",
   "metadata": {},
   "outputs": [
    {
     "data": {
      "text/plain": [
       "list[['no_of_dependents', 'income_annum', 'loan_amount', 'loan_term', 'cibil_score', 'residential_assets_value', 'commercial_assets_value', 'luxury_assets_value', 'bank_asset_value']]"
      ]
     },
     "execution_count": 45,
     "metadata": {},
     "output_type": "execute_result"
    }
   ],
   "source": [
    "list[numerical]"
   ]
  },
  {
   "cell_type": "code",
   "execution_count": 46,
   "id": "06e6c004",
   "metadata": {},
   "outputs": [
    {
     "data": {
      "text/plain": [
       "list[['education', 'self_employed', 'loan_status']]"
      ]
     },
     "execution_count": 46,
     "metadata": {},
     "output_type": "execute_result"
    }
   ],
   "source": [
    "list[categorical]"
   ]
  },
  {
   "cell_type": "code",
   "execution_count": 47,
   "id": "12ff8ff8",
   "metadata": {},
   "outputs": [],
   "source": [
    "col_trans=ColumnTransformer(transformers=[('rs',RobustScaler(),numerical),\n",
    "                                          ('ohe',OneHotEncoder(drop='first',handle_unknown='ignore')\n",
    "                                           ,['education','self_employed'])],\n",
    "                                remainder='passthrough')"
   ]
  },
  {
   "cell_type": "code",
   "execution_count": null,
   "id": "374b6c26",
   "metadata": {},
   "outputs": [],
   "source": []
  },
  {
   "cell_type": "code",
   "execution_count": 48,
   "id": "658f09fd",
   "metadata": {},
   "outputs": [
    {
     "data": {
      "text/html": [
       "<style>#sk-container-id-1 {color: black;}#sk-container-id-1 pre{padding: 0;}#sk-container-id-1 div.sk-toggleable {background-color: white;}#sk-container-id-1 label.sk-toggleable__label {cursor: pointer;display: block;width: 100%;margin-bottom: 0;padding: 0.3em;box-sizing: border-box;text-align: center;}#sk-container-id-1 label.sk-toggleable__label-arrow:before {content: \"▸\";float: left;margin-right: 0.25em;color: #696969;}#sk-container-id-1 label.sk-toggleable__label-arrow:hover:before {color: black;}#sk-container-id-1 div.sk-estimator:hover label.sk-toggleable__label-arrow:before {color: black;}#sk-container-id-1 div.sk-toggleable__content {max-height: 0;max-width: 0;overflow: hidden;text-align: left;background-color: #f0f8ff;}#sk-container-id-1 div.sk-toggleable__content pre {margin: 0.2em;color: black;border-radius: 0.25em;background-color: #f0f8ff;}#sk-container-id-1 input.sk-toggleable__control:checked~div.sk-toggleable__content {max-height: 200px;max-width: 100%;overflow: auto;}#sk-container-id-1 input.sk-toggleable__control:checked~label.sk-toggleable__label-arrow:before {content: \"▾\";}#sk-container-id-1 div.sk-estimator input.sk-toggleable__control:checked~label.sk-toggleable__label {background-color: #d4ebff;}#sk-container-id-1 div.sk-label input.sk-toggleable__control:checked~label.sk-toggleable__label {background-color: #d4ebff;}#sk-container-id-1 input.sk-hidden--visually {border: 0;clip: rect(1px 1px 1px 1px);clip: rect(1px, 1px, 1px, 1px);height: 1px;margin: -1px;overflow: hidden;padding: 0;position: absolute;width: 1px;}#sk-container-id-1 div.sk-estimator {font-family: monospace;background-color: #f0f8ff;border: 1px dotted black;border-radius: 0.25em;box-sizing: border-box;margin-bottom: 0.5em;}#sk-container-id-1 div.sk-estimator:hover {background-color: #d4ebff;}#sk-container-id-1 div.sk-parallel-item::after {content: \"\";width: 100%;border-bottom: 1px solid gray;flex-grow: 1;}#sk-container-id-1 div.sk-label:hover label.sk-toggleable__label {background-color: #d4ebff;}#sk-container-id-1 div.sk-serial::before {content: \"\";position: absolute;border-left: 1px solid gray;box-sizing: border-box;top: 0;bottom: 0;left: 50%;z-index: 0;}#sk-container-id-1 div.sk-serial {display: flex;flex-direction: column;align-items: center;background-color: white;padding-right: 0.2em;padding-left: 0.2em;position: relative;}#sk-container-id-1 div.sk-item {position: relative;z-index: 1;}#sk-container-id-1 div.sk-parallel {display: flex;align-items: stretch;justify-content: center;background-color: white;position: relative;}#sk-container-id-1 div.sk-item::before, #sk-container-id-1 div.sk-parallel-item::before {content: \"\";position: absolute;border-left: 1px solid gray;box-sizing: border-box;top: 0;bottom: 0;left: 50%;z-index: -1;}#sk-container-id-1 div.sk-parallel-item {display: flex;flex-direction: column;z-index: 1;position: relative;background-color: white;}#sk-container-id-1 div.sk-parallel-item:first-child::after {align-self: flex-end;width: 50%;}#sk-container-id-1 div.sk-parallel-item:last-child::after {align-self: flex-start;width: 50%;}#sk-container-id-1 div.sk-parallel-item:only-child::after {width: 0;}#sk-container-id-1 div.sk-dashed-wrapped {border: 1px dashed gray;margin: 0 0.4em 0.5em 0.4em;box-sizing: border-box;padding-bottom: 0.4em;background-color: white;}#sk-container-id-1 div.sk-label label {font-family: monospace;font-weight: bold;display: inline-block;line-height: 1.2em;}#sk-container-id-1 div.sk-label-container {text-align: center;}#sk-container-id-1 div.sk-container {/* jupyter's `normalize.less` sets `[hidden] { display: none; }` but bootstrap.min.css set `[hidden] { display: none !important; }` so we also need the `!important` here to be able to override the default hidden behavior on the sphinx rendered scikit-learn.org. See: https://github.com/scikit-learn/scikit-learn/issues/21755 */display: inline-block !important;position: relative;}#sk-container-id-1 div.sk-text-repr-fallback {display: none;}</style><div id=\"sk-container-id-1\" class=\"sk-top-container\"><div class=\"sk-text-repr-fallback\"><pre>ColumnTransformer(remainder=&#x27;passthrough&#x27;,\n",
       "                  transformers=[(&#x27;rs&#x27;, RobustScaler(),\n",
       "                                 [&#x27;no_of_dependents&#x27;, &#x27;income_annum&#x27;,\n",
       "                                  &#x27;loan_amount&#x27;, &#x27;loan_term&#x27;, &#x27;cibil_score&#x27;,\n",
       "                                  &#x27;residential_assets_value&#x27;,\n",
       "                                  &#x27;commercial_assets_value&#x27;,\n",
       "                                  &#x27;luxury_assets_value&#x27;, &#x27;bank_asset_value&#x27;]),\n",
       "                                (&#x27;ohe&#x27;,\n",
       "                                 OneHotEncoder(drop=&#x27;first&#x27;,\n",
       "                                               handle_unknown=&#x27;ignore&#x27;),\n",
       "                                 [&#x27;education&#x27;, &#x27;self_employed&#x27;])])</pre><b>In a Jupyter environment, please rerun this cell to show the HTML representation or trust the notebook. <br />On GitHub, the HTML representation is unable to render, please try loading this page with nbviewer.org.</b></div><div class=\"sk-container\" hidden><div class=\"sk-item sk-dashed-wrapped\"><div class=\"sk-label-container\"><div class=\"sk-label sk-toggleable\"><input class=\"sk-toggleable__control sk-hidden--visually\" id=\"sk-estimator-id-1\" type=\"checkbox\" ><label for=\"sk-estimator-id-1\" class=\"sk-toggleable__label sk-toggleable__label-arrow\">ColumnTransformer</label><div class=\"sk-toggleable__content\"><pre>ColumnTransformer(remainder=&#x27;passthrough&#x27;,\n",
       "                  transformers=[(&#x27;rs&#x27;, RobustScaler(),\n",
       "                                 [&#x27;no_of_dependents&#x27;, &#x27;income_annum&#x27;,\n",
       "                                  &#x27;loan_amount&#x27;, &#x27;loan_term&#x27;, &#x27;cibil_score&#x27;,\n",
       "                                  &#x27;residential_assets_value&#x27;,\n",
       "                                  &#x27;commercial_assets_value&#x27;,\n",
       "                                  &#x27;luxury_assets_value&#x27;, &#x27;bank_asset_value&#x27;]),\n",
       "                                (&#x27;ohe&#x27;,\n",
       "                                 OneHotEncoder(drop=&#x27;first&#x27;,\n",
       "                                               handle_unknown=&#x27;ignore&#x27;),\n",
       "                                 [&#x27;education&#x27;, &#x27;self_employed&#x27;])])</pre></div></div></div><div class=\"sk-parallel\"><div class=\"sk-parallel-item\"><div class=\"sk-item\"><div class=\"sk-label-container\"><div class=\"sk-label sk-toggleable\"><input class=\"sk-toggleable__control sk-hidden--visually\" id=\"sk-estimator-id-2\" type=\"checkbox\" ><label for=\"sk-estimator-id-2\" class=\"sk-toggleable__label sk-toggleable__label-arrow\">rs</label><div class=\"sk-toggleable__content\"><pre>[&#x27;no_of_dependents&#x27;, &#x27;income_annum&#x27;, &#x27;loan_amount&#x27;, &#x27;loan_term&#x27;, &#x27;cibil_score&#x27;, &#x27;residential_assets_value&#x27;, &#x27;commercial_assets_value&#x27;, &#x27;luxury_assets_value&#x27;, &#x27;bank_asset_value&#x27;]</pre></div></div></div><div class=\"sk-serial\"><div class=\"sk-item\"><div class=\"sk-estimator sk-toggleable\"><input class=\"sk-toggleable__control sk-hidden--visually\" id=\"sk-estimator-id-3\" type=\"checkbox\" ><label for=\"sk-estimator-id-3\" class=\"sk-toggleable__label sk-toggleable__label-arrow\">RobustScaler</label><div class=\"sk-toggleable__content\"><pre>RobustScaler()</pre></div></div></div></div></div></div><div class=\"sk-parallel-item\"><div class=\"sk-item\"><div class=\"sk-label-container\"><div class=\"sk-label sk-toggleable\"><input class=\"sk-toggleable__control sk-hidden--visually\" id=\"sk-estimator-id-4\" type=\"checkbox\" ><label for=\"sk-estimator-id-4\" class=\"sk-toggleable__label sk-toggleable__label-arrow\">ohe</label><div class=\"sk-toggleable__content\"><pre>[&#x27;education&#x27;, &#x27;self_employed&#x27;]</pre></div></div></div><div class=\"sk-serial\"><div class=\"sk-item\"><div class=\"sk-estimator sk-toggleable\"><input class=\"sk-toggleable__control sk-hidden--visually\" id=\"sk-estimator-id-5\" type=\"checkbox\" ><label for=\"sk-estimator-id-5\" class=\"sk-toggleable__label sk-toggleable__label-arrow\">OneHotEncoder</label><div class=\"sk-toggleable__content\"><pre>OneHotEncoder(drop=&#x27;first&#x27;, handle_unknown=&#x27;ignore&#x27;)</pre></div></div></div></div></div></div><div class=\"sk-parallel-item\"><div class=\"sk-item\"><div class=\"sk-label-container\"><div class=\"sk-label sk-toggleable\"><input class=\"sk-toggleable__control sk-hidden--visually\" id=\"sk-estimator-id-6\" type=\"checkbox\" ><label for=\"sk-estimator-id-6\" class=\"sk-toggleable__label sk-toggleable__label-arrow\">remainder</label><div class=\"sk-toggleable__content\"><pre></pre></div></div></div><div class=\"sk-serial\"><div class=\"sk-item\"><div class=\"sk-estimator sk-toggleable\"><input class=\"sk-toggleable__control sk-hidden--visually\" id=\"sk-estimator-id-7\" type=\"checkbox\" ><label for=\"sk-estimator-id-7\" class=\"sk-toggleable__label sk-toggleable__label-arrow\">passthrough</label><div class=\"sk-toggleable__content\"><pre>passthrough</pre></div></div></div></div></div></div></div></div></div></div>"
      ],
      "text/plain": [
       "ColumnTransformer(remainder='passthrough',\n",
       "                  transformers=[('rs', RobustScaler(),\n",
       "                                 ['no_of_dependents', 'income_annum',\n",
       "                                  'loan_amount', 'loan_term', 'cibil_score',\n",
       "                                  'residential_assets_value',\n",
       "                                  'commercial_assets_value',\n",
       "                                  'luxury_assets_value', 'bank_asset_value']),\n",
       "                                ('ohe',\n",
       "                                 OneHotEncoder(drop='first',\n",
       "                                               handle_unknown='ignore'),\n",
       "                                 ['education', 'self_employed'])])"
      ]
     },
     "execution_count": 48,
     "metadata": {},
     "output_type": "execute_result"
    }
   ],
   "source": [
    "col_trans"
   ]
  },
  {
   "cell_type": "code",
   "execution_count": 49,
   "id": "e6c51ede",
   "metadata": {},
   "outputs": [],
   "source": [
    "x_train_enc=col_trans.fit_transform(x_train)"
   ]
  },
  {
   "cell_type": "code",
   "execution_count": 50,
   "id": "2dd1991a",
   "metadata": {
    "scrolled": true
   },
   "outputs": [
    {
     "data": {
      "text/html": [
       "<div>\n",
       "<style scoped>\n",
       "    .dataframe tbody tr th:only-of-type {\n",
       "        vertical-align: middle;\n",
       "    }\n",
       "\n",
       "    .dataframe tbody tr th {\n",
       "        vertical-align: top;\n",
       "    }\n",
       "\n",
       "    .dataframe thead th {\n",
       "        text-align: right;\n",
       "    }\n",
       "</style>\n",
       "<table border=\"1\" class=\"dataframe\">\n",
       "  <thead>\n",
       "    <tr style=\"text-align: right;\">\n",
       "      <th></th>\n",
       "      <th>rs__no_of_dependents</th>\n",
       "      <th>rs__income_annum</th>\n",
       "      <th>rs__loan_amount</th>\n",
       "      <th>rs__loan_term</th>\n",
       "      <th>rs__cibil_score</th>\n",
       "      <th>rs__residential_assets_value</th>\n",
       "      <th>rs__commercial_assets_value</th>\n",
       "      <th>rs__luxury_assets_value</th>\n",
       "      <th>rs__bank_asset_value</th>\n",
       "      <th>ohe__education_Not Graduate</th>\n",
       "      <th>ohe__self_employed_Yes</th>\n",
       "    </tr>\n",
       "  </thead>\n",
       "  <tbody>\n",
       "    <tr>\n",
       "      <th>0</th>\n",
       "      <td>-0.333333</td>\n",
       "      <td>0.571429</td>\n",
       "      <td>1.035971</td>\n",
       "      <td>0.4</td>\n",
       "      <td>0.161480</td>\n",
       "      <td>-0.402174</td>\n",
       "      <td>-0.301587</td>\n",
       "      <td>0.222222</td>\n",
       "      <td>1.382979</td>\n",
       "      <td>0.0</td>\n",
       "      <td>1.0</td>\n",
       "    </tr>\n",
       "    <tr>\n",
       "      <th>1</th>\n",
       "      <td>0.666667</td>\n",
       "      <td>0.285714</td>\n",
       "      <td>0.417266</td>\n",
       "      <td>0.6</td>\n",
       "      <td>-0.841043</td>\n",
       "      <td>0.489130</td>\n",
       "      <td>1.142857</td>\n",
       "      <td>0.409722</td>\n",
       "      <td>0.510638</td>\n",
       "      <td>1.0</td>\n",
       "      <td>1.0</td>\n",
       "    </tr>\n",
       "    <tr>\n",
       "      <th>2</th>\n",
       "      <td>-1.000000</td>\n",
       "      <td>0.183673</td>\n",
       "      <td>0.050360</td>\n",
       "      <td>0.6</td>\n",
       "      <td>-0.669470</td>\n",
       "      <td>1.054348</td>\n",
       "      <td>-0.079365</td>\n",
       "      <td>-0.159722</td>\n",
       "      <td>0.425532</td>\n",
       "      <td>0.0</td>\n",
       "      <td>1.0</td>\n",
       "    </tr>\n",
       "    <tr>\n",
       "      <th>3</th>\n",
       "      <td>-0.333333</td>\n",
       "      <td>-0.244898</td>\n",
       "      <td>-0.402878</td>\n",
       "      <td>0.6</td>\n",
       "      <td>-0.703112</td>\n",
       "      <td>-0.576087</td>\n",
       "      <td>0.301587</td>\n",
       "      <td>-0.159722</td>\n",
       "      <td>-0.489362</td>\n",
       "      <td>1.0</td>\n",
       "      <td>1.0</td>\n",
       "    </tr>\n",
       "    <tr>\n",
       "      <th>4</th>\n",
       "      <td>-0.666667</td>\n",
       "      <td>-0.653061</td>\n",
       "      <td>-0.647482</td>\n",
       "      <td>0.0</td>\n",
       "      <td>-0.578638</td>\n",
       "      <td>-0.054348</td>\n",
       "      <td>-0.349206</td>\n",
       "      <td>-0.597222</td>\n",
       "      <td>-0.617021</td>\n",
       "      <td>1.0</td>\n",
       "      <td>1.0</td>\n",
       "    </tr>\n",
       "  </tbody>\n",
       "</table>\n",
       "</div>"
      ],
      "text/plain": [
       "   rs__no_of_dependents  rs__income_annum  rs__loan_amount  rs__loan_term  \\\n",
       "0             -0.333333          0.571429         1.035971            0.4   \n",
       "1              0.666667          0.285714         0.417266            0.6   \n",
       "2             -1.000000          0.183673         0.050360            0.6   \n",
       "3             -0.333333         -0.244898        -0.402878            0.6   \n",
       "4             -0.666667         -0.653061        -0.647482            0.0   \n",
       "\n",
       "   rs__cibil_score  rs__residential_assets_value  rs__commercial_assets_value  \\\n",
       "0         0.161480                     -0.402174                    -0.301587   \n",
       "1        -0.841043                      0.489130                     1.142857   \n",
       "2        -0.669470                      1.054348                    -0.079365   \n",
       "3        -0.703112                     -0.576087                     0.301587   \n",
       "4        -0.578638                     -0.054348                    -0.349206   \n",
       "\n",
       "   rs__luxury_assets_value  rs__bank_asset_value  ohe__education_Not Graduate  \\\n",
       "0                 0.222222              1.382979                          0.0   \n",
       "1                 0.409722              0.510638                          1.0   \n",
       "2                -0.159722              0.425532                          0.0   \n",
       "3                -0.159722             -0.489362                          1.0   \n",
       "4                -0.597222             -0.617021                          1.0   \n",
       "\n",
       "   ohe__self_employed_Yes  \n",
       "0                     1.0  \n",
       "1                     1.0  \n",
       "2                     1.0  \n",
       "3                     1.0  \n",
       "4                     1.0  "
      ]
     },
     "execution_count": 50,
     "metadata": {},
     "output_type": "execute_result"
    }
   ],
   "source": [
    "x_train_enc=pd.DataFrame(x_train_enc,columns=col_trans.get_feature_names_out())\n",
    "x_train_enc.head()"
   ]
  },
  {
   "cell_type": "code",
   "execution_count": 51,
   "id": "d2e8a264",
   "metadata": {},
   "outputs": [],
   "source": [
    "x_train_enc.columns=x_train.columns"
   ]
  },
  {
   "cell_type": "code",
   "execution_count": 52,
   "id": "5015014c",
   "metadata": {},
   "outputs": [
    {
     "data": {
      "text/html": [
       "<div>\n",
       "<style scoped>\n",
       "    .dataframe tbody tr th:only-of-type {\n",
       "        vertical-align: middle;\n",
       "    }\n",
       "\n",
       "    .dataframe tbody tr th {\n",
       "        vertical-align: top;\n",
       "    }\n",
       "\n",
       "    .dataframe thead th {\n",
       "        text-align: right;\n",
       "    }\n",
       "</style>\n",
       "<table border=\"1\" class=\"dataframe\">\n",
       "  <thead>\n",
       "    <tr style=\"text-align: right;\">\n",
       "      <th></th>\n",
       "      <th>no_of_dependents</th>\n",
       "      <th>education</th>\n",
       "      <th>self_employed</th>\n",
       "      <th>income_annum</th>\n",
       "      <th>loan_amount</th>\n",
       "      <th>loan_term</th>\n",
       "      <th>cibil_score</th>\n",
       "      <th>residential_assets_value</th>\n",
       "      <th>commercial_assets_value</th>\n",
       "      <th>luxury_assets_value</th>\n",
       "      <th>bank_asset_value</th>\n",
       "    </tr>\n",
       "  </thead>\n",
       "  <tbody>\n",
       "    <tr>\n",
       "      <th>0</th>\n",
       "      <td>-0.333333</td>\n",
       "      <td>0.571429</td>\n",
       "      <td>1.035971</td>\n",
       "      <td>0.4</td>\n",
       "      <td>0.161480</td>\n",
       "      <td>-0.402174</td>\n",
       "      <td>-0.301587</td>\n",
       "      <td>0.222222</td>\n",
       "      <td>1.382979</td>\n",
       "      <td>0.0</td>\n",
       "      <td>1.0</td>\n",
       "    </tr>\n",
       "    <tr>\n",
       "      <th>1</th>\n",
       "      <td>0.666667</td>\n",
       "      <td>0.285714</td>\n",
       "      <td>0.417266</td>\n",
       "      <td>0.6</td>\n",
       "      <td>-0.841043</td>\n",
       "      <td>0.489130</td>\n",
       "      <td>1.142857</td>\n",
       "      <td>0.409722</td>\n",
       "      <td>0.510638</td>\n",
       "      <td>1.0</td>\n",
       "      <td>1.0</td>\n",
       "    </tr>\n",
       "    <tr>\n",
       "      <th>2</th>\n",
       "      <td>-1.000000</td>\n",
       "      <td>0.183673</td>\n",
       "      <td>0.050360</td>\n",
       "      <td>0.6</td>\n",
       "      <td>-0.669470</td>\n",
       "      <td>1.054348</td>\n",
       "      <td>-0.079365</td>\n",
       "      <td>-0.159722</td>\n",
       "      <td>0.425532</td>\n",
       "      <td>0.0</td>\n",
       "      <td>1.0</td>\n",
       "    </tr>\n",
       "    <tr>\n",
       "      <th>3</th>\n",
       "      <td>-0.333333</td>\n",
       "      <td>-0.244898</td>\n",
       "      <td>-0.402878</td>\n",
       "      <td>0.6</td>\n",
       "      <td>-0.703112</td>\n",
       "      <td>-0.576087</td>\n",
       "      <td>0.301587</td>\n",
       "      <td>-0.159722</td>\n",
       "      <td>-0.489362</td>\n",
       "      <td>1.0</td>\n",
       "      <td>1.0</td>\n",
       "    </tr>\n",
       "    <tr>\n",
       "      <th>4</th>\n",
       "      <td>-0.666667</td>\n",
       "      <td>-0.653061</td>\n",
       "      <td>-0.647482</td>\n",
       "      <td>0.0</td>\n",
       "      <td>-0.578638</td>\n",
       "      <td>-0.054348</td>\n",
       "      <td>-0.349206</td>\n",
       "      <td>-0.597222</td>\n",
       "      <td>-0.617021</td>\n",
       "      <td>1.0</td>\n",
       "      <td>1.0</td>\n",
       "    </tr>\n",
       "  </tbody>\n",
       "</table>\n",
       "</div>"
      ],
      "text/plain": [
       "   no_of_dependents  education  self_employed  income_annum  loan_amount  \\\n",
       "0         -0.333333   0.571429       1.035971           0.4     0.161480   \n",
       "1          0.666667   0.285714       0.417266           0.6    -0.841043   \n",
       "2         -1.000000   0.183673       0.050360           0.6    -0.669470   \n",
       "3         -0.333333  -0.244898      -0.402878           0.6    -0.703112   \n",
       "4         -0.666667  -0.653061      -0.647482           0.0    -0.578638   \n",
       "\n",
       "   loan_term  cibil_score  residential_assets_value  commercial_assets_value  \\\n",
       "0  -0.402174    -0.301587                  0.222222                 1.382979   \n",
       "1   0.489130     1.142857                  0.409722                 0.510638   \n",
       "2   1.054348    -0.079365                 -0.159722                 0.425532   \n",
       "3  -0.576087     0.301587                 -0.159722                -0.489362   \n",
       "4  -0.054348    -0.349206                 -0.597222                -0.617021   \n",
       "\n",
       "   luxury_assets_value  bank_asset_value  \n",
       "0                  0.0               1.0  \n",
       "1                  1.0               1.0  \n",
       "2                  0.0               1.0  \n",
       "3                  1.0               1.0  \n",
       "4                  1.0               1.0  "
      ]
     },
     "execution_count": 52,
     "metadata": {},
     "output_type": "execute_result"
    }
   ],
   "source": [
    "x_train_enc.head()"
   ]
  },
  {
   "cell_type": "code",
   "execution_count": null,
   "id": "80eeded9",
   "metadata": {},
   "outputs": [],
   "source": []
  },
  {
   "cell_type": "markdown",
   "id": "95138876",
   "metadata": {},
   "source": [
    "# <center>Incoding y_train<center>"
   ]
  },
  {
   "cell_type": "code",
   "execution_count": 53,
   "id": "16e4d7f7",
   "metadata": {},
   "outputs": [
    {
     "data": {
      "text/plain": [
       "4196    Approved\n",
       "865     Rejected\n",
       "2132    Rejected\n",
       "201     Rejected\n",
       "1485    Rejected\n",
       "          ...   \n",
       "3455    Rejected\n",
       "3315    Rejected\n",
       "4001    Rejected\n",
       "1599    Approved\n",
       "3627    Approved\n",
       "Name: loan_status, Length: 2988, dtype: object"
      ]
     },
     "execution_count": 53,
     "metadata": {},
     "output_type": "execute_result"
    }
   ],
   "source": [
    "y_train"
   ]
  },
  {
   "cell_type": "code",
   "execution_count": 54,
   "id": "87b7f486",
   "metadata": {},
   "outputs": [],
   "source": [
    "le=LabelEncoder()"
   ]
  },
  {
   "cell_type": "code",
   "execution_count": 55,
   "id": "c15f79ac",
   "metadata": {},
   "outputs": [],
   "source": [
    "y_train=le.fit_transform(y_train)"
   ]
  },
  {
   "cell_type": "code",
   "execution_count": 56,
   "id": "224dd9f6",
   "metadata": {},
   "outputs": [
    {
     "data": {
      "text/plain": [
       "array([0, 1, 1, ..., 1, 0, 0])"
      ]
     },
     "execution_count": 56,
     "metadata": {},
     "output_type": "execute_result"
    }
   ],
   "source": [
    "y_train"
   ]
  },
  {
   "cell_type": "code",
   "execution_count": null,
   "id": "02f11d34",
   "metadata": {},
   "outputs": [],
   "source": []
  },
  {
   "cell_type": "markdown",
   "id": "5b2aed9d",
   "metadata": {},
   "source": [
    "# <center>======Handling missing values on testing data=====<center>"
   ]
  },
  {
   "cell_type": "code",
   "execution_count": 57,
   "id": "bce5b1b4",
   "metadata": {},
   "outputs": [
    {
     "data": {
      "text/plain": [
       "no_of_dependents              0\n",
       "education                   200\n",
       "self_employed               103\n",
       "income_annum                  0\n",
       "loan_amount                   0\n",
       "loan_term                     0\n",
       "cibil_score                   0\n",
       "residential_assets_value    115\n",
       "commercial_assets_value      36\n",
       "luxury_assets_value          84\n",
       "bank_asset_value            120\n",
       "dtype: int64"
      ]
     },
     "execution_count": 57,
     "metadata": {},
     "output_type": "execute_result"
    }
   ],
   "source": [
    "x_test.isnull().sum()"
   ]
  },
  {
   "cell_type": "markdown",
   "id": "03491b75",
   "metadata": {},
   "source": [
    "# On categorical columns"
   ]
  },
  {
   "cell_type": "markdown",
   "id": "886f6f8d",
   "metadata": {},
   "source": [
    "# <center>Random Value Imputation on education column<center>"
   ]
  },
  {
   "cell_type": "code",
   "execution_count": 58,
   "id": "351ceb34",
   "metadata": {},
   "outputs": [
    {
     "data": {
      "text/plain": [
       "Index(['Not Graduate', 'Graduate'], dtype='object', name='education')"
      ]
     },
     "execution_count": 58,
     "metadata": {},
     "output_type": "execute_result"
    }
   ],
   "source": [
    "Labels=x_test['education'].value_counts().index\n",
    "Labels"
   ]
  },
  {
   "cell_type": "code",
   "execution_count": 59,
   "id": "af46812a",
   "metadata": {},
   "outputs": [
    {
     "data": {
      "text/plain": [
       "1081"
      ]
     },
     "execution_count": 59,
     "metadata": {},
     "output_type": "execute_result"
    }
   ],
   "source": [
    "non_null=x_test['education'].notnull().sum()\n",
    "non_null"
   ]
  },
  {
   "cell_type": "code",
   "execution_count": 60,
   "id": "8a5faa60",
   "metadata": {},
   "outputs": [
    {
     "data": {
      "text/plain": [
       "547"
      ]
     },
     "execution_count": 60,
     "metadata": {},
     "output_type": "execute_result"
    }
   ],
   "source": [
    "Not_gra=x_test[x_test['education']=='Not Graduate'].shape[0]\n",
    "Not_gra"
   ]
  },
  {
   "cell_type": "code",
   "execution_count": 61,
   "id": "97a0415b",
   "metadata": {},
   "outputs": [
    {
     "data": {
      "text/plain": [
       "534"
      ]
     },
     "execution_count": 61,
     "metadata": {},
     "output_type": "execute_result"
    }
   ],
   "source": [
    "gra=x_test[x_test['education']=='Graduate'].shape[0]\n",
    "gra"
   ]
  },
  {
   "cell_type": "code",
   "execution_count": 62,
   "id": "92a4f14c",
   "metadata": {},
   "outputs": [],
   "source": [
    "pro_not_gra=Not_gra/non_null\n",
    "pro_gra=gra/non_null"
   ]
  },
  {
   "cell_type": "code",
   "execution_count": 63,
   "id": "8a7afa14",
   "metadata": {},
   "outputs": [
    {
     "name": "stdout",
     "output_type": "stream",
     "text": [
      "0.5060129509713228\n",
      "\n",
      "0.4939870490286771\n"
     ]
    }
   ],
   "source": [
    "print(pro_not_gra)\n",
    "print()\n",
    "print(pro_gra)"
   ]
  },
  {
   "cell_type": "code",
   "execution_count": 64,
   "id": "6ef2e7b5",
   "metadata": {},
   "outputs": [],
   "source": [
    "x_test['education'].fillna(np.random.choice(Labels,p=(pro_not_gra,pro_gra)),inplace=True)"
   ]
  },
  {
   "cell_type": "markdown",
   "id": "5fae70ae",
   "metadata": {},
   "source": [
    "# <center>Random Value Imputation on self_employed  column</center>"
   ]
  },
  {
   "cell_type": "code",
   "execution_count": 65,
   "id": "5da779d6",
   "metadata": {},
   "outputs": [
    {
     "data": {
      "text/plain": [
       "Index(['Yes', 'No'], dtype='object', name='self_employed')"
      ]
     },
     "execution_count": 65,
     "metadata": {},
     "output_type": "execute_result"
    }
   ],
   "source": [
    "Labels_se=x_test['self_employed'].value_counts().index\n",
    "Labels_se"
   ]
  },
  {
   "cell_type": "code",
   "execution_count": 66,
   "id": "79d394cf",
   "metadata": {},
   "outputs": [
    {
     "data": {
      "text/plain": [
       "1178"
      ]
     },
     "execution_count": 66,
     "metadata": {},
     "output_type": "execute_result"
    }
   ],
   "source": [
    "not_null=x_test['self_employed'].notnull().sum()\n",
    "not_null"
   ]
  },
  {
   "cell_type": "code",
   "execution_count": 67,
   "id": "c1ab15b4",
   "metadata": {},
   "outputs": [
    {
     "data": {
      "text/plain": [
       "593"
      ]
     },
     "execution_count": 67,
     "metadata": {},
     "output_type": "execute_result"
    }
   ],
   "source": [
    "yes=x_test[x_test['self_employed']=='Yes'].shape[0]\n",
    "yes"
   ]
  },
  {
   "cell_type": "code",
   "execution_count": 68,
   "id": "f36695c4",
   "metadata": {},
   "outputs": [
    {
     "data": {
      "text/plain": [
       "585"
      ]
     },
     "execution_count": 68,
     "metadata": {},
     "output_type": "execute_result"
    }
   ],
   "source": [
    "no=x_test[x_test['self_employed']=='No'].shape[0]\n",
    "no"
   ]
  },
  {
   "cell_type": "code",
   "execution_count": 69,
   "id": "30ffd5d4",
   "metadata": {},
   "outputs": [],
   "source": [
    "pro_yes=yes/not_null\n",
    "pro_no=no/not_null"
   ]
  },
  {
   "cell_type": "code",
   "execution_count": 70,
   "id": "7e874e46",
   "metadata": {},
   "outputs": [
    {
     "name": "stdout",
     "output_type": "stream",
     "text": [
      "0.5033955857385399\n",
      "0.4966044142614601\n"
     ]
    }
   ],
   "source": [
    "print(pro_yes)\n",
    "print(pro_no)"
   ]
  },
  {
   "cell_type": "code",
   "execution_count": 71,
   "id": "6eaa4a35",
   "metadata": {},
   "outputs": [],
   "source": [
    "x_test['self_employed'].fillna(np.random.choice(Labels_se,p=(pro_yes,pro_no)),inplace=True)"
   ]
  },
  {
   "cell_type": "code",
   "execution_count": 72,
   "id": "71930413",
   "metadata": {},
   "outputs": [
    {
     "data": {
      "text/plain": [
       "no_of_dependents              0\n",
       "education                     0\n",
       "self_employed                 0\n",
       "income_annum                  0\n",
       "loan_amount                   0\n",
       "loan_term                     0\n",
       "cibil_score                   0\n",
       "residential_assets_value    115\n",
       "commercial_assets_value      36\n",
       "luxury_assets_value          84\n",
       "bank_asset_value            120\n",
       "dtype: int64"
      ]
     },
     "execution_count": 72,
     "metadata": {},
     "output_type": "execute_result"
    }
   ],
   "source": [
    "x_test.isnull().sum()"
   ]
  },
  {
   "cell_type": "markdown",
   "id": "e1722d91",
   "metadata": {},
   "source": [
    "# <center>====Random Value Imputation on numerical columns====<center>"
   ]
  },
  {
   "cell_type": "code",
   "execution_count": 73,
   "id": "c73e8c62",
   "metadata": {},
   "outputs": [
    {
     "data": {
      "text/plain": [
       "no_of_dependents              0\n",
       "income_annum                  0\n",
       "loan_amount                   0\n",
       "loan_term                     0\n",
       "cibil_score                   0\n",
       "residential_assets_value    115\n",
       "commercial_assets_value      36\n",
       "luxury_assets_value          84\n",
       "bank_asset_value            120\n",
       "dtype: int64"
      ]
     },
     "execution_count": 73,
     "metadata": {},
     "output_type": "execute_result"
    }
   ],
   "source": [
    "\n",
    "x_test[numerical].isnull().sum()"
   ]
  },
  {
   "cell_type": "code",
   "execution_count": 74,
   "id": "70669a15",
   "metadata": {},
   "outputs": [],
   "source": [
    "def randomvalueimputertest(data,columns):\n",
    "    df=data\n",
    "    for col in columns:\n",
    "        missing_vals=x_test[col].isnull().sum()\n",
    "        pool=x_test[col].dropna().sample(missing_vals).values\n",
    "        x_test[col][x_test[col].isnull()]=pool"
   ]
  },
  {
   "cell_type": "code",
   "execution_count": 75,
   "id": "ab22b54d",
   "metadata": {},
   "outputs": [
    {
     "data": {
      "text/html": [
       "<div>\n",
       "<style scoped>\n",
       "    .dataframe tbody tr th:only-of-type {\n",
       "        vertical-align: middle;\n",
       "    }\n",
       "\n",
       "    .dataframe tbody tr th {\n",
       "        vertical-align: top;\n",
       "    }\n",
       "\n",
       "    .dataframe thead th {\n",
       "        text-align: right;\n",
       "    }\n",
       "</style>\n",
       "<table border=\"1\" class=\"dataframe\">\n",
       "  <thead>\n",
       "    <tr style=\"text-align: right;\">\n",
       "      <th></th>\n",
       "      <th>residential_assets_value</th>\n",
       "      <th>commercial_assets_value</th>\n",
       "      <th>luxury_assets_value</th>\n",
       "      <th>bank_asset_value</th>\n",
       "    </tr>\n",
       "  </thead>\n",
       "  <tbody>\n",
       "    <tr>\n",
       "      <th>3855</th>\n",
       "      <td>11400000.0</td>\n",
       "      <td>14800000.0</td>\n",
       "      <td>17200000.0</td>\n",
       "      <td>5700000.0</td>\n",
       "    </tr>\n",
       "    <tr>\n",
       "      <th>1584</th>\n",
       "      <td>10000000.0</td>\n",
       "      <td>12700000.0</td>\n",
       "      <td>31100000.0</td>\n",
       "      <td>7000000.0</td>\n",
       "    </tr>\n",
       "    <tr>\n",
       "      <th>1193</th>\n",
       "      <td>400000.0</td>\n",
       "      <td>300000.0</td>\n",
       "      <td>7100000.0</td>\n",
       "      <td>1200000.0</td>\n",
       "    </tr>\n",
       "    <tr>\n",
       "      <th>869</th>\n",
       "      <td>3800000.0</td>\n",
       "      <td>3000000.0</td>\n",
       "      <td>25100000.0</td>\n",
       "      <td>7400000.0</td>\n",
       "    </tr>\n",
       "    <tr>\n",
       "      <th>3552</th>\n",
       "      <td>NaN</td>\n",
       "      <td>5400000.0</td>\n",
       "      <td>13000000.0</td>\n",
       "      <td>3100000.0</td>\n",
       "    </tr>\n",
       "  </tbody>\n",
       "</table>\n",
       "</div>"
      ],
      "text/plain": [
       "      residential_assets_value  commercial_assets_value  luxury_assets_value  \\\n",
       "3855                11400000.0               14800000.0           17200000.0   \n",
       "1584                10000000.0               12700000.0           31100000.0   \n",
       "1193                  400000.0                 300000.0            7100000.0   \n",
       "869                  3800000.0                3000000.0           25100000.0   \n",
       "3552                       NaN                5400000.0           13000000.0   \n",
       "\n",
       "      bank_asset_value  \n",
       "3855         5700000.0  \n",
       "1584         7000000.0  \n",
       "1193         1200000.0  \n",
       "869          7400000.0  \n",
       "3552         3100000.0  "
      ]
     },
     "execution_count": 75,
     "metadata": {},
     "output_type": "execute_result"
    }
   ],
   "source": [
    "missing_columns=x_test[numerical].iloc[:,5:]\n",
    "missing_columns.head()"
   ]
  },
  {
   "cell_type": "code",
   "execution_count": 76,
   "id": "a7903002",
   "metadata": {},
   "outputs": [
    {
     "name": "stderr",
     "output_type": "stream",
     "text": [
      "C:\\Users\\manish singh\\AppData\\Local\\Temp\\ipykernel_18500\\2673026260.py:6: SettingWithCopyWarning: \n",
      "A value is trying to be set on a copy of a slice from a DataFrame\n",
      "\n",
      "See the caveats in the documentation: https://pandas.pydata.org/pandas-docs/stable/user_guide/indexing.html#returning-a-view-versus-a-copy\n",
      "  x_test[col][x_test[col].isnull()]=pool\n",
      "C:\\Users\\manish singh\\AppData\\Local\\Temp\\ipykernel_18500\\2673026260.py:6: SettingWithCopyWarning: \n",
      "A value is trying to be set on a copy of a slice from a DataFrame\n",
      "\n",
      "See the caveats in the documentation: https://pandas.pydata.org/pandas-docs/stable/user_guide/indexing.html#returning-a-view-versus-a-copy\n",
      "  x_test[col][x_test[col].isnull()]=pool\n",
      "C:\\Users\\manish singh\\AppData\\Local\\Temp\\ipykernel_18500\\2673026260.py:6: SettingWithCopyWarning: \n",
      "A value is trying to be set on a copy of a slice from a DataFrame\n",
      "\n",
      "See the caveats in the documentation: https://pandas.pydata.org/pandas-docs/stable/user_guide/indexing.html#returning-a-view-versus-a-copy\n",
      "  x_test[col][x_test[col].isnull()]=pool\n",
      "C:\\Users\\manish singh\\AppData\\Local\\Temp\\ipykernel_18500\\2673026260.py:6: SettingWithCopyWarning: \n",
      "A value is trying to be set on a copy of a slice from a DataFrame\n",
      "\n",
      "See the caveats in the documentation: https://pandas.pydata.org/pandas-docs/stable/user_guide/indexing.html#returning-a-view-versus-a-copy\n",
      "  x_test[col][x_test[col].isnull()]=pool\n"
     ]
    }
   ],
   "source": [
    "randomvalueimputertest(x_test,missing_columns)"
   ]
  },
  {
   "cell_type": "code",
   "execution_count": 77,
   "id": "0fdccc64",
   "metadata": {},
   "outputs": [
    {
     "data": {
      "text/plain": [
       "no_of_dependents            0\n",
       "education                   0\n",
       "self_employed               0\n",
       "income_annum                0\n",
       "loan_amount                 0\n",
       "loan_term                   0\n",
       "cibil_score                 0\n",
       "residential_assets_value    0\n",
       "commercial_assets_value     0\n",
       "luxury_assets_value         0\n",
       "bank_asset_value            0\n",
       "dtype: int64"
      ]
     },
     "execution_count": 77,
     "metadata": {},
     "output_type": "execute_result"
    }
   ],
   "source": [
    "x_test.isnull().sum()"
   ]
  },
  {
   "cell_type": "markdown",
   "id": "7cafad12",
   "metadata": {},
   "source": [
    "# <center>====Incoding and Scaling testing data====<center>"
   ]
  },
  {
   "cell_type": "code",
   "execution_count": 78,
   "id": "137fcb4f",
   "metadata": {},
   "outputs": [
    {
     "data": {
      "text/html": [
       "<div>\n",
       "<style scoped>\n",
       "    .dataframe tbody tr th:only-of-type {\n",
       "        vertical-align: middle;\n",
       "    }\n",
       "\n",
       "    .dataframe tbody tr th {\n",
       "        vertical-align: top;\n",
       "    }\n",
       "\n",
       "    .dataframe thead th {\n",
       "        text-align: right;\n",
       "    }\n",
       "</style>\n",
       "<table border=\"1\" class=\"dataframe\">\n",
       "  <thead>\n",
       "    <tr style=\"text-align: right;\">\n",
       "      <th></th>\n",
       "      <th>no_of_dependents</th>\n",
       "      <th>education</th>\n",
       "      <th>self_employed</th>\n",
       "      <th>income_annum</th>\n",
       "      <th>loan_amount</th>\n",
       "      <th>loan_term</th>\n",
       "      <th>cibil_score</th>\n",
       "      <th>residential_assets_value</th>\n",
       "      <th>commercial_assets_value</th>\n",
       "      <th>luxury_assets_value</th>\n",
       "      <th>bank_asset_value</th>\n",
       "    </tr>\n",
       "  </thead>\n",
       "  <tbody>\n",
       "    <tr>\n",
       "      <th>3855</th>\n",
       "      <td>2</td>\n",
       "      <td>Graduate</td>\n",
       "      <td>Yes</td>\n",
       "      <td>8500000</td>\n",
       "      <td>25600000</td>\n",
       "      <td>16</td>\n",
       "      <td>714</td>\n",
       "      <td>11400000.0</td>\n",
       "      <td>14800000.0</td>\n",
       "      <td>17200000.0</td>\n",
       "      <td>5700000.0</td>\n",
       "    </tr>\n",
       "    <tr>\n",
       "      <th>1584</th>\n",
       "      <td>0</td>\n",
       "      <td>Graduate</td>\n",
       "      <td>No</td>\n",
       "      <td>9500000</td>\n",
       "      <td>35300000</td>\n",
       "      <td>6</td>\n",
       "      <td>605</td>\n",
       "      <td>10000000.0</td>\n",
       "      <td>12700000.0</td>\n",
       "      <td>31100000.0</td>\n",
       "      <td>7000000.0</td>\n",
       "    </tr>\n",
       "    <tr>\n",
       "      <th>1193</th>\n",
       "      <td>2</td>\n",
       "      <td>Not Graduate</td>\n",
       "      <td>Yes</td>\n",
       "      <td>2100000</td>\n",
       "      <td>5600000</td>\n",
       "      <td>16</td>\n",
       "      <td>426</td>\n",
       "      <td>400000.0</td>\n",
       "      <td>300000.0</td>\n",
       "      <td>7100000.0</td>\n",
       "      <td>1200000.0</td>\n",
       "    </tr>\n",
       "    <tr>\n",
       "      <th>869</th>\n",
       "      <td>3</td>\n",
       "      <td>Graduate</td>\n",
       "      <td>No</td>\n",
       "      <td>6600000</td>\n",
       "      <td>22100000</td>\n",
       "      <td>4</td>\n",
       "      <td>455</td>\n",
       "      <td>3800000.0</td>\n",
       "      <td>3000000.0</td>\n",
       "      <td>25100000.0</td>\n",
       "      <td>7400000.0</td>\n",
       "    </tr>\n",
       "    <tr>\n",
       "      <th>3552</th>\n",
       "      <td>0</td>\n",
       "      <td>Graduate</td>\n",
       "      <td>No</td>\n",
       "      <td>5200000</td>\n",
       "      <td>17800000</td>\n",
       "      <td>18</td>\n",
       "      <td>558</td>\n",
       "      <td>7100000.0</td>\n",
       "      <td>5400000.0</td>\n",
       "      <td>13000000.0</td>\n",
       "      <td>3100000.0</td>\n",
       "    </tr>\n",
       "  </tbody>\n",
       "</table>\n",
       "</div>"
      ],
      "text/plain": [
       "      no_of_dependents     education self_employed  income_annum  loan_amount  \\\n",
       "3855                 2      Graduate           Yes       8500000     25600000   \n",
       "1584                 0      Graduate            No       9500000     35300000   \n",
       "1193                 2  Not Graduate           Yes       2100000      5600000   \n",
       "869                  3      Graduate            No       6600000     22100000   \n",
       "3552                 0      Graduate            No       5200000     17800000   \n",
       "\n",
       "      loan_term  cibil_score  residential_assets_value  \\\n",
       "3855         16          714                11400000.0   \n",
       "1584          6          605                10000000.0   \n",
       "1193         16          426                  400000.0   \n",
       "869           4          455                 3800000.0   \n",
       "3552         18          558                 7100000.0   \n",
       "\n",
       "      commercial_assets_value  luxury_assets_value  bank_asset_value  \n",
       "3855               14800000.0           17200000.0         5700000.0  \n",
       "1584               12700000.0           31100000.0         7000000.0  \n",
       "1193                 300000.0            7100000.0         1200000.0  \n",
       "869                 3000000.0           25100000.0         7400000.0  \n",
       "3552                5400000.0           13000000.0         3100000.0  "
      ]
     },
     "execution_count": 78,
     "metadata": {},
     "output_type": "execute_result"
    }
   ],
   "source": [
    "x_test.head()"
   ]
  },
  {
   "cell_type": "code",
   "execution_count": 79,
   "id": "3addc847",
   "metadata": {},
   "outputs": [],
   "source": [
    "x_test_enc=col_trans.transform(x_test)"
   ]
  },
  {
   "cell_type": "code",
   "execution_count": 80,
   "id": "7c2bbf78",
   "metadata": {
    "scrolled": false
   },
   "outputs": [
    {
     "data": {
      "text/html": [
       "<div>\n",
       "<style scoped>\n",
       "    .dataframe tbody tr th:only-of-type {\n",
       "        vertical-align: middle;\n",
       "    }\n",
       "\n",
       "    .dataframe tbody tr th {\n",
       "        vertical-align: top;\n",
       "    }\n",
       "\n",
       "    .dataframe thead th {\n",
       "        text-align: right;\n",
       "    }\n",
       "</style>\n",
       "<table border=\"1\" class=\"dataframe\">\n",
       "  <thead>\n",
       "    <tr style=\"text-align: right;\">\n",
       "      <th></th>\n",
       "      <th>rs__no_of_dependents</th>\n",
       "      <th>rs__income_annum</th>\n",
       "      <th>rs__loan_amount</th>\n",
       "      <th>rs__loan_term</th>\n",
       "      <th>rs__cibil_score</th>\n",
       "      <th>rs__residential_assets_value</th>\n",
       "      <th>rs__commercial_assets_value</th>\n",
       "      <th>rs__luxury_assets_value</th>\n",
       "      <th>rs__bank_asset_value</th>\n",
       "      <th>ohe__education_Not Graduate</th>\n",
       "      <th>ohe__self_employed_Yes</th>\n",
       "    </tr>\n",
       "  </thead>\n",
       "  <tbody>\n",
       "    <tr>\n",
       "      <th>0</th>\n",
       "      <td>-0.333333</td>\n",
       "      <td>0.714286</td>\n",
       "      <td>0.798561</td>\n",
       "      <td>0.6</td>\n",
       "      <td>0.390244</td>\n",
       "      <td>0.641304</td>\n",
       "      <td>1.761905</td>\n",
       "      <td>0.187500</td>\n",
       "      <td>0.255319</td>\n",
       "      <td>0.0</td>\n",
       "      <td>1.0</td>\n",
       "    </tr>\n",
       "    <tr>\n",
       "      <th>1</th>\n",
       "      <td>-1.000000</td>\n",
       "      <td>0.918367</td>\n",
       "      <td>1.496403</td>\n",
       "      <td>-0.4</td>\n",
       "      <td>0.023549</td>\n",
       "      <td>0.489130</td>\n",
       "      <td>1.428571</td>\n",
       "      <td>1.152778</td>\n",
       "      <td>0.531915</td>\n",
       "      <td>0.0</td>\n",
       "      <td>0.0</td>\n",
       "    </tr>\n",
       "    <tr>\n",
       "      <th>2</th>\n",
       "      <td>-0.333333</td>\n",
       "      <td>-0.591837</td>\n",
       "      <td>-0.640288</td>\n",
       "      <td>0.6</td>\n",
       "      <td>-0.578638</td>\n",
       "      <td>-0.554348</td>\n",
       "      <td>-0.539683</td>\n",
       "      <td>-0.513889</td>\n",
       "      <td>-0.702128</td>\n",
       "      <td>1.0</td>\n",
       "      <td>1.0</td>\n",
       "    </tr>\n",
       "    <tr>\n",
       "      <th>3</th>\n",
       "      <td>0.000000</td>\n",
       "      <td>0.326531</td>\n",
       "      <td>0.546763</td>\n",
       "      <td>-0.6</td>\n",
       "      <td>-0.481077</td>\n",
       "      <td>-0.184783</td>\n",
       "      <td>-0.111111</td>\n",
       "      <td>0.736111</td>\n",
       "      <td>0.617021</td>\n",
       "      <td>0.0</td>\n",
       "      <td>0.0</td>\n",
       "    </tr>\n",
       "    <tr>\n",
       "      <th>4</th>\n",
       "      <td>-1.000000</td>\n",
       "      <td>0.040816</td>\n",
       "      <td>0.237410</td>\n",
       "      <td>0.8</td>\n",
       "      <td>-0.134567</td>\n",
       "      <td>0.173913</td>\n",
       "      <td>0.269841</td>\n",
       "      <td>-0.104167</td>\n",
       "      <td>-0.297872</td>\n",
       "      <td>0.0</td>\n",
       "      <td>0.0</td>\n",
       "    </tr>\n",
       "  </tbody>\n",
       "</table>\n",
       "</div>"
      ],
      "text/plain": [
       "   rs__no_of_dependents  rs__income_annum  rs__loan_amount  rs__loan_term  \\\n",
       "0             -0.333333          0.714286         0.798561            0.6   \n",
       "1             -1.000000          0.918367         1.496403           -0.4   \n",
       "2             -0.333333         -0.591837        -0.640288            0.6   \n",
       "3              0.000000          0.326531         0.546763           -0.6   \n",
       "4             -1.000000          0.040816         0.237410            0.8   \n",
       "\n",
       "   rs__cibil_score  rs__residential_assets_value  rs__commercial_assets_value  \\\n",
       "0         0.390244                      0.641304                     1.761905   \n",
       "1         0.023549                      0.489130                     1.428571   \n",
       "2        -0.578638                     -0.554348                    -0.539683   \n",
       "3        -0.481077                     -0.184783                    -0.111111   \n",
       "4        -0.134567                      0.173913                     0.269841   \n",
       "\n",
       "   rs__luxury_assets_value  rs__bank_asset_value  ohe__education_Not Graduate  \\\n",
       "0                 0.187500              0.255319                          0.0   \n",
       "1                 1.152778              0.531915                          0.0   \n",
       "2                -0.513889             -0.702128                          1.0   \n",
       "3                 0.736111              0.617021                          0.0   \n",
       "4                -0.104167             -0.297872                          0.0   \n",
       "\n",
       "   ohe__self_employed_Yes  \n",
       "0                     1.0  \n",
       "1                     0.0  \n",
       "2                     1.0  \n",
       "3                     0.0  \n",
       "4                     0.0  "
      ]
     },
     "execution_count": 80,
     "metadata": {},
     "output_type": "execute_result"
    }
   ],
   "source": [
    "x_test_enc=pd.DataFrame(x_test_enc,columns=col_trans.get_feature_names_out())\n",
    "x_test_enc.head()"
   ]
  },
  {
   "cell_type": "code",
   "execution_count": 81,
   "id": "e23e9ec6",
   "metadata": {},
   "outputs": [],
   "source": [
    "x_test_enc.columns=x_train.columns"
   ]
  },
  {
   "cell_type": "code",
   "execution_count": 82,
   "id": "2ac52aa5",
   "metadata": {},
   "outputs": [
    {
     "data": {
      "text/html": [
       "<div>\n",
       "<style scoped>\n",
       "    .dataframe tbody tr th:only-of-type {\n",
       "        vertical-align: middle;\n",
       "    }\n",
       "\n",
       "    .dataframe tbody tr th {\n",
       "        vertical-align: top;\n",
       "    }\n",
       "\n",
       "    .dataframe thead th {\n",
       "        text-align: right;\n",
       "    }\n",
       "</style>\n",
       "<table border=\"1\" class=\"dataframe\">\n",
       "  <thead>\n",
       "    <tr style=\"text-align: right;\">\n",
       "      <th></th>\n",
       "      <th>no_of_dependents</th>\n",
       "      <th>education</th>\n",
       "      <th>self_employed</th>\n",
       "      <th>income_annum</th>\n",
       "      <th>loan_amount</th>\n",
       "      <th>loan_term</th>\n",
       "      <th>cibil_score</th>\n",
       "      <th>residential_assets_value</th>\n",
       "      <th>commercial_assets_value</th>\n",
       "      <th>luxury_assets_value</th>\n",
       "      <th>bank_asset_value</th>\n",
       "    </tr>\n",
       "  </thead>\n",
       "  <tbody>\n",
       "    <tr>\n",
       "      <th>0</th>\n",
       "      <td>-0.333333</td>\n",
       "      <td>0.714286</td>\n",
       "      <td>0.798561</td>\n",
       "      <td>0.6</td>\n",
       "      <td>0.390244</td>\n",
       "      <td>0.641304</td>\n",
       "      <td>1.761905</td>\n",
       "      <td>0.187500</td>\n",
       "      <td>0.255319</td>\n",
       "      <td>0.0</td>\n",
       "      <td>1.0</td>\n",
       "    </tr>\n",
       "    <tr>\n",
       "      <th>1</th>\n",
       "      <td>-1.000000</td>\n",
       "      <td>0.918367</td>\n",
       "      <td>1.496403</td>\n",
       "      <td>-0.4</td>\n",
       "      <td>0.023549</td>\n",
       "      <td>0.489130</td>\n",
       "      <td>1.428571</td>\n",
       "      <td>1.152778</td>\n",
       "      <td>0.531915</td>\n",
       "      <td>0.0</td>\n",
       "      <td>0.0</td>\n",
       "    </tr>\n",
       "    <tr>\n",
       "      <th>2</th>\n",
       "      <td>-0.333333</td>\n",
       "      <td>-0.591837</td>\n",
       "      <td>-0.640288</td>\n",
       "      <td>0.6</td>\n",
       "      <td>-0.578638</td>\n",
       "      <td>-0.554348</td>\n",
       "      <td>-0.539683</td>\n",
       "      <td>-0.513889</td>\n",
       "      <td>-0.702128</td>\n",
       "      <td>1.0</td>\n",
       "      <td>1.0</td>\n",
       "    </tr>\n",
       "    <tr>\n",
       "      <th>3</th>\n",
       "      <td>0.000000</td>\n",
       "      <td>0.326531</td>\n",
       "      <td>0.546763</td>\n",
       "      <td>-0.6</td>\n",
       "      <td>-0.481077</td>\n",
       "      <td>-0.184783</td>\n",
       "      <td>-0.111111</td>\n",
       "      <td>0.736111</td>\n",
       "      <td>0.617021</td>\n",
       "      <td>0.0</td>\n",
       "      <td>0.0</td>\n",
       "    </tr>\n",
       "    <tr>\n",
       "      <th>4</th>\n",
       "      <td>-1.000000</td>\n",
       "      <td>0.040816</td>\n",
       "      <td>0.237410</td>\n",
       "      <td>0.8</td>\n",
       "      <td>-0.134567</td>\n",
       "      <td>0.173913</td>\n",
       "      <td>0.269841</td>\n",
       "      <td>-0.104167</td>\n",
       "      <td>-0.297872</td>\n",
       "      <td>0.0</td>\n",
       "      <td>0.0</td>\n",
       "    </tr>\n",
       "  </tbody>\n",
       "</table>\n",
       "</div>"
      ],
      "text/plain": [
       "   no_of_dependents  education  self_employed  income_annum  loan_amount  \\\n",
       "0         -0.333333   0.714286       0.798561           0.6     0.390244   \n",
       "1         -1.000000   0.918367       1.496403          -0.4     0.023549   \n",
       "2         -0.333333  -0.591837      -0.640288           0.6    -0.578638   \n",
       "3          0.000000   0.326531       0.546763          -0.6    -0.481077   \n",
       "4         -1.000000   0.040816       0.237410           0.8    -0.134567   \n",
       "\n",
       "   loan_term  cibil_score  residential_assets_value  commercial_assets_value  \\\n",
       "0   0.641304     1.761905                  0.187500                 0.255319   \n",
       "1   0.489130     1.428571                  1.152778                 0.531915   \n",
       "2  -0.554348    -0.539683                 -0.513889                -0.702128   \n",
       "3  -0.184783    -0.111111                  0.736111                 0.617021   \n",
       "4   0.173913     0.269841                 -0.104167                -0.297872   \n",
       "\n",
       "   luxury_assets_value  bank_asset_value  \n",
       "0                  0.0               1.0  \n",
       "1                  0.0               0.0  \n",
       "2                  1.0               1.0  \n",
       "3                  0.0               0.0  \n",
       "4                  0.0               0.0  "
      ]
     },
     "execution_count": 82,
     "metadata": {},
     "output_type": "execute_result"
    }
   ],
   "source": [
    "x_test_enc.head()"
   ]
  },
  {
   "cell_type": "code",
   "execution_count": null,
   "id": "4f091922",
   "metadata": {},
   "outputs": [],
   "source": []
  },
  {
   "cell_type": "markdown",
   "id": "440ca0e0",
   "metadata": {},
   "source": [
    "# <center>Incoding y_test<center>"
   ]
  },
  {
   "cell_type": "code",
   "execution_count": 83,
   "id": "d8009cfc",
   "metadata": {},
   "outputs": [
    {
     "data": {
      "text/plain": [
       "3855    Approved\n",
       "1584    Approved\n",
       "1193    Rejected\n",
       "869     Approved\n",
       "3552    Approved\n",
       "          ...   \n",
       "3145    Approved\n",
       "1266    Approved\n",
       "4118    Approved\n",
       "3816    Approved\n",
       "538     Approved\n",
       "Name: loan_status, Length: 1281, dtype: object"
      ]
     },
     "execution_count": 83,
     "metadata": {},
     "output_type": "execute_result"
    }
   ],
   "source": [
    "y_test"
   ]
  },
  {
   "cell_type": "code",
   "execution_count": 84,
   "id": "fa63ed80",
   "metadata": {},
   "outputs": [],
   "source": [
    "y_test=le.transform(y_test)"
   ]
  },
  {
   "cell_type": "code",
   "execution_count": 85,
   "id": "b2b62fa7",
   "metadata": {},
   "outputs": [
    {
     "data": {
      "text/plain": [
       "array([0, 0, 1, ..., 0, 0, 0])"
      ]
     },
     "execution_count": 85,
     "metadata": {},
     "output_type": "execute_result"
    }
   ],
   "source": [
    "y_test"
   ]
  },
  {
   "cell_type": "code",
   "execution_count": null,
   "id": "c1dbee1b",
   "metadata": {},
   "outputs": [],
   "source": []
  },
  {
   "cell_type": "code",
   "execution_count": 86,
   "id": "d0741bd5",
   "metadata": {},
   "outputs": [
    {
     "data": {
      "text/html": [
       "<div>\n",
       "<style scoped>\n",
       "    .dataframe tbody tr th:only-of-type {\n",
       "        vertical-align: middle;\n",
       "    }\n",
       "\n",
       "    .dataframe tbody tr th {\n",
       "        vertical-align: top;\n",
       "    }\n",
       "\n",
       "    .dataframe thead th {\n",
       "        text-align: right;\n",
       "    }\n",
       "</style>\n",
       "<table border=\"1\" class=\"dataframe\">\n",
       "  <thead>\n",
       "    <tr style=\"text-align: right;\">\n",
       "      <th></th>\n",
       "      <th>no_of_dependents</th>\n",
       "      <th>education</th>\n",
       "      <th>self_employed</th>\n",
       "      <th>income_annum</th>\n",
       "      <th>loan_amount</th>\n",
       "      <th>loan_term</th>\n",
       "      <th>cibil_score</th>\n",
       "      <th>residential_assets_value</th>\n",
       "      <th>commercial_assets_value</th>\n",
       "      <th>luxury_assets_value</th>\n",
       "      <th>bank_asset_value</th>\n",
       "    </tr>\n",
       "  </thead>\n",
       "  <tbody>\n",
       "    <tr>\n",
       "      <th>0</th>\n",
       "      <td>-0.333333</td>\n",
       "      <td>0.571429</td>\n",
       "      <td>1.035971</td>\n",
       "      <td>0.4</td>\n",
       "      <td>0.161480</td>\n",
       "      <td>-0.402174</td>\n",
       "      <td>-0.301587</td>\n",
       "      <td>0.222222</td>\n",
       "      <td>1.382979</td>\n",
       "      <td>0.0</td>\n",
       "      <td>1.0</td>\n",
       "    </tr>\n",
       "    <tr>\n",
       "      <th>1</th>\n",
       "      <td>0.666667</td>\n",
       "      <td>0.285714</td>\n",
       "      <td>0.417266</td>\n",
       "      <td>0.6</td>\n",
       "      <td>-0.841043</td>\n",
       "      <td>0.489130</td>\n",
       "      <td>1.142857</td>\n",
       "      <td>0.409722</td>\n",
       "      <td>0.510638</td>\n",
       "      <td>1.0</td>\n",
       "      <td>1.0</td>\n",
       "    </tr>\n",
       "    <tr>\n",
       "      <th>2</th>\n",
       "      <td>-1.000000</td>\n",
       "      <td>0.183673</td>\n",
       "      <td>0.050360</td>\n",
       "      <td>0.6</td>\n",
       "      <td>-0.669470</td>\n",
       "      <td>1.054348</td>\n",
       "      <td>-0.079365</td>\n",
       "      <td>-0.159722</td>\n",
       "      <td>0.425532</td>\n",
       "      <td>0.0</td>\n",
       "      <td>1.0</td>\n",
       "    </tr>\n",
       "    <tr>\n",
       "      <th>3</th>\n",
       "      <td>-0.333333</td>\n",
       "      <td>-0.244898</td>\n",
       "      <td>-0.402878</td>\n",
       "      <td>0.6</td>\n",
       "      <td>-0.703112</td>\n",
       "      <td>-0.576087</td>\n",
       "      <td>0.301587</td>\n",
       "      <td>-0.159722</td>\n",
       "      <td>-0.489362</td>\n",
       "      <td>1.0</td>\n",
       "      <td>1.0</td>\n",
       "    </tr>\n",
       "    <tr>\n",
       "      <th>4</th>\n",
       "      <td>-0.666667</td>\n",
       "      <td>-0.653061</td>\n",
       "      <td>-0.647482</td>\n",
       "      <td>0.0</td>\n",
       "      <td>-0.578638</td>\n",
       "      <td>-0.054348</td>\n",
       "      <td>-0.349206</td>\n",
       "      <td>-0.597222</td>\n",
       "      <td>-0.617021</td>\n",
       "      <td>1.0</td>\n",
       "      <td>1.0</td>\n",
       "    </tr>\n",
       "  </tbody>\n",
       "</table>\n",
       "</div>"
      ],
      "text/plain": [
       "   no_of_dependents  education  self_employed  income_annum  loan_amount  \\\n",
       "0         -0.333333   0.571429       1.035971           0.4     0.161480   \n",
       "1          0.666667   0.285714       0.417266           0.6    -0.841043   \n",
       "2         -1.000000   0.183673       0.050360           0.6    -0.669470   \n",
       "3         -0.333333  -0.244898      -0.402878           0.6    -0.703112   \n",
       "4         -0.666667  -0.653061      -0.647482           0.0    -0.578638   \n",
       "\n",
       "   loan_term  cibil_score  residential_assets_value  commercial_assets_value  \\\n",
       "0  -0.402174    -0.301587                  0.222222                 1.382979   \n",
       "1   0.489130     1.142857                  0.409722                 0.510638   \n",
       "2   1.054348    -0.079365                 -0.159722                 0.425532   \n",
       "3  -0.576087     0.301587                 -0.159722                -0.489362   \n",
       "4  -0.054348    -0.349206                 -0.597222                -0.617021   \n",
       "\n",
       "   luxury_assets_value  bank_asset_value  \n",
       "0                  0.0               1.0  \n",
       "1                  1.0               1.0  \n",
       "2                  0.0               1.0  \n",
       "3                  1.0               1.0  \n",
       "4                  1.0               1.0  "
      ]
     },
     "execution_count": 86,
     "metadata": {},
     "output_type": "execute_result"
    }
   ],
   "source": [
    "x_train_enc.head()"
   ]
  },
  {
   "cell_type": "code",
   "execution_count": 87,
   "id": "93c5a3cd",
   "metadata": {},
   "outputs": [
    {
     "data": {
      "text/html": [
       "<div>\n",
       "<style scoped>\n",
       "    .dataframe tbody tr th:only-of-type {\n",
       "        vertical-align: middle;\n",
       "    }\n",
       "\n",
       "    .dataframe tbody tr th {\n",
       "        vertical-align: top;\n",
       "    }\n",
       "\n",
       "    .dataframe thead th {\n",
       "        text-align: right;\n",
       "    }\n",
       "</style>\n",
       "<table border=\"1\" class=\"dataframe\">\n",
       "  <thead>\n",
       "    <tr style=\"text-align: right;\">\n",
       "      <th></th>\n",
       "      <th>no_of_dependents</th>\n",
       "      <th>education</th>\n",
       "      <th>self_employed</th>\n",
       "      <th>income_annum</th>\n",
       "      <th>loan_amount</th>\n",
       "      <th>loan_term</th>\n",
       "      <th>cibil_score</th>\n",
       "      <th>residential_assets_value</th>\n",
       "      <th>commercial_assets_value</th>\n",
       "      <th>luxury_assets_value</th>\n",
       "      <th>bank_asset_value</th>\n",
       "    </tr>\n",
       "  </thead>\n",
       "  <tbody>\n",
       "    <tr>\n",
       "      <th>0</th>\n",
       "      <td>-0.333333</td>\n",
       "      <td>0.714286</td>\n",
       "      <td>0.798561</td>\n",
       "      <td>0.6</td>\n",
       "      <td>0.390244</td>\n",
       "      <td>0.641304</td>\n",
       "      <td>1.761905</td>\n",
       "      <td>0.187500</td>\n",
       "      <td>0.255319</td>\n",
       "      <td>0.0</td>\n",
       "      <td>1.0</td>\n",
       "    </tr>\n",
       "    <tr>\n",
       "      <th>1</th>\n",
       "      <td>-1.000000</td>\n",
       "      <td>0.918367</td>\n",
       "      <td>1.496403</td>\n",
       "      <td>-0.4</td>\n",
       "      <td>0.023549</td>\n",
       "      <td>0.489130</td>\n",
       "      <td>1.428571</td>\n",
       "      <td>1.152778</td>\n",
       "      <td>0.531915</td>\n",
       "      <td>0.0</td>\n",
       "      <td>0.0</td>\n",
       "    </tr>\n",
       "    <tr>\n",
       "      <th>2</th>\n",
       "      <td>-0.333333</td>\n",
       "      <td>-0.591837</td>\n",
       "      <td>-0.640288</td>\n",
       "      <td>0.6</td>\n",
       "      <td>-0.578638</td>\n",
       "      <td>-0.554348</td>\n",
       "      <td>-0.539683</td>\n",
       "      <td>-0.513889</td>\n",
       "      <td>-0.702128</td>\n",
       "      <td>1.0</td>\n",
       "      <td>1.0</td>\n",
       "    </tr>\n",
       "    <tr>\n",
       "      <th>3</th>\n",
       "      <td>0.000000</td>\n",
       "      <td>0.326531</td>\n",
       "      <td>0.546763</td>\n",
       "      <td>-0.6</td>\n",
       "      <td>-0.481077</td>\n",
       "      <td>-0.184783</td>\n",
       "      <td>-0.111111</td>\n",
       "      <td>0.736111</td>\n",
       "      <td>0.617021</td>\n",
       "      <td>0.0</td>\n",
       "      <td>0.0</td>\n",
       "    </tr>\n",
       "    <tr>\n",
       "      <th>4</th>\n",
       "      <td>-1.000000</td>\n",
       "      <td>0.040816</td>\n",
       "      <td>0.237410</td>\n",
       "      <td>0.8</td>\n",
       "      <td>-0.134567</td>\n",
       "      <td>0.173913</td>\n",
       "      <td>0.269841</td>\n",
       "      <td>-0.104167</td>\n",
       "      <td>-0.297872</td>\n",
       "      <td>0.0</td>\n",
       "      <td>0.0</td>\n",
       "    </tr>\n",
       "  </tbody>\n",
       "</table>\n",
       "</div>"
      ],
      "text/plain": [
       "   no_of_dependents  education  self_employed  income_annum  loan_amount  \\\n",
       "0         -0.333333   0.714286       0.798561           0.6     0.390244   \n",
       "1         -1.000000   0.918367       1.496403          -0.4     0.023549   \n",
       "2         -0.333333  -0.591837      -0.640288           0.6    -0.578638   \n",
       "3          0.000000   0.326531       0.546763          -0.6    -0.481077   \n",
       "4         -1.000000   0.040816       0.237410           0.8    -0.134567   \n",
       "\n",
       "   loan_term  cibil_score  residential_assets_value  commercial_assets_value  \\\n",
       "0   0.641304     1.761905                  0.187500                 0.255319   \n",
       "1   0.489130     1.428571                  1.152778                 0.531915   \n",
       "2  -0.554348    -0.539683                 -0.513889                -0.702128   \n",
       "3  -0.184783    -0.111111                  0.736111                 0.617021   \n",
       "4   0.173913     0.269841                 -0.104167                -0.297872   \n",
       "\n",
       "   luxury_assets_value  bank_asset_value  \n",
       "0                  0.0               1.0  \n",
       "1                  0.0               0.0  \n",
       "2                  1.0               1.0  \n",
       "3                  0.0               0.0  \n",
       "4                  0.0               0.0  "
      ]
     },
     "execution_count": 87,
     "metadata": {},
     "output_type": "execute_result"
    }
   ],
   "source": [
    "x_test_enc.head()"
   ]
  },
  {
   "cell_type": "code",
   "execution_count": null,
   "id": "ff8f4be8",
   "metadata": {},
   "outputs": [],
   "source": []
  },
  {
   "cell_type": "markdown",
   "id": "923f9b64",
   "metadata": {},
   "source": [
    "# <center>====Building Model====</center>"
   ]
  },
  {
   "cell_type": "code",
   "execution_count": 88,
   "id": "fafc8ec3",
   "metadata": {},
   "outputs": [],
   "source": [
    "parameter={\n",
    "    'criterion':['gini','entropy'],\n",
    "    'splitter':['best','random'],\n",
    "    'max_depth':[1,2,3,4,5],\n",
    "    'max_features':['auto','sqrt','log2']\n",
    "}"
   ]
  },
  {
   "cell_type": "code",
   "execution_count": 89,
   "id": "1ebd74c1",
   "metadata": {},
   "outputs": [],
   "source": [
    "dt=DecisionTreeClassifier()"
   ]
  },
  {
   "cell_type": "code",
   "execution_count": 90,
   "id": "305b195a",
   "metadata": {},
   "outputs": [],
   "source": [
    "cv=GridSearchCV(dt,param_grid=parameter,cv=5,scoring='accuracy')"
   ]
  },
  {
   "cell_type": "code",
   "execution_count": 91,
   "id": "7f337d78",
   "metadata": {},
   "outputs": [
    {
     "name": "stderr",
     "output_type": "stream",
     "text": [
      "C:\\ProgramData\\anaconda3\\Lib\\site-packages\\sklearn\\model_selection\\_validation.py:425: FitFailedWarning: \n",
      "100 fits failed out of a total of 300.\n",
      "The score on these train-test partitions for these parameters will be set to nan.\n",
      "If these failures are not expected, you can try to debug them by setting error_score='raise'.\n",
      "\n",
      "Below are more details about the failures:\n",
      "--------------------------------------------------------------------------------\n",
      "100 fits failed with the following error:\n",
      "Traceback (most recent call last):\n",
      "  File \"C:\\ProgramData\\anaconda3\\Lib\\site-packages\\sklearn\\model_selection\\_validation.py\", line 732, in _fit_and_score\n",
      "    estimator.fit(X_train, y_train, **fit_params)\n",
      "  File \"C:\\ProgramData\\anaconda3\\Lib\\site-packages\\sklearn\\base.py\", line 1144, in wrapper\n",
      "    estimator._validate_params()\n",
      "  File \"C:\\ProgramData\\anaconda3\\Lib\\site-packages\\sklearn\\base.py\", line 637, in _validate_params\n",
      "    validate_parameter_constraints(\n",
      "  File \"C:\\ProgramData\\anaconda3\\Lib\\site-packages\\sklearn\\utils\\_param_validation.py\", line 95, in validate_parameter_constraints\n",
      "    raise InvalidParameterError(\n",
      "sklearn.utils._param_validation.InvalidParameterError: The 'max_features' parameter of DecisionTreeClassifier must be an int in the range [1, inf), a float in the range (0.0, 1.0], a str among {'sqrt', 'log2'} or None. Got 'auto' instead.\n",
      "\n",
      "  warnings.warn(some_fits_failed_message, FitFailedWarning)\n",
      "C:\\ProgramData\\anaconda3\\Lib\\site-packages\\sklearn\\model_selection\\_search.py:976: UserWarning: One or more of the test scores are non-finite: [       nan        nan 0.61512692 0.77317468 0.68368879 0.61378912\n",
      "        nan        nan 0.81769326 0.70281508 0.75135936 0.66805768\n",
      "        nan        nan 0.79589643 0.72655978 0.88580416 0.71179924\n",
      "        nan        nan 0.75946847 0.74930281 0.91198971 0.6519347\n",
      "        nan        nan 0.86939827 0.76398044 0.9504731  0.70348061\n",
      "        nan        nan 0.61412357 0.61512692 0.68435769 0.67666538\n",
      "        nan        nan 0.85648925 0.76072559 0.67878131 0.66400229\n",
      "        nan        nan 0.78290897 0.70676403 0.70790239 0.78787303\n",
      "        nan        nan 0.8824636  0.73093842 0.95414867 0.7835084\n",
      "        nan        nan 0.88045243 0.74969104 0.83074066 0.74797847]\n",
      "  warnings.warn(\n"
     ]
    },
    {
     "data": {
      "text/html": [
       "<style>#sk-container-id-2 {color: black;}#sk-container-id-2 pre{padding: 0;}#sk-container-id-2 div.sk-toggleable {background-color: white;}#sk-container-id-2 label.sk-toggleable__label {cursor: pointer;display: block;width: 100%;margin-bottom: 0;padding: 0.3em;box-sizing: border-box;text-align: center;}#sk-container-id-2 label.sk-toggleable__label-arrow:before {content: \"▸\";float: left;margin-right: 0.25em;color: #696969;}#sk-container-id-2 label.sk-toggleable__label-arrow:hover:before {color: black;}#sk-container-id-2 div.sk-estimator:hover label.sk-toggleable__label-arrow:before {color: black;}#sk-container-id-2 div.sk-toggleable__content {max-height: 0;max-width: 0;overflow: hidden;text-align: left;background-color: #f0f8ff;}#sk-container-id-2 div.sk-toggleable__content pre {margin: 0.2em;color: black;border-radius: 0.25em;background-color: #f0f8ff;}#sk-container-id-2 input.sk-toggleable__control:checked~div.sk-toggleable__content {max-height: 200px;max-width: 100%;overflow: auto;}#sk-container-id-2 input.sk-toggleable__control:checked~label.sk-toggleable__label-arrow:before {content: \"▾\";}#sk-container-id-2 div.sk-estimator input.sk-toggleable__control:checked~label.sk-toggleable__label {background-color: #d4ebff;}#sk-container-id-2 div.sk-label input.sk-toggleable__control:checked~label.sk-toggleable__label {background-color: #d4ebff;}#sk-container-id-2 input.sk-hidden--visually {border: 0;clip: rect(1px 1px 1px 1px);clip: rect(1px, 1px, 1px, 1px);height: 1px;margin: -1px;overflow: hidden;padding: 0;position: absolute;width: 1px;}#sk-container-id-2 div.sk-estimator {font-family: monospace;background-color: #f0f8ff;border: 1px dotted black;border-radius: 0.25em;box-sizing: border-box;margin-bottom: 0.5em;}#sk-container-id-2 div.sk-estimator:hover {background-color: #d4ebff;}#sk-container-id-2 div.sk-parallel-item::after {content: \"\";width: 100%;border-bottom: 1px solid gray;flex-grow: 1;}#sk-container-id-2 div.sk-label:hover label.sk-toggleable__label {background-color: #d4ebff;}#sk-container-id-2 div.sk-serial::before {content: \"\";position: absolute;border-left: 1px solid gray;box-sizing: border-box;top: 0;bottom: 0;left: 50%;z-index: 0;}#sk-container-id-2 div.sk-serial {display: flex;flex-direction: column;align-items: center;background-color: white;padding-right: 0.2em;padding-left: 0.2em;position: relative;}#sk-container-id-2 div.sk-item {position: relative;z-index: 1;}#sk-container-id-2 div.sk-parallel {display: flex;align-items: stretch;justify-content: center;background-color: white;position: relative;}#sk-container-id-2 div.sk-item::before, #sk-container-id-2 div.sk-parallel-item::before {content: \"\";position: absolute;border-left: 1px solid gray;box-sizing: border-box;top: 0;bottom: 0;left: 50%;z-index: -1;}#sk-container-id-2 div.sk-parallel-item {display: flex;flex-direction: column;z-index: 1;position: relative;background-color: white;}#sk-container-id-2 div.sk-parallel-item:first-child::after {align-self: flex-end;width: 50%;}#sk-container-id-2 div.sk-parallel-item:last-child::after {align-self: flex-start;width: 50%;}#sk-container-id-2 div.sk-parallel-item:only-child::after {width: 0;}#sk-container-id-2 div.sk-dashed-wrapped {border: 1px dashed gray;margin: 0 0.4em 0.5em 0.4em;box-sizing: border-box;padding-bottom: 0.4em;background-color: white;}#sk-container-id-2 div.sk-label label {font-family: monospace;font-weight: bold;display: inline-block;line-height: 1.2em;}#sk-container-id-2 div.sk-label-container {text-align: center;}#sk-container-id-2 div.sk-container {/* jupyter's `normalize.less` sets `[hidden] { display: none; }` but bootstrap.min.css set `[hidden] { display: none !important; }` so we also need the `!important` here to be able to override the default hidden behavior on the sphinx rendered scikit-learn.org. See: https://github.com/scikit-learn/scikit-learn/issues/21755 */display: inline-block !important;position: relative;}#sk-container-id-2 div.sk-text-repr-fallback {display: none;}</style><div id=\"sk-container-id-2\" class=\"sk-top-container\"><div class=\"sk-text-repr-fallback\"><pre>GridSearchCV(cv=5, estimator=DecisionTreeClassifier(),\n",
       "             param_grid={&#x27;criterion&#x27;: [&#x27;gini&#x27;, &#x27;entropy&#x27;],\n",
       "                         &#x27;max_depth&#x27;: [1, 2, 3, 4, 5],\n",
       "                         &#x27;max_features&#x27;: [&#x27;auto&#x27;, &#x27;sqrt&#x27;, &#x27;log2&#x27;],\n",
       "                         &#x27;splitter&#x27;: [&#x27;best&#x27;, &#x27;random&#x27;]},\n",
       "             scoring=&#x27;accuracy&#x27;)</pre><b>In a Jupyter environment, please rerun this cell to show the HTML representation or trust the notebook. <br />On GitHub, the HTML representation is unable to render, please try loading this page with nbviewer.org.</b></div><div class=\"sk-container\" hidden><div class=\"sk-item sk-dashed-wrapped\"><div class=\"sk-label-container\"><div class=\"sk-label sk-toggleable\"><input class=\"sk-toggleable__control sk-hidden--visually\" id=\"sk-estimator-id-8\" type=\"checkbox\" ><label for=\"sk-estimator-id-8\" class=\"sk-toggleable__label sk-toggleable__label-arrow\">GridSearchCV</label><div class=\"sk-toggleable__content\"><pre>GridSearchCV(cv=5, estimator=DecisionTreeClassifier(),\n",
       "             param_grid={&#x27;criterion&#x27;: [&#x27;gini&#x27;, &#x27;entropy&#x27;],\n",
       "                         &#x27;max_depth&#x27;: [1, 2, 3, 4, 5],\n",
       "                         &#x27;max_features&#x27;: [&#x27;auto&#x27;, &#x27;sqrt&#x27;, &#x27;log2&#x27;],\n",
       "                         &#x27;splitter&#x27;: [&#x27;best&#x27;, &#x27;random&#x27;]},\n",
       "             scoring=&#x27;accuracy&#x27;)</pre></div></div></div><div class=\"sk-parallel\"><div class=\"sk-parallel-item\"><div class=\"sk-item\"><div class=\"sk-label-container\"><div class=\"sk-label sk-toggleable\"><input class=\"sk-toggleable__control sk-hidden--visually\" id=\"sk-estimator-id-9\" type=\"checkbox\" ><label for=\"sk-estimator-id-9\" class=\"sk-toggleable__label sk-toggleable__label-arrow\">estimator: DecisionTreeClassifier</label><div class=\"sk-toggleable__content\"><pre>DecisionTreeClassifier()</pre></div></div></div><div class=\"sk-serial\"><div class=\"sk-item\"><div class=\"sk-estimator sk-toggleable\"><input class=\"sk-toggleable__control sk-hidden--visually\" id=\"sk-estimator-id-10\" type=\"checkbox\" ><label for=\"sk-estimator-id-10\" class=\"sk-toggleable__label sk-toggleable__label-arrow\">DecisionTreeClassifier</label><div class=\"sk-toggleable__content\"><pre>DecisionTreeClassifier()</pre></div></div></div></div></div></div></div></div></div></div>"
      ],
      "text/plain": [
       "GridSearchCV(cv=5, estimator=DecisionTreeClassifier(),\n",
       "             param_grid={'criterion': ['gini', 'entropy'],\n",
       "                         'max_depth': [1, 2, 3, 4, 5],\n",
       "                         'max_features': ['auto', 'sqrt', 'log2'],\n",
       "                         'splitter': ['best', 'random']},\n",
       "             scoring='accuracy')"
      ]
     },
     "execution_count": 91,
     "metadata": {},
     "output_type": "execute_result"
    }
   ],
   "source": [
    "cv.fit(x_train_enc,y_train)"
   ]
  },
  {
   "cell_type": "code",
   "execution_count": 92,
   "id": "81d7d349",
   "metadata": {},
   "outputs": [
    {
     "data": {
      "text/plain": [
       "{'criterion': 'entropy',\n",
       " 'max_depth': 4,\n",
       " 'max_features': 'log2',\n",
       " 'splitter': 'best'}"
      ]
     },
     "execution_count": 92,
     "metadata": {},
     "output_type": "execute_result"
    }
   ],
   "source": [
    "cv.best_params_"
   ]
  },
  {
   "cell_type": "code",
   "execution_count": 93,
   "id": "bdac4c58",
   "metadata": {},
   "outputs": [
    {
     "data": {
      "text/plain": [
       "array([0, 0, 1, ..., 0, 0, 0])"
      ]
     },
     "execution_count": 93,
     "metadata": {},
     "output_type": "execute_result"
    }
   ],
   "source": [
    "y_pred=cv.predict(x_test_enc)\n",
    "y_pred"
   ]
  },
  {
   "cell_type": "code",
   "execution_count": 94,
   "id": "66504b50",
   "metadata": {},
   "outputs": [
    {
     "data": {
      "text/plain": [
       "array([0, 0, 1, ..., 0, 0, 0])"
      ]
     },
     "execution_count": 94,
     "metadata": {},
     "output_type": "execute_result"
    }
   ],
   "source": [
    "y_test"
   ]
  },
  {
   "cell_type": "code",
   "execution_count": 95,
   "id": "5dd84751",
   "metadata": {},
   "outputs": [],
   "source": [
    "#checking accuracy of model\n",
    "\n",
    "score=accuracy_score(y_pred,y_test)"
   ]
  },
  {
   "cell_type": "code",
   "execution_count": 96,
   "id": "3a061ef6",
   "metadata": {},
   "outputs": [
    {
     "data": {
      "text/plain": [
       "0.9484777517564403"
      ]
     },
     "execution_count": 96,
     "metadata": {},
     "output_type": "execute_result"
    }
   ],
   "source": [
    "score"
   ]
  },
  {
   "cell_type": "code",
   "execution_count": 97,
   "id": "e638af04",
   "metadata": {},
   "outputs": [
    {
     "name": "stdout",
     "output_type": "stream",
     "text": [
      "              precision    recall  f1-score   support\n",
      "\n",
      "           0       0.93      0.99      0.96       764\n",
      "           1       0.99      0.88      0.93       517\n",
      "\n",
      "    accuracy                           0.95      1281\n",
      "   macro avg       0.96      0.94      0.95      1281\n",
      "weighted avg       0.95      0.95      0.95      1281\n",
      "\n"
     ]
    }
   ],
   "source": [
    "print(classification_report(y_pred,y_test))"
   ]
  },
  {
   "cell_type": "code",
   "execution_count": null,
   "id": "cb71e5c7",
   "metadata": {},
   "outputs": [],
   "source": []
  }
 ],
 "metadata": {
  "kernelspec": {
   "display_name": "Python 3 (ipykernel)",
   "language": "python",
   "name": "python3"
  },
  "language_info": {
   "codemirror_mode": {
    "name": "ipython",
    "version": 3
   },
   "file_extension": ".py",
   "mimetype": "text/x-python",
   "name": "python",
   "nbconvert_exporter": "python",
   "pygments_lexer": "ipython3",
   "version": "3.11.5"
  }
 },
 "nbformat": 4,
 "nbformat_minor": 5
}
