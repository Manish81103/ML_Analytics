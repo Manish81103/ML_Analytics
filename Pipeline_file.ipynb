{
 "cells": [
  {
   "cell_type": "code",
   "execution_count": 1,
   "id": "cda20451",
   "metadata": {},
   "outputs": [],
   "source": [
    "import numpy as np\n",
    "import pandas as pd\n",
    "import seaborn as sns\n",
    "import matplotlib.pyplot as plt\n",
    "from sklearn.model_selection import train_test_split, cross_val_score , GridSearchCV\n",
    "from sklearn.preprocessing import OneHotEncoder,OrdinalEncoder,LabelEncoder,MinMaxScaler\n",
    "from sklearn.impute import SimpleImputer,KNNImputer\n",
    "from sklearn.pipeline import Pipeline,make_pipeline\n",
    "from sklearn.tree import DecisionTreeClassifier\n",
    "from sklearn.compose import ColumnTransformer\n",
    "from sklearn.feature_selection import SelectKBest, chi2\n",
    "from sklearn.metrics import accuracy_score\n",
    "from sklearn.preprocessing import FunctionTransformer,RobustScaler,MinMaxScaler\n"
   ]
  },
  {
   "cell_type": "code",
   "execution_count": 2,
   "id": "d4e5d55d",
   "metadata": {},
   "outputs": [],
   "source": [
    "data=pd.read_csv('loan_dataset.csv')"
   ]
  },
  {
   "cell_type": "code",
   "execution_count": 3,
   "id": "89847544",
   "metadata": {},
   "outputs": [],
   "source": [
    "# droping unrelated columns\n",
    "\n",
    "data.drop(\"loan_id\",axis=True,inplace=True)"
   ]
  },
  {
   "cell_type": "code",
   "execution_count": 4,
   "id": "e24b594a",
   "metadata": {
    "scrolled": true
   },
   "outputs": [
    {
     "data": {
      "text/html": [
       "<div>\n",
       "<style scoped>\n",
       "    .dataframe tbody tr th:only-of-type {\n",
       "        vertical-align: middle;\n",
       "    }\n",
       "\n",
       "    .dataframe tbody tr th {\n",
       "        vertical-align: top;\n",
       "    }\n",
       "\n",
       "    .dataframe thead th {\n",
       "        text-align: right;\n",
       "    }\n",
       "</style>\n",
       "<table border=\"1\" class=\"dataframe\">\n",
       "  <thead>\n",
       "    <tr style=\"text-align: right;\">\n",
       "      <th></th>\n",
       "      <th>no_of_dependents</th>\n",
       "      <th>education</th>\n",
       "      <th>self_employed</th>\n",
       "      <th>income_annum</th>\n",
       "      <th>loan_amount</th>\n",
       "      <th>loan_term</th>\n",
       "      <th>cibil_score</th>\n",
       "      <th>residential_assets_value</th>\n",
       "      <th>commercial_assets_value</th>\n",
       "      <th>luxury_assets_value</th>\n",
       "      <th>bank_asset_value</th>\n",
       "      <th>loan_status</th>\n",
       "    </tr>\n",
       "  </thead>\n",
       "  <tbody>\n",
       "    <tr>\n",
       "      <th>0</th>\n",
       "      <td>2</td>\n",
       "      <td>NaN</td>\n",
       "      <td>No</td>\n",
       "      <td>9600000</td>\n",
       "      <td>29900000</td>\n",
       "      <td>12</td>\n",
       "      <td>778</td>\n",
       "      <td>2400000.0</td>\n",
       "      <td>17600000.0</td>\n",
       "      <td>NaN</td>\n",
       "      <td>8000000.0</td>\n",
       "      <td>Approved</td>\n",
       "    </tr>\n",
       "    <tr>\n",
       "      <th>1</th>\n",
       "      <td>0</td>\n",
       "      <td>Not Graduate</td>\n",
       "      <td>Yes</td>\n",
       "      <td>4100000</td>\n",
       "      <td>12200000</td>\n",
       "      <td>8</td>\n",
       "      <td>417</td>\n",
       "      <td>NaN</td>\n",
       "      <td>2200000.0</td>\n",
       "      <td>8800000.0</td>\n",
       "      <td>3300000.0</td>\n",
       "      <td>Rejected</td>\n",
       "    </tr>\n",
       "    <tr>\n",
       "      <th>2</th>\n",
       "      <td>3</td>\n",
       "      <td>Graduate</td>\n",
       "      <td>No</td>\n",
       "      <td>9100000</td>\n",
       "      <td>29700000</td>\n",
       "      <td>20</td>\n",
       "      <td>506</td>\n",
       "      <td>7100000.0</td>\n",
       "      <td>NaN</td>\n",
       "      <td>33300000.0</td>\n",
       "      <td>12800000.0</td>\n",
       "      <td>Rejected</td>\n",
       "    </tr>\n",
       "    <tr>\n",
       "      <th>3</th>\n",
       "      <td>3</td>\n",
       "      <td>NaN</td>\n",
       "      <td>No</td>\n",
       "      <td>8200000</td>\n",
       "      <td>30700000</td>\n",
       "      <td>8</td>\n",
       "      <td>467</td>\n",
       "      <td>18200000.0</td>\n",
       "      <td>3300000.0</td>\n",
       "      <td>23300000.0</td>\n",
       "      <td>7900000.0</td>\n",
       "      <td>Rejected</td>\n",
       "    </tr>\n",
       "    <tr>\n",
       "      <th>4</th>\n",
       "      <td>5</td>\n",
       "      <td>Not Graduate</td>\n",
       "      <td>Yes</td>\n",
       "      <td>9800000</td>\n",
       "      <td>24200000</td>\n",
       "      <td>20</td>\n",
       "      <td>382</td>\n",
       "      <td>12400000.0</td>\n",
       "      <td>8200000.0</td>\n",
       "      <td>29400000.0</td>\n",
       "      <td>5000000.0</td>\n",
       "      <td>Rejected</td>\n",
       "    </tr>\n",
       "  </tbody>\n",
       "</table>\n",
       "</div>"
      ],
      "text/plain": [
       "   no_of_dependents      education self_employed  income_annum  loan_amount  \\\n",
       "0                 2            NaN            No       9600000     29900000   \n",
       "1                 0   Not Graduate           Yes       4100000     12200000   \n",
       "2                 3       Graduate            No       9100000     29700000   \n",
       "3                 3            NaN            No       8200000     30700000   \n",
       "4                 5   Not Graduate           Yes       9800000     24200000   \n",
       "\n",
       "   loan_term  cibil_score  residential_assets_value  commercial_assets_value  \\\n",
       "0         12          778                 2400000.0               17600000.0   \n",
       "1          8          417                       NaN                2200000.0   \n",
       "2         20          506                 7100000.0                      NaN   \n",
       "3          8          467                18200000.0                3300000.0   \n",
       "4         20          382                12400000.0                8200000.0   \n",
       "\n",
       "   luxury_assets_value  bank_asset_value loan_status  \n",
       "0                  NaN         8000000.0    Approved  \n",
       "1            8800000.0         3300000.0    Rejected  \n",
       "2           33300000.0        12800000.0    Rejected  \n",
       "3           23300000.0         7900000.0    Rejected  \n",
       "4           29400000.0         5000000.0    Rejected  "
      ]
     },
     "execution_count": 4,
     "metadata": {},
     "output_type": "execute_result"
    }
   ],
   "source": [
    "df=data.copy()\n",
    "df.head()"
   ]
  },
  {
   "cell_type": "code",
   "execution_count": 5,
   "id": "4185bfbd",
   "metadata": {},
   "outputs": [
    {
     "name": "stdout",
     "output_type": "stream",
     "text": [
      "<class 'pandas.core.frame.DataFrame'>\n",
      "RangeIndex: 4269 entries, 0 to 4268\n",
      "Data columns (total 12 columns):\n",
      " #   Column                    Non-Null Count  Dtype  \n",
      "---  ------                    --------------  -----  \n",
      " 0   no_of_dependents          4269 non-null   int64  \n",
      " 1   education                 3629 non-null   object \n",
      " 2   self_employed             3928 non-null   object \n",
      " 3   income_annum              4269 non-null   int64  \n",
      " 4   loan_amount               4269 non-null   int64  \n",
      " 5   loan_term                 4269 non-null   int64  \n",
      " 6   cibil_score               4269 non-null   int64  \n",
      " 7   residential_assets_value  3885 non-null   float64\n",
      " 8   commercial_assets_value   4141 non-null   float64\n",
      " 9   luxury_assets_value       4013 non-null   float64\n",
      " 10  bank_asset_value          3843 non-null   float64\n",
      " 11  loan_status               4269 non-null   object \n",
      "dtypes: float64(4), int64(5), object(3)\n",
      "memory usage: 400.3+ KB\n"
     ]
    }
   ],
   "source": [
    "df.info()"
   ]
  },
  {
   "cell_type": "code",
   "execution_count": 6,
   "id": "460104ac",
   "metadata": {},
   "outputs": [],
   "source": [
    "categorical=[]\n",
    "numerical=[]\n",
    "\n",
    "for col in df:\n",
    "    if df[col].dtype=='O':\n",
    "        categorical.append(col)\n",
    "        \n",
    "    else:\n",
    "        numerical.append(col)"
   ]
  },
  {
   "cell_type": "code",
   "execution_count": 7,
   "id": "cc6b6c79",
   "metadata": {},
   "outputs": [],
   "source": [
    "# removing leading and trailing spaces from cols\n",
    "\n",
    "df[categorical]=df[categorical].apply(lambda x:x.str.strip())"
   ]
  },
  {
   "cell_type": "code",
   "execution_count": null,
   "id": "dcb00dfa",
   "metadata": {},
   "outputs": [],
   "source": []
  },
  {
   "cell_type": "code",
   "execution_count": 8,
   "id": "8c285571",
   "metadata": {},
   "outputs": [],
   "source": [
    "X=df.drop('loan_status',axis=True)\n",
    "y=df['loan_status']"
   ]
  },
  {
   "cell_type": "code",
   "execution_count": 9,
   "id": "8c9fc200",
   "metadata": {},
   "outputs": [],
   "source": [
    "X_train,X_test,y_train,y_test=train_test_split(X,y,train_size=0.7)"
   ]
  },
  {
   "cell_type": "code",
   "execution_count": 10,
   "id": "beb25b37",
   "metadata": {},
   "outputs": [
    {
     "data": {
      "text/plain": [
       "((2988, 11), (2988,))"
      ]
     },
     "execution_count": 10,
     "metadata": {},
     "output_type": "execute_result"
    }
   ],
   "source": [
    "X_train.shape , y_train.shape"
   ]
  },
  {
   "cell_type": "code",
   "execution_count": 11,
   "id": "79523c42",
   "metadata": {},
   "outputs": [],
   "source": [
    "def randomvalueimpuation_cat(x):\n",
    "    x = x.copy()\n",
    "    for col in x.columns:\n",
    "        non_missing = x[col].dropna().values\n",
    "        x[col] = x[col].apply(lambda val: np.random.choice(non_missing) if pd.isnull(val) else val)\n",
    "    return x"
   ]
  },
  {
   "cell_type": "code",
   "execution_count": 12,
   "id": "bac46dc3",
   "metadata": {},
   "outputs": [],
   "source": [
    "random_imputer = FunctionTransformer(randomvalueimpuation_cat)"
   ]
  },
  {
   "cell_type": "code",
   "execution_count": 13,
   "id": "e1753af0",
   "metadata": {},
   "outputs": [],
   "source": [
    "selfed_pipe = Pipeline([\n",
    "    ('encode', OneHotEncoder(drop='first', handle_unknown='ignore'))\n",
    "])"
   ]
  },
  {
   "cell_type": "code",
   "execution_count": null,
   "id": "577b0f04",
   "metadata": {},
   "outputs": [],
   "source": []
  },
  {
   "cell_type": "markdown",
   "id": "af07f7d5",
   "metadata": {},
   "source": [
    "# <center>Encoding training data<center>"
   ]
  },
  {
   "cell_type": "code",
   "execution_count": 14,
   "id": "a0cc0c50",
   "metadata": {},
   "outputs": [],
   "source": [
    "tf1 = ColumnTransformer([\n",
    "    ('impute_selfed', selfed_pipe,[1,2]),\n",
    "    ('knn', KNNImputer(n_neighbors=5), [7,8,9,10]),\n",
    "], remainder='passthrough')"
   ]
  },
  {
   "cell_type": "code",
   "execution_count": 15,
   "id": "99fbf7c9",
   "metadata": {},
   "outputs": [],
   "source": [
    "tf2 = ColumnTransformer([\n",
    "    ('scaler', RobustScaler(), [3,4,5,6,7,8,9,10,11,12])\n",
    "], remainder='passthrough')"
   ]
  },
  {
   "cell_type": "code",
   "execution_count": 16,
   "id": "3b89c5e2",
   "metadata": {},
   "outputs": [],
   "source": [
    "pipe = Pipeline([('tf1', tf1),('tf2',tf2)])"
   ]
  },
  {
   "cell_type": "code",
   "execution_count": 17,
   "id": "22a21512",
   "metadata": {},
   "outputs": [],
   "source": [
    "X_train_trans = pipe.fit_transform(X_train,y_train)"
   ]
  },
  {
   "cell_type": "code",
   "execution_count": 18,
   "id": "fb1d33a4",
   "metadata": {},
   "outputs": [],
   "source": [
    "X_train_trans_df = pd.DataFrame(X_train_trans)"
   ]
  },
  {
   "cell_type": "code",
   "execution_count": 19,
   "id": "37da7c67",
   "metadata": {},
   "outputs": [
    {
     "data": {
      "text/plain": [
       "(2988, 13)"
      ]
     },
     "execution_count": 19,
     "metadata": {},
     "output_type": "execute_result"
    }
   ],
   "source": [
    "X_train_trans.shape"
   ]
  },
  {
   "cell_type": "code",
   "execution_count": 20,
   "id": "a7ac1b23",
   "metadata": {},
   "outputs": [
    {
     "data": {
      "text/plain": [
       "(2988, 11)"
      ]
     },
     "execution_count": 20,
     "metadata": {},
     "output_type": "execute_result"
    }
   ],
   "source": [
    "X_train.shape"
   ]
  },
  {
   "cell_type": "code",
   "execution_count": null,
   "id": "70291c19",
   "metadata": {},
   "outputs": [],
   "source": []
  }
 ],
 "metadata": {
  "kernelspec": {
   "display_name": "Python 3 (ipykernel)",
   "language": "python",
   "name": "python3"
  },
  "language_info": {
   "codemirror_mode": {
    "name": "ipython",
    "version": 3
   },
   "file_extension": ".py",
   "mimetype": "text/x-python",
   "name": "python",
   "nbconvert_exporter": "python",
   "pygments_lexer": "ipython3",
   "version": "3.11.5"
  }
 },
 "nbformat": 4,
 "nbformat_minor": 5
}
