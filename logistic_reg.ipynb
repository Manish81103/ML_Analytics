{
 "cells": [
  {
   "cell_type": "code",
   "execution_count": 56,
   "id": "d6f0ce0d",
   "metadata": {},
   "outputs": [],
   "source": [
    "import numpy as np\n",
    "import pandas as pd\n",
    "import matplotlib.pyplot as plt\n",
    "import seaborn as sns\n",
    "from sklearn.linear_model import LogisticRegression\n",
    "from sklearn.model_selection import train_test_split\n",
    "from sklearn.preprocessing import OneHotEncoder,LabelEncoder,RobustScaler\n",
    "from sklearn.compose import ColumnTransformer\n",
    "from sklearn.metrics import mean_squared_error,r2_score,adjusted_rand_score,mean_absolute_percentage_error"
   ]
  },
  {
   "cell_type": "code",
   "execution_count": 2,
   "id": "83b584e4",
   "metadata": {},
   "outputs": [],
   "source": [
    "data=pd.read_csv(\"C:\\\\Users\\\\manish singh\\\\OneDrive\\\\Desktop\\\\exl_database\\\\loan_approval_dataset.csv\")"
   ]
  },
  {
   "cell_type": "code",
   "execution_count": 3,
   "id": "386612cd",
   "metadata": {},
   "outputs": [
    {
     "data": {
      "text/html": [
       "<div>\n",
       "<style scoped>\n",
       "    .dataframe tbody tr th:only-of-type {\n",
       "        vertical-align: middle;\n",
       "    }\n",
       "\n",
       "    .dataframe tbody tr th {\n",
       "        vertical-align: top;\n",
       "    }\n",
       "\n",
       "    .dataframe thead th {\n",
       "        text-align: right;\n",
       "    }\n",
       "</style>\n",
       "<table border=\"1\" class=\"dataframe\">\n",
       "  <thead>\n",
       "    <tr style=\"text-align: right;\">\n",
       "      <th></th>\n",
       "      <th>loan_id</th>\n",
       "      <th>no_of_dependents</th>\n",
       "      <th>education</th>\n",
       "      <th>self_employed</th>\n",
       "      <th>income_annum</th>\n",
       "      <th>loan_amount</th>\n",
       "      <th>loan_term</th>\n",
       "      <th>cibil_score</th>\n",
       "      <th>residential_assets_value</th>\n",
       "      <th>commercial_assets_value</th>\n",
       "      <th>luxury_assets_value</th>\n",
       "      <th>bank_asset_value</th>\n",
       "      <th>loan_status</th>\n",
       "    </tr>\n",
       "  </thead>\n",
       "  <tbody>\n",
       "    <tr>\n",
       "      <th>0</th>\n",
       "      <td>1</td>\n",
       "      <td>2</td>\n",
       "      <td>Graduate</td>\n",
       "      <td>No</td>\n",
       "      <td>9600000</td>\n",
       "      <td>29900000</td>\n",
       "      <td>12</td>\n",
       "      <td>778</td>\n",
       "      <td>2400000</td>\n",
       "      <td>17600000</td>\n",
       "      <td>22700000</td>\n",
       "      <td>8000000</td>\n",
       "      <td>Approved</td>\n",
       "    </tr>\n",
       "    <tr>\n",
       "      <th>1</th>\n",
       "      <td>2</td>\n",
       "      <td>0</td>\n",
       "      <td>Not Graduate</td>\n",
       "      <td>Yes</td>\n",
       "      <td>4100000</td>\n",
       "      <td>12200000</td>\n",
       "      <td>8</td>\n",
       "      <td>417</td>\n",
       "      <td>2700000</td>\n",
       "      <td>2200000</td>\n",
       "      <td>8800000</td>\n",
       "      <td>3300000</td>\n",
       "      <td>Rejected</td>\n",
       "    </tr>\n",
       "    <tr>\n",
       "      <th>2</th>\n",
       "      <td>3</td>\n",
       "      <td>3</td>\n",
       "      <td>Graduate</td>\n",
       "      <td>No</td>\n",
       "      <td>9100000</td>\n",
       "      <td>29700000</td>\n",
       "      <td>20</td>\n",
       "      <td>506</td>\n",
       "      <td>7100000</td>\n",
       "      <td>4500000</td>\n",
       "      <td>33300000</td>\n",
       "      <td>12800000</td>\n",
       "      <td>Rejected</td>\n",
       "    </tr>\n",
       "    <tr>\n",
       "      <th>3</th>\n",
       "      <td>4</td>\n",
       "      <td>3</td>\n",
       "      <td>Graduate</td>\n",
       "      <td>No</td>\n",
       "      <td>8200000</td>\n",
       "      <td>30700000</td>\n",
       "      <td>8</td>\n",
       "      <td>467</td>\n",
       "      <td>18200000</td>\n",
       "      <td>3300000</td>\n",
       "      <td>23300000</td>\n",
       "      <td>7900000</td>\n",
       "      <td>Rejected</td>\n",
       "    </tr>\n",
       "    <tr>\n",
       "      <th>4</th>\n",
       "      <td>5</td>\n",
       "      <td>5</td>\n",
       "      <td>Not Graduate</td>\n",
       "      <td>Yes</td>\n",
       "      <td>9800000</td>\n",
       "      <td>24200000</td>\n",
       "      <td>20</td>\n",
       "      <td>382</td>\n",
       "      <td>12400000</td>\n",
       "      <td>8200000</td>\n",
       "      <td>29400000</td>\n",
       "      <td>5000000</td>\n",
       "      <td>Rejected</td>\n",
       "    </tr>\n",
       "  </tbody>\n",
       "</table>\n",
       "</div>"
      ],
      "text/plain": [
       "   loan_id  no_of_dependents      education self_employed  income_annum  \\\n",
       "0        1                 2       Graduate            No       9600000   \n",
       "1        2                 0   Not Graduate           Yes       4100000   \n",
       "2        3                 3       Graduate            No       9100000   \n",
       "3        4                 3       Graduate            No       8200000   \n",
       "4        5                 5   Not Graduate           Yes       9800000   \n",
       "\n",
       "   loan_amount  loan_term  cibil_score  residential_assets_value  \\\n",
       "0     29900000         12          778                   2400000   \n",
       "1     12200000          8          417                   2700000   \n",
       "2     29700000         20          506                   7100000   \n",
       "3     30700000          8          467                  18200000   \n",
       "4     24200000         20          382                  12400000   \n",
       "\n",
       "   commercial_assets_value  luxury_assets_value  bank_asset_value loan_status  \n",
       "0                 17600000             22700000           8000000    Approved  \n",
       "1                  2200000              8800000           3300000    Rejected  \n",
       "2                  4500000             33300000          12800000    Rejected  \n",
       "3                  3300000             23300000           7900000    Rejected  \n",
       "4                  8200000             29400000           5000000    Rejected  "
      ]
     },
     "execution_count": 3,
     "metadata": {},
     "output_type": "execute_result"
    }
   ],
   "source": [
    "df=data.copy()\n",
    "df.head()"
   ]
  },
  {
   "cell_type": "code",
   "execution_count": 4,
   "id": "e25aa83f",
   "metadata": {},
   "outputs": [
    {
     "name": "stdout",
     "output_type": "stream",
     "text": [
      "<class 'pandas.core.frame.DataFrame'>\n",
      "RangeIndex: 4269 entries, 0 to 4268\n",
      "Data columns (total 13 columns):\n",
      " #   Column                    Non-Null Count  Dtype \n",
      "---  ------                    --------------  ----- \n",
      " 0   loan_id                   4269 non-null   int64 \n",
      " 1   no_of_dependents          4269 non-null   int64 \n",
      " 2   education                 4269 non-null   object\n",
      " 3   self_employed             4269 non-null   object\n",
      " 4   income_annum              4269 non-null   int64 \n",
      " 5   loan_amount               4269 non-null   int64 \n",
      " 6   loan_term                 4269 non-null   int64 \n",
      " 7   cibil_score               4269 non-null   int64 \n",
      " 8   residential_assets_value  4269 non-null   int64 \n",
      " 9   commercial_assets_value   4269 non-null   int64 \n",
      " 10  luxury_assets_value       4269 non-null   int64 \n",
      " 11  bank_asset_value          4269 non-null   int64 \n",
      " 12  loan_status               4269 non-null   object\n",
      "dtypes: int64(10), object(3)\n",
      "memory usage: 433.7+ KB\n"
     ]
    }
   ],
   "source": [
    "df.info()"
   ]
  },
  {
   "cell_type": "code",
   "execution_count": 5,
   "id": "47e73ea3",
   "metadata": {},
   "outputs": [
    {
     "data": {
      "text/plain": [
       "loan_id                     0\n",
       "no_of_dependents            0\n",
       "education                   0\n",
       "self_employed               0\n",
       "income_annum                0\n",
       "loan_amount                 0\n",
       "loan_term                   0\n",
       "cibil_score                 0\n",
       "residential_assets_value    0\n",
       "commercial_assets_value     0\n",
       "luxury_assets_value         0\n",
       "bank_asset_value            0\n",
       "loan_status                 0\n",
       "dtype: int64"
      ]
     },
     "execution_count": 5,
     "metadata": {},
     "output_type": "execute_result"
    }
   ],
   "source": [
    "df.isnull().sum()"
   ]
  },
  {
   "cell_type": "code",
   "execution_count": 6,
   "id": "8d05137c",
   "metadata": {},
   "outputs": [
    {
     "data": {
      "text/html": [
       "<div>\n",
       "<style scoped>\n",
       "    .dataframe tbody tr th:only-of-type {\n",
       "        vertical-align: middle;\n",
       "    }\n",
       "\n",
       "    .dataframe tbody tr th {\n",
       "        vertical-align: top;\n",
       "    }\n",
       "\n",
       "    .dataframe thead th {\n",
       "        text-align: right;\n",
       "    }\n",
       "</style>\n",
       "<table border=\"1\" class=\"dataframe\">\n",
       "  <thead>\n",
       "    <tr style=\"text-align: right;\">\n",
       "      <th></th>\n",
       "      <th>loan_id</th>\n",
       "      <th>no_of_dependents</th>\n",
       "      <th>income_annum</th>\n",
       "      <th>loan_amount</th>\n",
       "      <th>loan_term</th>\n",
       "      <th>cibil_score</th>\n",
       "      <th>residential_assets_value</th>\n",
       "      <th>commercial_assets_value</th>\n",
       "      <th>luxury_assets_value</th>\n",
       "      <th>bank_asset_value</th>\n",
       "    </tr>\n",
       "  </thead>\n",
       "  <tbody>\n",
       "    <tr>\n",
       "      <th>count</th>\n",
       "      <td>4269.000000</td>\n",
       "      <td>4269.000000</td>\n",
       "      <td>4.269000e+03</td>\n",
       "      <td>4.269000e+03</td>\n",
       "      <td>4269.000000</td>\n",
       "      <td>4269.000000</td>\n",
       "      <td>4.269000e+03</td>\n",
       "      <td>4.269000e+03</td>\n",
       "      <td>4.269000e+03</td>\n",
       "      <td>4.269000e+03</td>\n",
       "    </tr>\n",
       "    <tr>\n",
       "      <th>mean</th>\n",
       "      <td>2135.000000</td>\n",
       "      <td>2.498712</td>\n",
       "      <td>5.059124e+06</td>\n",
       "      <td>1.513345e+07</td>\n",
       "      <td>10.900445</td>\n",
       "      <td>599.936051</td>\n",
       "      <td>7.472617e+06</td>\n",
       "      <td>4.973155e+06</td>\n",
       "      <td>1.512631e+07</td>\n",
       "      <td>4.976692e+06</td>\n",
       "    </tr>\n",
       "    <tr>\n",
       "      <th>std</th>\n",
       "      <td>1232.498479</td>\n",
       "      <td>1.695910</td>\n",
       "      <td>2.806840e+06</td>\n",
       "      <td>9.043363e+06</td>\n",
       "      <td>5.709187</td>\n",
       "      <td>172.430401</td>\n",
       "      <td>6.503637e+06</td>\n",
       "      <td>4.388966e+06</td>\n",
       "      <td>9.103754e+06</td>\n",
       "      <td>3.250185e+06</td>\n",
       "    </tr>\n",
       "    <tr>\n",
       "      <th>min</th>\n",
       "      <td>1.000000</td>\n",
       "      <td>0.000000</td>\n",
       "      <td>2.000000e+05</td>\n",
       "      <td>3.000000e+05</td>\n",
       "      <td>2.000000</td>\n",
       "      <td>300.000000</td>\n",
       "      <td>-1.000000e+05</td>\n",
       "      <td>0.000000e+00</td>\n",
       "      <td>3.000000e+05</td>\n",
       "      <td>0.000000e+00</td>\n",
       "    </tr>\n",
       "    <tr>\n",
       "      <th>25%</th>\n",
       "      <td>1068.000000</td>\n",
       "      <td>1.000000</td>\n",
       "      <td>2.700000e+06</td>\n",
       "      <td>7.700000e+06</td>\n",
       "      <td>6.000000</td>\n",
       "      <td>453.000000</td>\n",
       "      <td>2.200000e+06</td>\n",
       "      <td>1.300000e+06</td>\n",
       "      <td>7.500000e+06</td>\n",
       "      <td>2.300000e+06</td>\n",
       "    </tr>\n",
       "    <tr>\n",
       "      <th>50%</th>\n",
       "      <td>2135.000000</td>\n",
       "      <td>3.000000</td>\n",
       "      <td>5.100000e+06</td>\n",
       "      <td>1.450000e+07</td>\n",
       "      <td>10.000000</td>\n",
       "      <td>600.000000</td>\n",
       "      <td>5.600000e+06</td>\n",
       "      <td>3.700000e+06</td>\n",
       "      <td>1.460000e+07</td>\n",
       "      <td>4.600000e+06</td>\n",
       "    </tr>\n",
       "    <tr>\n",
       "      <th>75%</th>\n",
       "      <td>3202.000000</td>\n",
       "      <td>4.000000</td>\n",
       "      <td>7.500000e+06</td>\n",
       "      <td>2.150000e+07</td>\n",
       "      <td>16.000000</td>\n",
       "      <td>748.000000</td>\n",
       "      <td>1.130000e+07</td>\n",
       "      <td>7.600000e+06</td>\n",
       "      <td>2.170000e+07</td>\n",
       "      <td>7.100000e+06</td>\n",
       "    </tr>\n",
       "    <tr>\n",
       "      <th>max</th>\n",
       "      <td>4269.000000</td>\n",
       "      <td>5.000000</td>\n",
       "      <td>9.900000e+06</td>\n",
       "      <td>3.950000e+07</td>\n",
       "      <td>20.000000</td>\n",
       "      <td>900.000000</td>\n",
       "      <td>2.910000e+07</td>\n",
       "      <td>1.940000e+07</td>\n",
       "      <td>3.920000e+07</td>\n",
       "      <td>1.470000e+07</td>\n",
       "    </tr>\n",
       "  </tbody>\n",
       "</table>\n",
       "</div>"
      ],
      "text/plain": [
       "           loan_id  no_of_dependents  income_annum   loan_amount    loan_term  \\\n",
       "count  4269.000000       4269.000000  4.269000e+03  4.269000e+03  4269.000000   \n",
       "mean   2135.000000          2.498712  5.059124e+06  1.513345e+07    10.900445   \n",
       "std    1232.498479          1.695910  2.806840e+06  9.043363e+06     5.709187   \n",
       "min       1.000000          0.000000  2.000000e+05  3.000000e+05     2.000000   \n",
       "25%    1068.000000          1.000000  2.700000e+06  7.700000e+06     6.000000   \n",
       "50%    2135.000000          3.000000  5.100000e+06  1.450000e+07    10.000000   \n",
       "75%    3202.000000          4.000000  7.500000e+06  2.150000e+07    16.000000   \n",
       "max    4269.000000          5.000000  9.900000e+06  3.950000e+07    20.000000   \n",
       "\n",
       "       cibil_score  residential_assets_value  commercial_assets_value  \\\n",
       "count  4269.000000              4.269000e+03             4.269000e+03   \n",
       "mean    599.936051              7.472617e+06             4.973155e+06   \n",
       "std     172.430401              6.503637e+06             4.388966e+06   \n",
       "min     300.000000             -1.000000e+05             0.000000e+00   \n",
       "25%     453.000000              2.200000e+06             1.300000e+06   \n",
       "50%     600.000000              5.600000e+06             3.700000e+06   \n",
       "75%     748.000000              1.130000e+07             7.600000e+06   \n",
       "max     900.000000              2.910000e+07             1.940000e+07   \n",
       "\n",
       "       luxury_assets_value  bank_asset_value  \n",
       "count         4.269000e+03      4.269000e+03  \n",
       "mean          1.512631e+07      4.976692e+06  \n",
       "std           9.103754e+06      3.250185e+06  \n",
       "min           3.000000e+05      0.000000e+00  \n",
       "25%           7.500000e+06      2.300000e+06  \n",
       "50%           1.460000e+07      4.600000e+06  \n",
       "75%           2.170000e+07      7.100000e+06  \n",
       "max           3.920000e+07      1.470000e+07  "
      ]
     },
     "execution_count": 6,
     "metadata": {},
     "output_type": "execute_result"
    }
   ],
   "source": [
    "df.describe()"
   ]
  },
  {
   "cell_type": "code",
   "execution_count": 7,
   "id": "ffe07c67",
   "metadata": {},
   "outputs": [
    {
     "data": {
      "text/plain": [
       "Index(['loan_id', 'no_of_dependents', 'education', 'self_employed',\n",
       "       'income_annum', 'loan_amount', 'loan_term', 'cibil_score',\n",
       "       'residential_assets_value', 'commercial_assets_value',\n",
       "       'luxury_assets_value', 'bank_asset_value', 'loan_status'],\n",
       "      dtype='object')"
      ]
     },
     "execution_count": 7,
     "metadata": {},
     "output_type": "execute_result"
    }
   ],
   "source": [
    "df.columns"
   ]
  },
  {
   "cell_type": "code",
   "execution_count": 8,
   "id": "969c9179",
   "metadata": {},
   "outputs": [],
   "source": [
    "df.drop('loan_id',axis=1,inplace=True)"
   ]
  },
  {
   "cell_type": "code",
   "execution_count": 9,
   "id": "4f7744c4",
   "metadata": {},
   "outputs": [],
   "source": [
    "categorical=[]\n",
    "numerical=[]\n",
    "\n",
    "for col in df:\n",
    "    if df[col].dtype=='O':\n",
    "        categorical.append(col)\n",
    "        \n",
    "    else:\n",
    "        numerical.append(col)"
   ]
  },
  {
   "cell_type": "code",
   "execution_count": 10,
   "id": "66940b7d",
   "metadata": {},
   "outputs": [],
   "source": [
    "\n",
    "df[categorical]=df[categorical].apply(lambda x:x.str.strip())"
   ]
  },
  {
   "cell_type": "code",
   "execution_count": 11,
   "id": "08c929af",
   "metadata": {},
   "outputs": [
    {
     "name": "stdout",
     "output_type": "stream",
     "text": [
      "categorical cols: ['education', 'self_employed', 'loan_status']\n",
      "\n",
      "numerical cols: ['no_of_dependents', 'income_annum', 'loan_amount', 'loan_term', 'cibil_score', 'residential_assets_value', 'commercial_assets_value', 'luxury_assets_value', 'bank_asset_value']\n"
     ]
    }
   ],
   "source": [
    "print(\"categorical cols:\",categorical)\n",
    "print()\n",
    "print(\"numerical cols:\",numerical)"
   ]
  },
  {
   "cell_type": "code",
   "execution_count": null,
   "id": "951d51ea",
   "metadata": {},
   "outputs": [],
   "source": []
  },
  {
   "cell_type": "markdown",
   "id": "416db584",
   "metadata": {},
   "source": [
    "# <center>=====Identifying Outliers====<center>"
   ]
  },
  {
   "cell_type": "code",
   "execution_count": 12,
   "id": "46ca824f",
   "metadata": {
    "scrolled": false
   },
   "outputs": [
    {
     "data": {
      "image/png": "[encoded data removed]",
      "text/plain": [
       "<Figure size 500x400 with 1 Axes>"
      ]
     },
     "metadata": {},
     "output_type": "display_data"
    },
    {
     "data": {
      "image/png": "[encoded data removed]",
      "text/plain": [
       "<Figure size 500x400 with 1 Axes>"
      ]
     },
     "metadata": {},
     "output_type": "display_data"
    },
    {
     "data": {
      "image/png": "[encoded data removed]",
      "text/plain": [
       "<Figure size 500x400 with 1 Axes>"
      ]
     },
     "metadata": {},
     "output_type": "display_data"
    },
    {
     "data": {
      "image/png": "[encoded data removed]",
      "text/plain": [
       "<Figure size 500x400 with 1 Axes>"
      ]
     },
     "metadata": {},
     "output_type": "display_data"
    },
    {
     "data": {
      "image/png": "[encoded data removed]",
      "text/plain": [
       "<Figure size 500x400 with 1 Axes>"
      ]
     },
     "metadata": {},
     "output_type": "display_data"
    },
    {
     "data": {
      "image/png": "[encoded data removed]",
      "text/plain": [
       "<Figure size 500x400 with 1 Axes>"
      ]
     },
     "metadata": {},
     "output_type": "display_data"
    },
    {
     "data": {
      "image/png": "[encoded data removed]",
      "text/plain": [
       "<Figure size 500x400 with 1 Axes>"
      ]
     },
     "metadata": {},
     "output_type": "display_data"
    },
    {
     "data": {
      "image/png": "[encoded data removed]",
      "text/plain": [
       "<Figure size 500x400 with 1 Axes>"
      ]
     },
     "metadata": {},
     "output_type": "display_data"
    },
    {
     "data": {
      "image/png": "[encoded data removed]",
      "text/plain": [
       "<Figure size 500x400 with 1 Axes>"
      ]
     },
     "metadata": {},
     "output_type": "display_data"
    }
   ],
   "source": [
    "for col in df[numerical]:\n",
    "    plt.figure(figsize=(5,4))\n",
    "    sns.boxplot(df,x=col)"
   ]
  },
  {
   "cell_type": "code",
   "execution_count": null,
   "id": "ad70faf9",
   "metadata": {},
   "outputs": [],
   "source": []
  },
  {
   "cell_type": "markdown",
   "id": "8cb1cf67",
   "metadata": {},
   "source": [
    "# <center>====Handling outliers by IQR method====</center>"
   ]
  },
  {
   "cell_type": "code",
   "execution_count": 13,
   "id": "31487b4c",
   "metadata": {},
   "outputs": [],
   "source": [
    "outlier_cols=['residential_assets_value','commercial_assets_value','bank_asset_value']"
   ]
  },
  {
   "cell_type": "code",
   "execution_count": 14,
   "id": "f696905d",
   "metadata": {},
   "outputs": [],
   "source": [
    "def iqr_method(data,columns):\n",
    "    data=df\n",
    "    for col in columns:\n",
    "        p25=df[col].quantile(0.25)\n",
    "        p75=df[col].quantile(0.75)\n",
    "\n",
    "\n",
    "\n",
    "        iqr=p75-p25\n",
    "        uf=p75+1.5*iqr\n",
    "        lf=p25-1.5*iqr\n",
    "\n",
    "        df[(df[col]>uf) | (df[col]<lf)].shape\n",
    "\n",
    "        df[(df[col]<uf) & (df[col]>lf)].shape\n",
    "\n",
    "        df[col]=np.where(df[col]>uf,uf,np.where(df[col]<lf,lf,df[col]))\n",
    "\n",
    "\n"
   ]
  },
  {
   "cell_type": "code",
   "execution_count": 15,
   "id": "887f8ad0",
   "metadata": {},
   "outputs": [],
   "source": [
    "iqr_method(df,outlier_cols)"
   ]
  },
  {
   "cell_type": "markdown",
   "id": "7a024ae8",
   "metadata": {},
   "source": [
    "# <center><br>Distribution Curves  Before and After Handling Outliers</br><center>"
   ]
  },
  {
   "cell_type": "code",
   "execution_count": 16,
   "id": "54a554de",
   "metadata": {},
   "outputs": [
    {
     "data": {
      "text/plain": [
       "<matplotlib.legend.Legend at 0x1ceec375090>"
      ]
     },
     "execution_count": 16,
     "metadata": {},
     "output_type": "execute_result"
    },
    {
     "data": {
      "image/png": "[encoded data removed]",
      "text/plain": [
       "<Figure size 600x400 with 1 Axes>"
      ]
     },
     "metadata": {},
     "output_type": "display_data"
    },
    {
     "data": {
      "image/png": "[encoded data removed]",
      "text/plain": [
       "<Figure size 600x400 with 1 Axes>"
      ]
     },
     "metadata": {},
     "output_type": "display_data"
    },
    {
     "data": {
      "image/png": "[encoded data removed]",
      "text/plain": [
       "<Figure size 600x400 with 1 Axes>"
      ]
     },
     "metadata": {},
     "output_type": "display_data"
    }
   ],
   "source": [
    "plt.figure(figsize=(6,4))\n",
    "sns.kdeplot(data,x='residential_assets_value',label='After')\n",
    "sns.kdeplot(df,x='residential_assets_value',label='Before')\n",
    "plt.legend()\n",
    "\n",
    "plt.figure(figsize=(6,4))\n",
    "sns.kdeplot(data,x='commercial_assets_value',label='After')\n",
    "sns.kdeplot(df,x='commercial_assets_value',label='Before')\n",
    "plt.legend()\n",
    "\n",
    "plt.figure(figsize=(6,4))\n",
    "sns.kdeplot(data,x='bank_asset_value',label='After')\n",
    "sns.kdeplot(df,x='bank_asset_value',label='Before')\n",
    "plt.legend()"
   ]
  },
  {
   "cell_type": "code",
   "execution_count": null,
   "id": "3c33b6a0",
   "metadata": {},
   "outputs": [],
   "source": []
  },
  {
   "cell_type": "markdown",
   "id": "bb792e42",
   "metadata": {},
   "source": [
    "# <center><br>Boxplot Before and After Handling Outliers</br><center>"
   ]
  },
  {
   "cell_type": "code",
   "execution_count": 17,
   "id": "fafa6f8b",
   "metadata": {
    "scrolled": false
   },
   "outputs": [
    {
     "data": {
      "image/png": "[encoded data removed]",
      "text/plain": [
       "<Figure size 500x400 with 1 Axes>"
      ]
     },
     "metadata": {},
     "output_type": "display_data"
    },
    {
     "data": {
      "image/png": "[encoded data removed]",
      "text/plain": [
       "<Figure size 500x400 with 1 Axes>"
      ]
     },
     "metadata": {},
     "output_type": "display_data"
    },
    {
     "data": {
      "image/png": "[encoded data removed]",
      "text/plain": [
       "<Figure size 500x400 with 1 Axes>"
      ]
     },
     "metadata": {},
     "output_type": "display_data"
    }
   ],
   "source": [
    "for col in outlier_cols:\n",
    "    plt.figure(figsize=(5,4))\n",
    "    sns.boxplot(df,x=col)"
   ]
  },
  {
   "cell_type": "code",
   "execution_count": 18,
   "id": "62d3626e",
   "metadata": {},
   "outputs": [],
   "source": [
    "# spliting columns\n",
    "\n",
    "x=df.drop('loan_status',axis=1)\n",
    "y=df['loan_status']"
   ]
  },
  {
   "cell_type": "code",
   "execution_count": 19,
   "id": "6adc887e",
   "metadata": {},
   "outputs": [],
   "source": [
    "x_train,x_test,y_train,y_test=train_test_split(x,y,train_size=0.7)"
   ]
  },
  {
   "cell_type": "code",
   "execution_count": 20,
   "id": "e1909201",
   "metadata": {},
   "outputs": [
    {
     "data": {
      "text/plain": [
       "(2988, 11)"
      ]
     },
     "execution_count": 20,
     "metadata": {},
     "output_type": "execute_result"
    }
   ],
   "source": [
    "x_train.shape"
   ]
  },
  {
   "cell_type": "code",
   "execution_count": 21,
   "id": "a8738b05",
   "metadata": {},
   "outputs": [
    {
     "data": {
      "text/plain": [
       "(1281, 11)"
      ]
     },
     "execution_count": 21,
     "metadata": {},
     "output_type": "execute_result"
    }
   ],
   "source": [
    "x_test.shape"
   ]
  },
  {
   "cell_type": "code",
   "execution_count": null,
   "id": "45d84c27",
   "metadata": {},
   "outputs": [],
   "source": []
  },
  {
   "cell_type": "markdown",
   "id": "c8e797e7",
   "metadata": {},
   "source": [
    "# <center>====Incoding and Scaling training data====<center>"
   ]
  },
  {
   "cell_type": "code",
   "execution_count": 22,
   "id": "b4132814",
   "metadata": {},
   "outputs": [
    {
     "data": {
      "text/html": [
       "<div>\n",
       "<style scoped>\n",
       "    .dataframe tbody tr th:only-of-type {\n",
       "        vertical-align: middle;\n",
       "    }\n",
       "\n",
       "    .dataframe tbody tr th {\n",
       "        vertical-align: top;\n",
       "    }\n",
       "\n",
       "    .dataframe thead th {\n",
       "        text-align: right;\n",
       "    }\n",
       "</style>\n",
       "<table border=\"1\" class=\"dataframe\">\n",
       "  <thead>\n",
       "    <tr style=\"text-align: right;\">\n",
       "      <th></th>\n",
       "      <th>no_of_dependents</th>\n",
       "      <th>education</th>\n",
       "      <th>self_employed</th>\n",
       "      <th>income_annum</th>\n",
       "      <th>loan_amount</th>\n",
       "      <th>loan_term</th>\n",
       "      <th>cibil_score</th>\n",
       "      <th>residential_assets_value</th>\n",
       "      <th>commercial_assets_value</th>\n",
       "      <th>luxury_assets_value</th>\n",
       "      <th>bank_asset_value</th>\n",
       "    </tr>\n",
       "  </thead>\n",
       "  <tbody>\n",
       "    <tr>\n",
       "      <th>2047</th>\n",
       "      <td>1</td>\n",
       "      <td>Not Graduate</td>\n",
       "      <td>Yes</td>\n",
       "      <td>4300000</td>\n",
       "      <td>9400000</td>\n",
       "      <td>6</td>\n",
       "      <td>543</td>\n",
       "      <td>7400000.0</td>\n",
       "      <td>5200000.0</td>\n",
       "      <td>14800000</td>\n",
       "      <td>4200000.0</td>\n",
       "    </tr>\n",
       "    <tr>\n",
       "      <th>4002</th>\n",
       "      <td>1</td>\n",
       "      <td>Graduate</td>\n",
       "      <td>No</td>\n",
       "      <td>4600000</td>\n",
       "      <td>12700000</td>\n",
       "      <td>8</td>\n",
       "      <td>468</td>\n",
       "      <td>10400000.0</td>\n",
       "      <td>0.0</td>\n",
       "      <td>14500000</td>\n",
       "      <td>3900000.0</td>\n",
       "    </tr>\n",
       "    <tr>\n",
       "      <th>1268</th>\n",
       "      <td>3</td>\n",
       "      <td>Graduate</td>\n",
       "      <td>Yes</td>\n",
       "      <td>2200000</td>\n",
       "      <td>5300000</td>\n",
       "      <td>2</td>\n",
       "      <td>506</td>\n",
       "      <td>1600000.0</td>\n",
       "      <td>1700000.0</td>\n",
       "      <td>5800000</td>\n",
       "      <td>2800000.0</td>\n",
       "    </tr>\n",
       "    <tr>\n",
       "      <th>2283</th>\n",
       "      <td>1</td>\n",
       "      <td>Not Graduate</td>\n",
       "      <td>Yes</td>\n",
       "      <td>2000000</td>\n",
       "      <td>6600000</td>\n",
       "      <td>10</td>\n",
       "      <td>873</td>\n",
       "      <td>1400000.0</td>\n",
       "      <td>200000.0</td>\n",
       "      <td>6300000</td>\n",
       "      <td>2400000.0</td>\n",
       "    </tr>\n",
       "    <tr>\n",
       "      <th>2338</th>\n",
       "      <td>5</td>\n",
       "      <td>Graduate</td>\n",
       "      <td>No</td>\n",
       "      <td>6100000</td>\n",
       "      <td>20700000</td>\n",
       "      <td>20</td>\n",
       "      <td>482</td>\n",
       "      <td>9400000.0</td>\n",
       "      <td>2000000.0</td>\n",
       "      <td>16900000</td>\n",
       "      <td>5900000.0</td>\n",
       "    </tr>\n",
       "  </tbody>\n",
       "</table>\n",
       "</div>"
      ],
      "text/plain": [
       "      no_of_dependents     education self_employed  income_annum  loan_amount  \\\n",
       "2047                 1  Not Graduate           Yes       4300000      9400000   \n",
       "4002                 1      Graduate            No       4600000     12700000   \n",
       "1268                 3      Graduate           Yes       2200000      5300000   \n",
       "2283                 1  Not Graduate           Yes       2000000      6600000   \n",
       "2338                 5      Graduate            No       6100000     20700000   \n",
       "\n",
       "      loan_term  cibil_score  residential_assets_value  \\\n",
       "2047          6          543                 7400000.0   \n",
       "4002          8          468                10400000.0   \n",
       "1268          2          506                 1600000.0   \n",
       "2283         10          873                 1400000.0   \n",
       "2338         20          482                 9400000.0   \n",
       "\n",
       "      commercial_assets_value  luxury_assets_value  bank_asset_value  \n",
       "2047                5200000.0             14800000         4200000.0  \n",
       "4002                      0.0             14500000         3900000.0  \n",
       "1268                1700000.0              5800000         2800000.0  \n",
       "2283                 200000.0              6300000         2400000.0  \n",
       "2338                2000000.0             16900000         5900000.0  "
      ]
     },
     "execution_count": 22,
     "metadata": {},
     "output_type": "execute_result"
    }
   ],
   "source": [
    "x_train.head()"
   ]
  },
  {
   "cell_type": "code",
   "execution_count": 23,
   "id": "00130cc2",
   "metadata": {},
   "outputs": [],
   "source": [
    "ohe=OneHotEncoder()\n",
    "rs=RobustScaler()"
   ]
  },
  {
   "cell_type": "code",
   "execution_count": 24,
   "id": "092446b8",
   "metadata": {},
   "outputs": [
    {
     "data": {
      "text/plain": [
       "list[['no_of_dependents', 'income_annum', 'loan_amount', 'loan_term', 'cibil_score', 'residential_assets_value', 'commercial_assets_value', 'luxury_assets_value', 'bank_asset_value']]"
      ]
     },
     "execution_count": 24,
     "metadata": {},
     "output_type": "execute_result"
    }
   ],
   "source": [
    "list[numerical]"
   ]
  },
  {
   "cell_type": "code",
   "execution_count": 25,
   "id": "14544731",
   "metadata": {},
   "outputs": [
    {
     "data": {
      "text/plain": [
       "list[['education', 'self_employed', 'loan_status']]"
      ]
     },
     "execution_count": 25,
     "metadata": {},
     "output_type": "execute_result"
    }
   ],
   "source": [
    "list[categorical]"
   ]
  },
  {
   "cell_type": "code",
   "execution_count": 26,
   "id": "4ef7b781",
   "metadata": {},
   "outputs": [],
   "source": [
    "col_trans=ColumnTransformer(transformers=[('ohe',OneHotEncoder(drop='first',handle_unknown='ignore'),\n",
    "                                          ['education', 'self_employed']),('rs',RobustScaler(),numerical)],\n",
    "                           remainder='passthrough')"
   ]
  },
  {
   "cell_type": "code",
   "execution_count": 27,
   "id": "a7eb4668",
   "metadata": {},
   "outputs": [
    {
     "data": {
      "text/html": [
       "<style>#sk-container-id-1 {color: black;}#sk-container-id-1 pre{padding: 0;}#sk-container-id-1 div.sk-toggleable {background-color: white;}#sk-container-id-1 label.sk-toggleable__label {cursor: pointer;display: block;width: 100%;margin-bottom: 0;padding: 0.3em;box-sizing: border-box;text-align: center;}#sk-container-id-1 label.sk-toggleable__label-arrow:before {content: \"▸\";float: left;margin-right: 0.25em;color: #696969;}#sk-container-id-1 label.sk-toggleable__label-arrow:hover:before {color: black;}#sk-container-id-1 div.sk-estimator:hover label.sk-toggleable__label-arrow:before {color: black;}#sk-container-id-1 div.sk-toggleable__content {max-height: 0;max-width: 0;overflow: hidden;text-align: left;background-color: #f0f8ff;}#sk-container-id-1 div.sk-toggleable__content pre {margin: 0.2em;color: black;border-radius: 0.25em;background-color: #f0f8ff;}#sk-container-id-1 input.sk-toggleable__control:checked~div.sk-toggleable__content {max-height: 200px;max-width: 100%;overflow: auto;}#sk-container-id-1 input.sk-toggleable__control:checked~label.sk-toggleable__label-arrow:before {content: \"▾\";}#sk-container-id-1 div.sk-estimator input.sk-toggleable__control:checked~label.sk-toggleable__label {background-color: #d4ebff;}#sk-container-id-1 div.sk-label input.sk-toggleable__control:checked~label.sk-toggleable__label {background-color: #d4ebff;}#sk-container-id-1 input.sk-hidden--visually {border: 0;clip: rect(1px 1px 1px 1px);clip: rect(1px, 1px, 1px, 1px);height: 1px;margin: -1px;overflow: hidden;padding: 0;position: absolute;width: 1px;}#sk-container-id-1 div.sk-estimator {font-family: monospace;background-color: #f0f8ff;border: 1px dotted black;border-radius: 0.25em;box-sizing: border-box;margin-bottom: 0.5em;}#sk-container-id-1 div.sk-estimator:hover {background-color: #d4ebff;}#sk-container-id-1 div.sk-parallel-item::after {content: \"\";width: 100%;border-bottom: 1px solid gray;flex-grow: 1;}#sk-container-id-1 div.sk-label:hover label.sk-toggleable__label {background-color: #d4ebff;}#sk-container-id-1 div.sk-serial::before {content: \"\";position: absolute;border-left: 1px solid gray;box-sizing: border-box;top: 0;bottom: 0;left: 50%;z-index: 0;}#sk-container-id-1 div.sk-serial {display: flex;flex-direction: column;align-items: center;background-color: white;padding-right: 0.2em;padding-left: 0.2em;position: relative;}#sk-container-id-1 div.sk-item {position: relative;z-index: 1;}#sk-container-id-1 div.sk-parallel {display: flex;align-items: stretch;justify-content: center;background-color: white;position: relative;}#sk-container-id-1 div.sk-item::before, #sk-container-id-1 div.sk-parallel-item::before {content: \"\";position: absolute;border-left: 1px solid gray;box-sizing: border-box;top: 0;bottom: 0;left: 50%;z-index: -1;}#sk-container-id-1 div.sk-parallel-item {display: flex;flex-direction: column;z-index: 1;position: relative;background-color: white;}#sk-container-id-1 div.sk-parallel-item:first-child::after {align-self: flex-end;width: 50%;}#sk-container-id-1 div.sk-parallel-item:last-child::after {align-self: flex-start;width: 50%;}#sk-container-id-1 div.sk-parallel-item:only-child::after {width: 0;}#sk-container-id-1 div.sk-dashed-wrapped {border: 1px dashed gray;margin: 0 0.4em 0.5em 0.4em;box-sizing: border-box;padding-bottom: 0.4em;background-color: white;}#sk-container-id-1 div.sk-label label {font-family: monospace;font-weight: bold;display: inline-block;line-height: 1.2em;}#sk-container-id-1 div.sk-label-container {text-align: center;}#sk-container-id-1 div.sk-container {/* jupyter's `normalize.less` sets `[hidden] { display: none; }` but bootstrap.min.css set `[hidden] { display: none !important; }` so we also need the `!important` here to be able to override the default hidden behavior on the sphinx rendered scikit-learn.org. See: https://github.com/scikit-learn/scikit-learn/issues/21755 */display: inline-block !important;position: relative;}#sk-container-id-1 div.sk-text-repr-fallback {display: none;}</style><div id=\"sk-container-id-1\" class=\"sk-top-container\"><div class=\"sk-text-repr-fallback\"><pre>ColumnTransformer(remainder=&#x27;passthrough&#x27;,\n",
       "                  transformers=[(&#x27;ohe&#x27;,\n",
       "                                 OneHotEncoder(drop=&#x27;first&#x27;,\n",
       "                                               handle_unknown=&#x27;ignore&#x27;),\n",
       "                                 [&#x27;education&#x27;, &#x27;self_employed&#x27;]),\n",
       "                                (&#x27;rs&#x27;, RobustScaler(),\n",
       "                                 [&#x27;no_of_dependents&#x27;, &#x27;income_annum&#x27;,\n",
       "                                  &#x27;loan_amount&#x27;, &#x27;loan_term&#x27;, &#x27;cibil_score&#x27;,\n",
       "                                  &#x27;residential_assets_value&#x27;,\n",
       "                                  &#x27;commercial_assets_value&#x27;,\n",
       "                                  &#x27;luxury_assets_value&#x27;, &#x27;bank_asset_value&#x27;])])</pre><b>In a Jupyter environment, please rerun this cell to show the HTML representation or trust the notebook. <br />On GitHub, the HTML representation is unable to render, please try loading this page with nbviewer.org.</b></div><div class=\"sk-container\" hidden><div class=\"sk-item sk-dashed-wrapped\"><div class=\"sk-label-container\"><div class=\"sk-label sk-toggleable\"><input class=\"sk-toggleable__control sk-hidden--visually\" id=\"sk-estimator-id-1\" type=\"checkbox\" ><label for=\"sk-estimator-id-1\" class=\"sk-toggleable__label sk-toggleable__label-arrow\">ColumnTransformer</label><div class=\"sk-toggleable__content\"><pre>ColumnTransformer(remainder=&#x27;passthrough&#x27;,\n",
       "                  transformers=[(&#x27;ohe&#x27;,\n",
       "                                 OneHotEncoder(drop=&#x27;first&#x27;,\n",
       "                                               handle_unknown=&#x27;ignore&#x27;),\n",
       "                                 [&#x27;education&#x27;, &#x27;self_employed&#x27;]),\n",
       "                                (&#x27;rs&#x27;, RobustScaler(),\n",
       "                                 [&#x27;no_of_dependents&#x27;, &#x27;income_annum&#x27;,\n",
       "                                  &#x27;loan_amount&#x27;, &#x27;loan_term&#x27;, &#x27;cibil_score&#x27;,\n",
       "                                  &#x27;residential_assets_value&#x27;,\n",
       "                                  &#x27;commercial_assets_value&#x27;,\n",
       "                                  &#x27;luxury_assets_value&#x27;, &#x27;bank_asset_value&#x27;])])</pre></div></div></div><div class=\"sk-parallel\"><div class=\"sk-parallel-item\"><div class=\"sk-item\"><div class=\"sk-label-container\"><div class=\"sk-label sk-toggleable\"><input class=\"sk-toggleable__control sk-hidden--visually\" id=\"sk-estimator-id-2\" type=\"checkbox\" ><label for=\"sk-estimator-id-2\" class=\"sk-toggleable__label sk-toggleable__label-arrow\">ohe</label><div class=\"sk-toggleable__content\"><pre>[&#x27;education&#x27;, &#x27;self_employed&#x27;]</pre></div></div></div><div class=\"sk-serial\"><div class=\"sk-item\"><div class=\"sk-estimator sk-toggleable\"><input class=\"sk-toggleable__control sk-hidden--visually\" id=\"sk-estimator-id-3\" type=\"checkbox\" ><label for=\"sk-estimator-id-3\" class=\"sk-toggleable__label sk-toggleable__label-arrow\">OneHotEncoder</label><div class=\"sk-toggleable__content\"><pre>OneHotEncoder(drop=&#x27;first&#x27;, handle_unknown=&#x27;ignore&#x27;)</pre></div></div></div></div></div></div><div class=\"sk-parallel-item\"><div class=\"sk-item\"><div class=\"sk-label-container\"><div class=\"sk-label sk-toggleable\"><input class=\"sk-toggleable__control sk-hidden--visually\" id=\"sk-estimator-id-4\" type=\"checkbox\" ><label for=\"sk-estimator-id-4\" class=\"sk-toggleable__label sk-toggleable__label-arrow\">rs</label><div class=\"sk-toggleable__content\"><pre>[&#x27;no_of_dependents&#x27;, &#x27;income_annum&#x27;, &#x27;loan_amount&#x27;, &#x27;loan_term&#x27;, &#x27;cibil_score&#x27;, &#x27;residential_assets_value&#x27;, &#x27;commercial_assets_value&#x27;, &#x27;luxury_assets_value&#x27;, &#x27;bank_asset_value&#x27;]</pre></div></div></div><div class=\"sk-serial\"><div class=\"sk-item\"><div class=\"sk-estimator sk-toggleable\"><input class=\"sk-toggleable__control sk-hidden--visually\" id=\"sk-estimator-id-5\" type=\"checkbox\" ><label for=\"sk-estimator-id-5\" class=\"sk-toggleable__label sk-toggleable__label-arrow\">RobustScaler</label><div class=\"sk-toggleable__content\"><pre>RobustScaler()</pre></div></div></div></div></div></div><div class=\"sk-parallel-item\"><div class=\"sk-item\"><div class=\"sk-label-container\"><div class=\"sk-label sk-toggleable\"><input class=\"sk-toggleable__control sk-hidden--visually\" id=\"sk-estimator-id-6\" type=\"checkbox\" ><label for=\"sk-estimator-id-6\" class=\"sk-toggleable__label sk-toggleable__label-arrow\">remainder</label><div class=\"sk-toggleable__content\"><pre></pre></div></div></div><div class=\"sk-serial\"><div class=\"sk-item\"><div class=\"sk-estimator sk-toggleable\"><input class=\"sk-toggleable__control sk-hidden--visually\" id=\"sk-estimator-id-7\" type=\"checkbox\" ><label for=\"sk-estimator-id-7\" class=\"sk-toggleable__label sk-toggleable__label-arrow\">passthrough</label><div class=\"sk-toggleable__content\"><pre>passthrough</pre></div></div></div></div></div></div></div></div></div></div>"
      ],
      "text/plain": [
       "ColumnTransformer(remainder='passthrough',\n",
       "                  transformers=[('ohe',\n",
       "                                 OneHotEncoder(drop='first',\n",
       "                                               handle_unknown='ignore'),\n",
       "                                 ['education', 'self_employed']),\n",
       "                                ('rs', RobustScaler(),\n",
       "                                 ['no_of_dependents', 'income_annum',\n",
       "                                  'loan_amount', 'loan_term', 'cibil_score',\n",
       "                                  'residential_assets_value',\n",
       "                                  'commercial_assets_value',\n",
       "                                  'luxury_assets_value', 'bank_asset_value'])])"
      ]
     },
     "execution_count": 27,
     "metadata": {},
     "output_type": "execute_result"
    }
   ],
   "source": [
    "col_trans"
   ]
  },
  {
   "cell_type": "code",
   "execution_count": 28,
   "id": "29e8b8d2",
   "metadata": {},
   "outputs": [],
   "source": [
    "x_train_enc=col_trans.fit_transform(x_train)"
   ]
  },
  {
   "cell_type": "code",
   "execution_count": 29,
   "id": "a691886a",
   "metadata": {},
   "outputs": [],
   "source": [
    "x_train_enc=pd.DataFrame(x_train_enc,columns=col_trans.get_feature_names_out())"
   ]
  },
  {
   "cell_type": "code",
   "execution_count": 30,
   "id": "351b5568",
   "metadata": {},
   "outputs": [
    {
     "data": {
      "text/html": [
       "<div>\n",
       "<style scoped>\n",
       "    .dataframe tbody tr th:only-of-type {\n",
       "        vertical-align: middle;\n",
       "    }\n",
       "\n",
       "    .dataframe tbody tr th {\n",
       "        vertical-align: top;\n",
       "    }\n",
       "\n",
       "    .dataframe thead th {\n",
       "        text-align: right;\n",
       "    }\n",
       "</style>\n",
       "<table border=\"1\" class=\"dataframe\">\n",
       "  <thead>\n",
       "    <tr style=\"text-align: right;\">\n",
       "      <th></th>\n",
       "      <th>ohe__education_Not Graduate</th>\n",
       "      <th>ohe__self_employed_Yes</th>\n",
       "      <th>rs__no_of_dependents</th>\n",
       "      <th>rs__income_annum</th>\n",
       "      <th>rs__loan_amount</th>\n",
       "      <th>rs__loan_term</th>\n",
       "      <th>rs__cibil_score</th>\n",
       "      <th>rs__residential_assets_value</th>\n",
       "      <th>rs__commercial_assets_value</th>\n",
       "      <th>rs__luxury_assets_value</th>\n",
       "      <th>rs__bank_asset_value</th>\n",
       "    </tr>\n",
       "  </thead>\n",
       "  <tbody>\n",
       "    <tr>\n",
       "      <th>0</th>\n",
       "      <td>1.0</td>\n",
       "      <td>1.0</td>\n",
       "      <td>-0.666667</td>\n",
       "      <td>-0.16</td>\n",
       "      <td>-0.386525</td>\n",
       "      <td>-0.4</td>\n",
       "      <td>-0.178451</td>\n",
       "      <td>0.184282</td>\n",
       "      <td>0.217899</td>\n",
       "      <td>-0.006993</td>\n",
       "      <td>-0.083333</td>\n",
       "    </tr>\n",
       "    <tr>\n",
       "      <th>1</th>\n",
       "      <td>0.0</td>\n",
       "      <td>0.0</td>\n",
       "      <td>-0.666667</td>\n",
       "      <td>-0.10</td>\n",
       "      <td>-0.152482</td>\n",
       "      <td>-0.2</td>\n",
       "      <td>-0.430976</td>\n",
       "      <td>0.509485</td>\n",
       "      <td>-0.591440</td>\n",
       "      <td>-0.027972</td>\n",
       "      <td>-0.145833</td>\n",
       "    </tr>\n",
       "    <tr>\n",
       "      <th>2</th>\n",
       "      <td>0.0</td>\n",
       "      <td>1.0</td>\n",
       "      <td>0.000000</td>\n",
       "      <td>-0.58</td>\n",
       "      <td>-0.677305</td>\n",
       "      <td>-0.8</td>\n",
       "      <td>-0.303030</td>\n",
       "      <td>-0.444444</td>\n",
       "      <td>-0.326848</td>\n",
       "      <td>-0.636364</td>\n",
       "      <td>-0.375000</td>\n",
       "    </tr>\n",
       "    <tr>\n",
       "      <th>3</th>\n",
       "      <td>1.0</td>\n",
       "      <td>1.0</td>\n",
       "      <td>-0.666667</td>\n",
       "      <td>-0.62</td>\n",
       "      <td>-0.585106</td>\n",
       "      <td>0.0</td>\n",
       "      <td>0.932660</td>\n",
       "      <td>-0.466125</td>\n",
       "      <td>-0.560311</td>\n",
       "      <td>-0.601399</td>\n",
       "      <td>-0.458333</td>\n",
       "    </tr>\n",
       "    <tr>\n",
       "      <th>4</th>\n",
       "      <td>0.0</td>\n",
       "      <td>0.0</td>\n",
       "      <td>0.666667</td>\n",
       "      <td>0.20</td>\n",
       "      <td>0.414894</td>\n",
       "      <td>1.0</td>\n",
       "      <td>-0.383838</td>\n",
       "      <td>0.401084</td>\n",
       "      <td>-0.280156</td>\n",
       "      <td>0.139860</td>\n",
       "      <td>0.270833</td>\n",
       "    </tr>\n",
       "  </tbody>\n",
       "</table>\n",
       "</div>"
      ],
      "text/plain": [
       "   ohe__education_Not Graduate  ohe__self_employed_Yes  rs__no_of_dependents  \\\n",
       "0                          1.0                     1.0             -0.666667   \n",
       "1                          0.0                     0.0             -0.666667   \n",
       "2                          0.0                     1.0              0.000000   \n",
       "3                          1.0                     1.0             -0.666667   \n",
       "4                          0.0                     0.0              0.666667   \n",
       "\n",
       "   rs__income_annum  rs__loan_amount  rs__loan_term  rs__cibil_score  \\\n",
       "0             -0.16        -0.386525           -0.4        -0.178451   \n",
       "1             -0.10        -0.152482           -0.2        -0.430976   \n",
       "2             -0.58        -0.677305           -0.8        -0.303030   \n",
       "3             -0.62        -0.585106            0.0         0.932660   \n",
       "4              0.20         0.414894            1.0        -0.383838   \n",
       "\n",
       "   rs__residential_assets_value  rs__commercial_assets_value  \\\n",
       "0                      0.184282                     0.217899   \n",
       "1                      0.509485                    -0.591440   \n",
       "2                     -0.444444                    -0.326848   \n",
       "3                     -0.466125                    -0.560311   \n",
       "4                      0.401084                    -0.280156   \n",
       "\n",
       "   rs__luxury_assets_value  rs__bank_asset_value  \n",
       "0                -0.006993             -0.083333  \n",
       "1                -0.027972             -0.145833  \n",
       "2                -0.636364             -0.375000  \n",
       "3                -0.601399             -0.458333  \n",
       "4                 0.139860              0.270833  "
      ]
     },
     "execution_count": 30,
     "metadata": {},
     "output_type": "execute_result"
    }
   ],
   "source": [
    "x_train_enc.head()"
   ]
  },
  {
   "cell_type": "code",
   "execution_count": 31,
   "id": "4c646e92",
   "metadata": {},
   "outputs": [],
   "source": [
    "x_train_enc.columns=x_train.columns"
   ]
  },
  {
   "cell_type": "code",
   "execution_count": 32,
   "id": "6ab6e66f",
   "metadata": {},
   "outputs": [
    {
     "data": {
      "text/html": [
       "<div>\n",
       "<style scoped>\n",
       "    .dataframe tbody tr th:only-of-type {\n",
       "        vertical-align: middle;\n",
       "    }\n",
       "\n",
       "    .dataframe tbody tr th {\n",
       "        vertical-align: top;\n",
       "    }\n",
       "\n",
       "    .dataframe thead th {\n",
       "        text-align: right;\n",
       "    }\n",
       "</style>\n",
       "<table border=\"1\" class=\"dataframe\">\n",
       "  <thead>\n",
       "    <tr style=\"text-align: right;\">\n",
       "      <th></th>\n",
       "      <th>no_of_dependents</th>\n",
       "      <th>education</th>\n",
       "      <th>self_employed</th>\n",
       "      <th>income_annum</th>\n",
       "      <th>loan_amount</th>\n",
       "      <th>loan_term</th>\n",
       "      <th>cibil_score</th>\n",
       "      <th>residential_assets_value</th>\n",
       "      <th>commercial_assets_value</th>\n",
       "      <th>luxury_assets_value</th>\n",
       "      <th>bank_asset_value</th>\n",
       "    </tr>\n",
       "  </thead>\n",
       "  <tbody>\n",
       "    <tr>\n",
       "      <th>0</th>\n",
       "      <td>1.0</td>\n",
       "      <td>1.0</td>\n",
       "      <td>-0.666667</td>\n",
       "      <td>-0.16</td>\n",
       "      <td>-0.386525</td>\n",
       "      <td>-0.4</td>\n",
       "      <td>-0.178451</td>\n",
       "      <td>0.184282</td>\n",
       "      <td>0.217899</td>\n",
       "      <td>-0.006993</td>\n",
       "      <td>-0.083333</td>\n",
       "    </tr>\n",
       "    <tr>\n",
       "      <th>1</th>\n",
       "      <td>0.0</td>\n",
       "      <td>0.0</td>\n",
       "      <td>-0.666667</td>\n",
       "      <td>-0.10</td>\n",
       "      <td>-0.152482</td>\n",
       "      <td>-0.2</td>\n",
       "      <td>-0.430976</td>\n",
       "      <td>0.509485</td>\n",
       "      <td>-0.591440</td>\n",
       "      <td>-0.027972</td>\n",
       "      <td>-0.145833</td>\n",
       "    </tr>\n",
       "    <tr>\n",
       "      <th>2</th>\n",
       "      <td>0.0</td>\n",
       "      <td>1.0</td>\n",
       "      <td>0.000000</td>\n",
       "      <td>-0.58</td>\n",
       "      <td>-0.677305</td>\n",
       "      <td>-0.8</td>\n",
       "      <td>-0.303030</td>\n",
       "      <td>-0.444444</td>\n",
       "      <td>-0.326848</td>\n",
       "      <td>-0.636364</td>\n",
       "      <td>-0.375000</td>\n",
       "    </tr>\n",
       "    <tr>\n",
       "      <th>3</th>\n",
       "      <td>1.0</td>\n",
       "      <td>1.0</td>\n",
       "      <td>-0.666667</td>\n",
       "      <td>-0.62</td>\n",
       "      <td>-0.585106</td>\n",
       "      <td>0.0</td>\n",
       "      <td>0.932660</td>\n",
       "      <td>-0.466125</td>\n",
       "      <td>-0.560311</td>\n",
       "      <td>-0.601399</td>\n",
       "      <td>-0.458333</td>\n",
       "    </tr>\n",
       "    <tr>\n",
       "      <th>4</th>\n",
       "      <td>0.0</td>\n",
       "      <td>0.0</td>\n",
       "      <td>0.666667</td>\n",
       "      <td>0.20</td>\n",
       "      <td>0.414894</td>\n",
       "      <td>1.0</td>\n",
       "      <td>-0.383838</td>\n",
       "      <td>0.401084</td>\n",
       "      <td>-0.280156</td>\n",
       "      <td>0.139860</td>\n",
       "      <td>0.270833</td>\n",
       "    </tr>\n",
       "  </tbody>\n",
       "</table>\n",
       "</div>"
      ],
      "text/plain": [
       "   no_of_dependents  education  self_employed  income_annum  loan_amount  \\\n",
       "0               1.0        1.0      -0.666667         -0.16    -0.386525   \n",
       "1               0.0        0.0      -0.666667         -0.10    -0.152482   \n",
       "2               0.0        1.0       0.000000         -0.58    -0.677305   \n",
       "3               1.0        1.0      -0.666667         -0.62    -0.585106   \n",
       "4               0.0        0.0       0.666667          0.20     0.414894   \n",
       "\n",
       "   loan_term  cibil_score  residential_assets_value  commercial_assets_value  \\\n",
       "0       -0.4    -0.178451                  0.184282                 0.217899   \n",
       "1       -0.2    -0.430976                  0.509485                -0.591440   \n",
       "2       -0.8    -0.303030                 -0.444444                -0.326848   \n",
       "3        0.0     0.932660                 -0.466125                -0.560311   \n",
       "4        1.0    -0.383838                  0.401084                -0.280156   \n",
       "\n",
       "   luxury_assets_value  bank_asset_value  \n",
       "0            -0.006993         -0.083333  \n",
       "1            -0.027972         -0.145833  \n",
       "2            -0.636364         -0.375000  \n",
       "3            -0.601399         -0.458333  \n",
       "4             0.139860          0.270833  "
      ]
     },
     "execution_count": 32,
     "metadata": {},
     "output_type": "execute_result"
    }
   ],
   "source": [
    "x_train_enc.head()"
   ]
  },
  {
   "cell_type": "code",
   "execution_count": null,
   "id": "2ab272e1",
   "metadata": {},
   "outputs": [],
   "source": []
  },
  {
   "cell_type": "markdown",
   "id": "a68f8d10",
   "metadata": {},
   "source": [
    "# <center>Incoding y_train<center>"
   ]
  },
  {
   "cell_type": "code",
   "execution_count": 33,
   "id": "d131d78b",
   "metadata": {},
   "outputs": [
    {
     "data": {
      "text/plain": [
       "2047    Rejected\n",
       "4002    Rejected\n",
       "1268    Rejected\n",
       "2283    Approved\n",
       "2338    Rejected\n",
       "          ...   \n",
       "1122    Rejected\n",
       "1573    Approved\n",
       "2001    Rejected\n",
       "1599    Approved\n",
       "692     Approved\n",
       "Name: loan_status, Length: 2988, dtype: object"
      ]
     },
     "execution_count": 33,
     "metadata": {},
     "output_type": "execute_result"
    }
   ],
   "source": [
    "y_train"
   ]
  },
  {
   "cell_type": "code",
   "execution_count": 34,
   "id": "387cc331",
   "metadata": {},
   "outputs": [],
   "source": [
    "le=LabelEncoder()"
   ]
  },
  {
   "cell_type": "code",
   "execution_count": 35,
   "id": "c49cc459",
   "metadata": {},
   "outputs": [
    {
     "data": {
      "text/plain": [
       "array([1, 1, 1, ..., 1, 0, 0])"
      ]
     },
     "execution_count": 35,
     "metadata": {},
     "output_type": "execute_result"
    }
   ],
   "source": [
    "y_train=le.fit_transform(y_train)\n",
    "y_train"
   ]
  },
  {
   "cell_type": "code",
   "execution_count": null,
   "id": "a5aa5aed",
   "metadata": {},
   "outputs": [],
   "source": []
  },
  {
   "cell_type": "markdown",
   "id": "832e1e67",
   "metadata": {},
   "source": [
    "# <center>====Incoding and Scaling testing data====<center>"
   ]
  },
  {
   "cell_type": "code",
   "execution_count": 36,
   "id": "4ac7e241",
   "metadata": {},
   "outputs": [
    {
     "data": {
      "text/html": [
       "<div>\n",
       "<style scoped>\n",
       "    .dataframe tbody tr th:only-of-type {\n",
       "        vertical-align: middle;\n",
       "    }\n",
       "\n",
       "    .dataframe tbody tr th {\n",
       "        vertical-align: top;\n",
       "    }\n",
       "\n",
       "    .dataframe thead th {\n",
       "        text-align: right;\n",
       "    }\n",
       "</style>\n",
       "<table border=\"1\" class=\"dataframe\">\n",
       "  <thead>\n",
       "    <tr style=\"text-align: right;\">\n",
       "      <th></th>\n",
       "      <th>no_of_dependents</th>\n",
       "      <th>education</th>\n",
       "      <th>self_employed</th>\n",
       "      <th>income_annum</th>\n",
       "      <th>loan_amount</th>\n",
       "      <th>loan_term</th>\n",
       "      <th>cibil_score</th>\n",
       "      <th>residential_assets_value</th>\n",
       "      <th>commercial_assets_value</th>\n",
       "      <th>luxury_assets_value</th>\n",
       "      <th>bank_asset_value</th>\n",
       "    </tr>\n",
       "  </thead>\n",
       "  <tbody>\n",
       "    <tr>\n",
       "      <th>391</th>\n",
       "      <td>5</td>\n",
       "      <td>Graduate</td>\n",
       "      <td>Yes</td>\n",
       "      <td>2400000</td>\n",
       "      <td>8700000</td>\n",
       "      <td>18</td>\n",
       "      <td>877</td>\n",
       "      <td>2800000.0</td>\n",
       "      <td>2900000.0</td>\n",
       "      <td>7100000</td>\n",
       "      <td>1100000.0</td>\n",
       "    </tr>\n",
       "    <tr>\n",
       "      <th>1123</th>\n",
       "      <td>0</td>\n",
       "      <td>Not Graduate</td>\n",
       "      <td>No</td>\n",
       "      <td>9100000</td>\n",
       "      <td>18300000</td>\n",
       "      <td>14</td>\n",
       "      <td>458</td>\n",
       "      <td>6100000.0</td>\n",
       "      <td>9200000.0</td>\n",
       "      <td>34100000</td>\n",
       "      <td>10000000.0</td>\n",
       "    </tr>\n",
       "    <tr>\n",
       "      <th>869</th>\n",
       "      <td>3</td>\n",
       "      <td>Graduate</td>\n",
       "      <td>No</td>\n",
       "      <td>6600000</td>\n",
       "      <td>22100000</td>\n",
       "      <td>4</td>\n",
       "      <td>455</td>\n",
       "      <td>3800000.0</td>\n",
       "      <td>3000000.0</td>\n",
       "      <td>25100000</td>\n",
       "      <td>7400000.0</td>\n",
       "    </tr>\n",
       "    <tr>\n",
       "      <th>749</th>\n",
       "      <td>4</td>\n",
       "      <td>Not Graduate</td>\n",
       "      <td>No</td>\n",
       "      <td>5700000</td>\n",
       "      <td>19600000</td>\n",
       "      <td>8</td>\n",
       "      <td>691</td>\n",
       "      <td>8800000.0</td>\n",
       "      <td>2200000.0</td>\n",
       "      <td>12100000</td>\n",
       "      <td>3000000.0</td>\n",
       "    </tr>\n",
       "    <tr>\n",
       "      <th>3386</th>\n",
       "      <td>1</td>\n",
       "      <td>Not Graduate</td>\n",
       "      <td>No</td>\n",
       "      <td>6900000</td>\n",
       "      <td>20900000</td>\n",
       "      <td>4</td>\n",
       "      <td>574</td>\n",
       "      <td>3200000.0</td>\n",
       "      <td>1800000.0</td>\n",
       "      <td>25000000</td>\n",
       "      <td>5200000.0</td>\n",
       "    </tr>\n",
       "  </tbody>\n",
       "</table>\n",
       "</div>"
      ],
      "text/plain": [
       "      no_of_dependents     education self_employed  income_annum  loan_amount  \\\n",
       "391                  5      Graduate           Yes       2400000      8700000   \n",
       "1123                 0  Not Graduate            No       9100000     18300000   \n",
       "869                  3      Graduate            No       6600000     22100000   \n",
       "749                  4  Not Graduate            No       5700000     19600000   \n",
       "3386                 1  Not Graduate            No       6900000     20900000   \n",
       "\n",
       "      loan_term  cibil_score  residential_assets_value  \\\n",
       "391          18          877                 2800000.0   \n",
       "1123         14          458                 6100000.0   \n",
       "869           4          455                 3800000.0   \n",
       "749           8          691                 8800000.0   \n",
       "3386          4          574                 3200000.0   \n",
       "\n",
       "      commercial_assets_value  luxury_assets_value  bank_asset_value  \n",
       "391                 2900000.0              7100000         1100000.0  \n",
       "1123                9200000.0             34100000        10000000.0  \n",
       "869                 3000000.0             25100000         7400000.0  \n",
       "749                 2200000.0             12100000         3000000.0  \n",
       "3386                1800000.0             25000000         5200000.0  "
      ]
     },
     "execution_count": 36,
     "metadata": {},
     "output_type": "execute_result"
    }
   ],
   "source": [
    "x_test.head()"
   ]
  },
  {
   "cell_type": "code",
   "execution_count": 37,
   "id": "21952a9e",
   "metadata": {},
   "outputs": [],
   "source": [
    "x_test_enc=col_trans.transform(x_test)"
   ]
  },
  {
   "cell_type": "code",
   "execution_count": 38,
   "id": "105362b9",
   "metadata": {},
   "outputs": [],
   "source": [
    "x_test_enc=pd.DataFrame(x_test_enc,columns=col_trans.get_feature_names_out())"
   ]
  },
  {
   "cell_type": "code",
   "execution_count": 39,
   "id": "3154e4f2",
   "metadata": {},
   "outputs": [
    {
     "data": {
      "text/html": [
       "<div>\n",
       "<style scoped>\n",
       "    .dataframe tbody tr th:only-of-type {\n",
       "        vertical-align: middle;\n",
       "    }\n",
       "\n",
       "    .dataframe tbody tr th {\n",
       "        vertical-align: top;\n",
       "    }\n",
       "\n",
       "    .dataframe thead th {\n",
       "        text-align: right;\n",
       "    }\n",
       "</style>\n",
       "<table border=\"1\" class=\"dataframe\">\n",
       "  <thead>\n",
       "    <tr style=\"text-align: right;\">\n",
       "      <th></th>\n",
       "      <th>ohe__education_Not Graduate</th>\n",
       "      <th>ohe__self_employed_Yes</th>\n",
       "      <th>rs__no_of_dependents</th>\n",
       "      <th>rs__income_annum</th>\n",
       "      <th>rs__loan_amount</th>\n",
       "      <th>rs__loan_term</th>\n",
       "      <th>rs__cibil_score</th>\n",
       "      <th>rs__residential_assets_value</th>\n",
       "      <th>rs__commercial_assets_value</th>\n",
       "      <th>rs__luxury_assets_value</th>\n",
       "      <th>rs__bank_asset_value</th>\n",
       "    </tr>\n",
       "  </thead>\n",
       "  <tbody>\n",
       "    <tr>\n",
       "      <th>0</th>\n",
       "      <td>0.0</td>\n",
       "      <td>1.0</td>\n",
       "      <td>0.666667</td>\n",
       "      <td>-0.54</td>\n",
       "      <td>-0.436170</td>\n",
       "      <td>0.8</td>\n",
       "      <td>0.946128</td>\n",
       "      <td>-0.314363</td>\n",
       "      <td>-0.140078</td>\n",
       "      <td>-0.545455</td>\n",
       "      <td>-0.729167</td>\n",
       "    </tr>\n",
       "    <tr>\n",
       "      <th>1</th>\n",
       "      <td>1.0</td>\n",
       "      <td>0.0</td>\n",
       "      <td>-1.000000</td>\n",
       "      <td>0.80</td>\n",
       "      <td>0.244681</td>\n",
       "      <td>0.4</td>\n",
       "      <td>-0.464646</td>\n",
       "      <td>0.043360</td>\n",
       "      <td>0.840467</td>\n",
       "      <td>1.342657</td>\n",
       "      <td>1.125000</td>\n",
       "    </tr>\n",
       "    <tr>\n",
       "      <th>2</th>\n",
       "      <td>0.0</td>\n",
       "      <td>0.0</td>\n",
       "      <td>0.000000</td>\n",
       "      <td>0.30</td>\n",
       "      <td>0.514184</td>\n",
       "      <td>-0.6</td>\n",
       "      <td>-0.474747</td>\n",
       "      <td>-0.205962</td>\n",
       "      <td>-0.124514</td>\n",
       "      <td>0.713287</td>\n",
       "      <td>0.583333</td>\n",
       "    </tr>\n",
       "    <tr>\n",
       "      <th>3</th>\n",
       "      <td>1.0</td>\n",
       "      <td>0.0</td>\n",
       "      <td>0.333333</td>\n",
       "      <td>0.12</td>\n",
       "      <td>0.336879</td>\n",
       "      <td>-0.2</td>\n",
       "      <td>0.319865</td>\n",
       "      <td>0.336043</td>\n",
       "      <td>-0.249027</td>\n",
       "      <td>-0.195804</td>\n",
       "      <td>-0.333333</td>\n",
       "    </tr>\n",
       "    <tr>\n",
       "      <th>4</th>\n",
       "      <td>1.0</td>\n",
       "      <td>0.0</td>\n",
       "      <td>-0.666667</td>\n",
       "      <td>0.36</td>\n",
       "      <td>0.429078</td>\n",
       "      <td>-0.6</td>\n",
       "      <td>-0.074074</td>\n",
       "      <td>-0.271003</td>\n",
       "      <td>-0.311284</td>\n",
       "      <td>0.706294</td>\n",
       "      <td>0.125000</td>\n",
       "    </tr>\n",
       "  </tbody>\n",
       "</table>\n",
       "</div>"
      ],
      "text/plain": [
       "   ohe__education_Not Graduate  ohe__self_employed_Yes  rs__no_of_dependents  \\\n",
       "0                          0.0                     1.0              0.666667   \n",
       "1                          1.0                     0.0             -1.000000   \n",
       "2                          0.0                     0.0              0.000000   \n",
       "3                          1.0                     0.0              0.333333   \n",
       "4                          1.0                     0.0             -0.666667   \n",
       "\n",
       "   rs__income_annum  rs__loan_amount  rs__loan_term  rs__cibil_score  \\\n",
       "0             -0.54        -0.436170            0.8         0.946128   \n",
       "1              0.80         0.244681            0.4        -0.464646   \n",
       "2              0.30         0.514184           -0.6        -0.474747   \n",
       "3              0.12         0.336879           -0.2         0.319865   \n",
       "4              0.36         0.429078           -0.6        -0.074074   \n",
       "\n",
       "   rs__residential_assets_value  rs__commercial_assets_value  \\\n",
       "0                     -0.314363                    -0.140078   \n",
       "1                      0.043360                     0.840467   \n",
       "2                     -0.205962                    -0.124514   \n",
       "3                      0.336043                    -0.249027   \n",
       "4                     -0.271003                    -0.311284   \n",
       "\n",
       "   rs__luxury_assets_value  rs__bank_asset_value  \n",
       "0                -0.545455             -0.729167  \n",
       "1                 1.342657              1.125000  \n",
       "2                 0.713287              0.583333  \n",
       "3                -0.195804             -0.333333  \n",
       "4                 0.706294              0.125000  "
      ]
     },
     "execution_count": 39,
     "metadata": {},
     "output_type": "execute_result"
    }
   ],
   "source": [
    "x_test_enc.head()"
   ]
  },
  {
   "cell_type": "code",
   "execution_count": 40,
   "id": "34709008",
   "metadata": {},
   "outputs": [],
   "source": [
    "x_test_enc.columns=x_test.columns"
   ]
  },
  {
   "cell_type": "code",
   "execution_count": 41,
   "id": "5ed4bdb1",
   "metadata": {},
   "outputs": [
    {
     "data": {
      "text/html": [
       "<div>\n",
       "<style scoped>\n",
       "    .dataframe tbody tr th:only-of-type {\n",
       "        vertical-align: middle;\n",
       "    }\n",
       "\n",
       "    .dataframe tbody tr th {\n",
       "        vertical-align: top;\n",
       "    }\n",
       "\n",
       "    .dataframe thead th {\n",
       "        text-align: right;\n",
       "    }\n",
       "</style>\n",
       "<table border=\"1\" class=\"dataframe\">\n",
       "  <thead>\n",
       "    <tr style=\"text-align: right;\">\n",
       "      <th></th>\n",
       "      <th>no_of_dependents</th>\n",
       "      <th>education</th>\n",
       "      <th>self_employed</th>\n",
       "      <th>income_annum</th>\n",
       "      <th>loan_amount</th>\n",
       "      <th>loan_term</th>\n",
       "      <th>cibil_score</th>\n",
       "      <th>residential_assets_value</th>\n",
       "      <th>commercial_assets_value</th>\n",
       "      <th>luxury_assets_value</th>\n",
       "      <th>bank_asset_value</th>\n",
       "    </tr>\n",
       "  </thead>\n",
       "  <tbody>\n",
       "    <tr>\n",
       "      <th>0</th>\n",
       "      <td>0.0</td>\n",
       "      <td>1.0</td>\n",
       "      <td>0.666667</td>\n",
       "      <td>-0.54</td>\n",
       "      <td>-0.436170</td>\n",
       "      <td>0.8</td>\n",
       "      <td>0.946128</td>\n",
       "      <td>-0.314363</td>\n",
       "      <td>-0.140078</td>\n",
       "      <td>-0.545455</td>\n",
       "      <td>-0.729167</td>\n",
       "    </tr>\n",
       "    <tr>\n",
       "      <th>1</th>\n",
       "      <td>1.0</td>\n",
       "      <td>0.0</td>\n",
       "      <td>-1.000000</td>\n",
       "      <td>0.80</td>\n",
       "      <td>0.244681</td>\n",
       "      <td>0.4</td>\n",
       "      <td>-0.464646</td>\n",
       "      <td>0.043360</td>\n",
       "      <td>0.840467</td>\n",
       "      <td>1.342657</td>\n",
       "      <td>1.125000</td>\n",
       "    </tr>\n",
       "    <tr>\n",
       "      <th>2</th>\n",
       "      <td>0.0</td>\n",
       "      <td>0.0</td>\n",
       "      <td>0.000000</td>\n",
       "      <td>0.30</td>\n",
       "      <td>0.514184</td>\n",
       "      <td>-0.6</td>\n",
       "      <td>-0.474747</td>\n",
       "      <td>-0.205962</td>\n",
       "      <td>-0.124514</td>\n",
       "      <td>0.713287</td>\n",
       "      <td>0.583333</td>\n",
       "    </tr>\n",
       "    <tr>\n",
       "      <th>3</th>\n",
       "      <td>1.0</td>\n",
       "      <td>0.0</td>\n",
       "      <td>0.333333</td>\n",
       "      <td>0.12</td>\n",
       "      <td>0.336879</td>\n",
       "      <td>-0.2</td>\n",
       "      <td>0.319865</td>\n",
       "      <td>0.336043</td>\n",
       "      <td>-0.249027</td>\n",
       "      <td>-0.195804</td>\n",
       "      <td>-0.333333</td>\n",
       "    </tr>\n",
       "    <tr>\n",
       "      <th>4</th>\n",
       "      <td>1.0</td>\n",
       "      <td>0.0</td>\n",
       "      <td>-0.666667</td>\n",
       "      <td>0.36</td>\n",
       "      <td>0.429078</td>\n",
       "      <td>-0.6</td>\n",
       "      <td>-0.074074</td>\n",
       "      <td>-0.271003</td>\n",
       "      <td>-0.311284</td>\n",
       "      <td>0.706294</td>\n",
       "      <td>0.125000</td>\n",
       "    </tr>\n",
       "  </tbody>\n",
       "</table>\n",
       "</div>"
      ],
      "text/plain": [
       "   no_of_dependents  education  self_employed  income_annum  loan_amount  \\\n",
       "0               0.0        1.0       0.666667         -0.54    -0.436170   \n",
       "1               1.0        0.0      -1.000000          0.80     0.244681   \n",
       "2               0.0        0.0       0.000000          0.30     0.514184   \n",
       "3               1.0        0.0       0.333333          0.12     0.336879   \n",
       "4               1.0        0.0      -0.666667          0.36     0.429078   \n",
       "\n",
       "   loan_term  cibil_score  residential_assets_value  commercial_assets_value  \\\n",
       "0        0.8     0.946128                 -0.314363                -0.140078   \n",
       "1        0.4    -0.464646                  0.043360                 0.840467   \n",
       "2       -0.6    -0.474747                 -0.205962                -0.124514   \n",
       "3       -0.2     0.319865                  0.336043                -0.249027   \n",
       "4       -0.6    -0.074074                 -0.271003                -0.311284   \n",
       "\n",
       "   luxury_assets_value  bank_asset_value  \n",
       "0            -0.545455         -0.729167  \n",
       "1             1.342657          1.125000  \n",
       "2             0.713287          0.583333  \n",
       "3            -0.195804         -0.333333  \n",
       "4             0.706294          0.125000  "
      ]
     },
     "execution_count": 41,
     "metadata": {},
     "output_type": "execute_result"
    }
   ],
   "source": [
    "x_test_enc.head()"
   ]
  },
  {
   "cell_type": "code",
   "execution_count": null,
   "id": "fa2cf37b",
   "metadata": {},
   "outputs": [],
   "source": []
  },
  {
   "cell_type": "markdown",
   "id": "edee9377",
   "metadata": {},
   "source": [
    "# <center>Incoding y_test<center>"
   ]
  },
  {
   "cell_type": "code",
   "execution_count": 42,
   "id": "0e576723",
   "metadata": {},
   "outputs": [
    {
     "data": {
      "text/plain": [
       "391     Approved\n",
       "1123    Rejected\n",
       "869     Approved\n",
       "749     Approved\n",
       "3386    Approved\n",
       "          ...   \n",
       "3878    Approved\n",
       "3209    Approved\n",
       "2136    Approved\n",
       "3331    Approved\n",
       "3581    Rejected\n",
       "Name: loan_status, Length: 1281, dtype: object"
      ]
     },
     "execution_count": 42,
     "metadata": {},
     "output_type": "execute_result"
    }
   ],
   "source": [
    "y_test"
   ]
  },
  {
   "cell_type": "code",
   "execution_count": 44,
   "id": "58c8f817",
   "metadata": {},
   "outputs": [],
   "source": [
    "y_test=le.transform(y_test)"
   ]
  },
  {
   "cell_type": "code",
   "execution_count": 45,
   "id": "0ba2aa6b",
   "metadata": {},
   "outputs": [
    {
     "data": {
      "text/plain": [
       "array([0, 1, 0, ..., 0, 0, 1])"
      ]
     },
     "execution_count": 45,
     "metadata": {},
     "output_type": "execute_result"
    }
   ],
   "source": [
    "y_test"
   ]
  },
  {
   "cell_type": "code",
   "execution_count": null,
   "id": "ef41a0fe",
   "metadata": {},
   "outputs": [],
   "source": []
  },
  {
   "cell_type": "markdown",
   "id": "401a4c8c",
   "metadata": {},
   "source": [
    "# <center>====Building Model====</center>"
   ]
  },
  {
   "cell_type": "code",
   "execution_count": 49,
   "id": "8a58febb",
   "metadata": {},
   "outputs": [],
   "source": [
    "log=LogisticRegression()"
   ]
  },
  {
   "cell_type": "code",
   "execution_count": 51,
   "id": "7dd7825b",
   "metadata": {},
   "outputs": [
    {
     "data": {
      "text/html": [
       "<style>#sk-container-id-2 {color: black;}#sk-container-id-2 pre{padding: 0;}#sk-container-id-2 div.sk-toggleable {background-color: white;}#sk-container-id-2 label.sk-toggleable__label {cursor: pointer;display: block;width: 100%;margin-bottom: 0;padding: 0.3em;box-sizing: border-box;text-align: center;}#sk-container-id-2 label.sk-toggleable__label-arrow:before {content: \"▸\";float: left;margin-right: 0.25em;color: #696969;}#sk-container-id-2 label.sk-toggleable__label-arrow:hover:before {color: black;}#sk-container-id-2 div.sk-estimator:hover label.sk-toggleable__label-arrow:before {color: black;}#sk-container-id-2 div.sk-toggleable__content {max-height: 0;max-width: 0;overflow: hidden;text-align: left;background-color: #f0f8ff;}#sk-container-id-2 div.sk-toggleable__content pre {margin: 0.2em;color: black;border-radius: 0.25em;background-color: #f0f8ff;}#sk-container-id-2 input.sk-toggleable__control:checked~div.sk-toggleable__content {max-height: 200px;max-width: 100%;overflow: auto;}#sk-container-id-2 input.sk-toggleable__control:checked~label.sk-toggleable__label-arrow:before {content: \"▾\";}#sk-container-id-2 div.sk-estimator input.sk-toggleable__control:checked~label.sk-toggleable__label {background-color: #d4ebff;}#sk-container-id-2 div.sk-label input.sk-toggleable__control:checked~label.sk-toggleable__label {background-color: #d4ebff;}#sk-container-id-2 input.sk-hidden--visually {border: 0;clip: rect(1px 1px 1px 1px);clip: rect(1px, 1px, 1px, 1px);height: 1px;margin: -1px;overflow: hidden;padding: 0;position: absolute;width: 1px;}#sk-container-id-2 div.sk-estimator {font-family: monospace;background-color: #f0f8ff;border: 1px dotted black;border-radius: 0.25em;box-sizing: border-box;margin-bottom: 0.5em;}#sk-container-id-2 div.sk-estimator:hover {background-color: #d4ebff;}#sk-container-id-2 div.sk-parallel-item::after {content: \"\";width: 100%;border-bottom: 1px solid gray;flex-grow: 1;}#sk-container-id-2 div.sk-label:hover label.sk-toggleable__label {background-color: #d4ebff;}#sk-container-id-2 div.sk-serial::before {content: \"\";position: absolute;border-left: 1px solid gray;box-sizing: border-box;top: 0;bottom: 0;left: 50%;z-index: 0;}#sk-container-id-2 div.sk-serial {display: flex;flex-direction: column;align-items: center;background-color: white;padding-right: 0.2em;padding-left: 0.2em;position: relative;}#sk-container-id-2 div.sk-item {position: relative;z-index: 1;}#sk-container-id-2 div.sk-parallel {display: flex;align-items: stretch;justify-content: center;background-color: white;position: relative;}#sk-container-id-2 div.sk-item::before, #sk-container-id-2 div.sk-parallel-item::before {content: \"\";position: absolute;border-left: 1px solid gray;box-sizing: border-box;top: 0;bottom: 0;left: 50%;z-index: -1;}#sk-container-id-2 div.sk-parallel-item {display: flex;flex-direction: column;z-index: 1;position: relative;background-color: white;}#sk-container-id-2 div.sk-parallel-item:first-child::after {align-self: flex-end;width: 50%;}#sk-container-id-2 div.sk-parallel-item:last-child::after {align-self: flex-start;width: 50%;}#sk-container-id-2 div.sk-parallel-item:only-child::after {width: 0;}#sk-container-id-2 div.sk-dashed-wrapped {border: 1px dashed gray;margin: 0 0.4em 0.5em 0.4em;box-sizing: border-box;padding-bottom: 0.4em;background-color: white;}#sk-container-id-2 div.sk-label label {font-family: monospace;font-weight: bold;display: inline-block;line-height: 1.2em;}#sk-container-id-2 div.sk-label-container {text-align: center;}#sk-container-id-2 div.sk-container {/* jupyter's `normalize.less` sets `[hidden] { display: none; }` but bootstrap.min.css set `[hidden] { display: none !important; }` so we also need the `!important` here to be able to override the default hidden behavior on the sphinx rendered scikit-learn.org. See: https://github.com/scikit-learn/scikit-learn/issues/21755 */display: inline-block !important;position: relative;}#sk-container-id-2 div.sk-text-repr-fallback {display: none;}</style><div id=\"sk-container-id-2\" class=\"sk-top-container\"><div class=\"sk-text-repr-fallback\"><pre>LogisticRegression()</pre><b>In a Jupyter environment, please rerun this cell to show the HTML representation or trust the notebook. <br />On GitHub, the HTML representation is unable to render, please try loading this page with nbviewer.org.</b></div><div class=\"sk-container\" hidden><div class=\"sk-item\"><div class=\"sk-estimator sk-toggleable\"><input class=\"sk-toggleable__control sk-hidden--visually\" id=\"sk-estimator-id-8\" type=\"checkbox\" checked><label for=\"sk-estimator-id-8\" class=\"sk-toggleable__label sk-toggleable__label-arrow\">LogisticRegression</label><div class=\"sk-toggleable__content\"><pre>LogisticRegression()</pre></div></div></div></div></div>"
      ],
      "text/plain": [
       "LogisticRegression()"
      ]
     },
     "execution_count": 51,
     "metadata": {},
     "output_type": "execute_result"
    }
   ],
   "source": [
    "log.fit(x_train_enc,y_train)"
   ]
  },
  {
   "cell_type": "code",
   "execution_count": 53,
   "id": "4e784977",
   "metadata": {},
   "outputs": [
    {
     "data": {
      "text/plain": [
       "array([0, 1, 1, ..., 0, 0, 1])"
      ]
     },
     "execution_count": 53,
     "metadata": {},
     "output_type": "execute_result"
    }
   ],
   "source": [
    "y_pred=log.predict(x_test_enc)\n",
    "y_pred"
   ]
  },
  {
   "cell_type": "code",
   "execution_count": 54,
   "id": "a7e4cca7",
   "metadata": {},
   "outputs": [
    {
     "data": {
      "text/plain": [
       "array([0, 1, 0, ..., 0, 0, 1])"
      ]
     },
     "execution_count": 54,
     "metadata": {},
     "output_type": "execute_result"
    }
   ],
   "source": [
    "y_test"
   ]
  },
  {
   "cell_type": "code",
   "execution_count": 60,
   "id": "16fddeaf",
   "metadata": {},
   "outputs": [
    {
     "data": {
      "text/plain": [
       "8.665105386416862"
      ]
     },
     "execution_count": 60,
     "metadata": {},
     "output_type": "execute_result"
    }
   ],
   "source": [
    "score=mean_squared_error(y_test,y_pred)*100\n",
    "score"
   ]
  },
  {
   "cell_type": "code",
   "execution_count": 64,
   "id": "e4b02ebb",
   "metadata": {},
   "outputs": [
    {
     "data": {
      "text/plain": [
       "6.301732209737828"
      ]
     },
     "execution_count": 64,
     "metadata": {},
     "output_type": "execute_result"
    }
   ],
   "source": [
    "score1=r2_score(y_test,y_pred)*10\n",
    "score1"
   ]
  },
  {
   "cell_type": "code",
   "execution_count": 65,
   "id": "1053d0e4",
   "metadata": {},
   "outputs": [
    {
     "data": {
      "text/plain": [
       "0.6818783160030332"
      ]
     },
     "execution_count": 65,
     "metadata": {},
     "output_type": "execute_result"
    }
   ],
   "source": [
    "score3=adjusted_rand_score(y_test,y_pred)\n",
    "score3"
   ]
  },
  {
   "cell_type": "code",
   "execution_count": null,
   "id": "7afc8ca7",
   "metadata": {},
   "outputs": [],
   "source": []
  }
 ],
 "metadata": {
  "kernelspec": {
   "display_name": "Python 3 (ipykernel)",
   "language": "python",
   "name": "python3"
  },
  "language_info": {
   "codemirror_mode": {
    "name": "ipython",
    "version": 3
   },
   "file_extension": ".py",
   "mimetype": "text/x-python",
   "name": "python",
   "nbconvert_exporter": "python",
   "pygments_lexer": "ipython3",
   "version": "3.11.5"
  }
 },
 "nbformat": 4,
 "nbformat_minor": 5
}
